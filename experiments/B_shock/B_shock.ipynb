{
 "cells": [
  {
   "cell_type": "code",
   "execution_count": 2,
   "metadata": {},
   "outputs": [
    {
     "data": {
      "text/plain": [
       "find_real_units_HL (generic function with 1 method)"
      ]
     },
     "metadata": {},
     "output_type": "display_data"
    }
   ],
   "source": [
    "using Plots\n",
    "using QuadGK\n",
    "using NLopt\n",
    "#using SpecialFunctions\n",
    "using NLsolve\n",
    "using Statistics\n",
    "include(\"../../scaling_HL.jl\")\n",
    "include(\"../../code_to_real.jl\")"
   ]
  },
  {
   "cell_type": "code",
   "execution_count": 3,
   "metadata": {},
   "outputs": [
    {
     "name": "stdout",
     "output_type": "stream",
     "text": [
      "debye_per_ds = 6.478999049915373\n",
      "beta = 0.0055193841947406026 \n",
      "\n",
      "lenght                 = 90.4885163194706\n",
      "number_density         = 1.0e9\n",
      "B                      = 5.001453703253804\n",
      "T                      = 1.0e6\n",
      "\n",
      "length_scale           = 90.4885163194706\n",
      "mass_density_scale     = 1.7395267739199998e-15\n",
      "time_scale             = 3.018372007192742e-8\n",
      "temperature_scale      = 1.0\n",
      "\n",
      "e_mass_scale           = 73.4461069504027\n",
      "charge_scaling         = 1.0\n",
      "eps_0_scaling          = 100.0\n",
      "mu_0_scaling           = 1.0\n",
      "\n",
      " Maxwell Lorents Factors used in code:\n",
      " k_E =                                             =  7.9577e-02 \n",
      " k_B =                                             =  7.9577e-02 \n",
      " k_F =                                             =  1.0000e+00 \n",
      " k_D =                                             =  1.0000e+00 \n",
      " k_M =                                             =  1.0000e+00 \n",
      " k_H =                                             =  1.0000e+00 \n",
      "\n",
      " Macro particle weights:\n",
      "                          ds =                     =  1.5625e-02 \n",
      "                    per_cell =                     =  1.2800e+02 \n",
      "               weight_scaled =                     =  2.2082e+07 \n",
      " weight_scaled_mass_electron =                     =  1.1462e-09 \n",
      "   weight_scaled_mass_proton =                     =  2.8656e-08 \n",
      "        weight_scaled_charge =                     =  3.6723e-08 \n",
      "                 rho_n_ratio =                     =  7.4094e+14 \n",
      "\n",
      " Fundamental physical constants:\n",
      "        Gravitational Constant [ cm^3 g^-1 s^-2 ]  =  6.6743e-08  6.3099e+29  1.0577e-37\n",
      "          Boltzmann's Constant [ erg K^-1 ]        =  1.3806e-16  1.1584e+10  1.1919e-26\n",
      "             Planck's Constant [ erg s ]           =  6.6261e-27  3.4964e+02  1.8951e-29\n",
      "              Atomic Mass Unit [ g ]               =  1.6605e-24  1.2889e-09  1.2884e-15\n",
      "                   Proton Mass [ g ]               =  1.6726e-24  1.2889e-09  1.2977e-15\n",
      "                 Electron Mass [ g ]               =  6.6905e-26  1.2889e-09  5.1909e-17\n",
      "             Elementary Charge [ StatC ]           =  1.7027e-09  1.0238e+06  1.6631e-15\n",
      "           Vacuum Permittivity [ s^2 cm^-2 ]       =  1.1127e-19  1.1127e-19  1.0000e+00\n",
      "           Vacuum Permeability [  ]                =  1.0000e+00  1.0000e+00  1.0000e+00\n",
      "                Speed of Light [ cm/s ]            =  2.9979e+09  2.9979e+09  1.0000e+00\n",
      "                 Electron Volt [ erg ]             =  1.6022e-12  1.1584e+10  1.3831e-22\n",
      "         Mean molecular weight [ ]                 =  5.2378e-01  1.0000e+00  5.2378e-01\n",
      "\n",
      " Defining Constants:\n",
      "                 Number Desity [ cm^3 ]            =  1.0000e+09  1.3496e-06  7.4094e+14\n",
      "         Characteristic Length [ cm ]              =  9.0489e+01  9.0489e+01  1.0000e+00\n",
      "                   Temperature [ K ]               =  1.0000e+06  1.0000e+00  1.0000e+06\n",
      "          Electron Temperature [ K ]               =  1.0000e+06  1.0000e+00  1.0000e+06\n",
      "            Proton Temperature [ K ]               =  1.0000e+06  1.0000e+00  1.0000e+06\n",
      "        Magnetic Flux Strength [ G ]               =  5.0015e+00  1.2504e+02  4.0000e-02\n",
      "\n",
      " Velocities:\n",
      "       Characteristic velocity [ cm s^-1 ]         =  1.1992e+08  2.9979e+09  4.0000e-02\n",
      "               Alfven velocity [ cm s^-1 ]         =  1.1982e+08  2.9979e+09  3.9968e-02\n",
      "     electron thermal velocity [ cm s^-1 ]         =  4.5427e+07  2.9979e+09  1.5153e-02\n",
      "       proton thermal velocity [ cm s^-1 ]         =  9.0854e+06  2.9979e+09  3.0306e-03\n",
      "\n",
      " Frequencies:\n",
      "     electron gyro frequency   [ rad s^-1 ]        =  4.2457e+07  3.3130e+07  1.2815e+00\n",
      "       proton gyro frequency   [ rad s^-1 ]        =  1.6983e+06  3.3130e+07  5.1261e-02\n",
      "     electron plasma frequency [ rad s^-1 ]        =  2.0816e+08  3.3130e+07  6.2832e+00\n",
      "       proton plasma frequency [ rad s^-1 ]        =  4.1633e+07  3.3130e+07  1.2566e+00\n",
      "\n",
      " Lengths:\n",
      "           electron skin depth [ cm ]              =  1.4402e+01  9.0489e+01  1.5915e-01\n",
      "             proton skin depth [ cm ]              =  7.2008e+01  9.0489e+01  7.9577e-01\n",
      "                 debye Length  [ cm ]              =  2.1823e-01  9.0489e+01  2.4116e-03\n",
      "       inter particle distance [ cm ]              =  1.0000e-03  9.0489e+01  1.1051e-05\n",
      "          electron gyro radius [ cm ]              =  1.0699e+00  9.0489e+01  1.1824e-02\n",
      "            proton gyro radius [ cm ]              =  5.3497e+00  9.0489e+01  5.9120e-02\n",
      "\n",
      " Other:\n",
      "                  Mass density [ g cm^-3 ]         =  1.7395e-15  1.7395e-15  1.0000e+00\n",
      "           Characteristic mass [ g ]               =  1.2889e-09  1.2889e-09  1.0000e+00\n",
      "          Characteristic time  [ s ]               =  7.5459e-07  3.0184e-08  2.5000e+01\n",
      " Characteristic kinetic energy [ erg ]             =  1.8534e+07  1.1584e+10  1.6000e-03\n",
      "               energy per mass [ erg g^-1]         =  1.4380e+16  8.9876e+18  1.6000e-03\n",
      "             energy per volume [ erg cm^-3]        =  2.5015e+01  1.5634e+04  1.6000e-03\n",
      "      Characteristic  pressure [ Ba ]              =  2.7613e-01  1.5634e+04  1.7662e-05\n"
     ]
    }
   ],
   "source": [
    "#---------- Double current sheet setup ----------\n",
    "base = BaseUnits(\"HL\")\n",
    "\n",
    "electron_proton_mass_ratio = 25.0\n",
    "\n",
    "electron_mass_scaling = (base.m_p / base.m_e) / electron_proton_mass_ratio\n",
    "charge_scaling = 1e0 #1e-5\n",
    "eps_0_scaling = 1e2\n",
    "mu_0_scaling = 1e0\n",
    "\n",
    "scale_base_units(base, eps_0_scaling, mu_0_scaling, electron_mass_scaling, charge_scaling)\n",
    "\n",
    "\n",
    "length = 1e0 #720.0847332647692\n",
    "number_density= 1e9 #6.44179e10\n",
    "B_flux= 5.001453703253804 #22.222\n",
    "temperature   = 1.0e6\n",
    "temperature_e = temperature\n",
    "temperature_p = temperature\n",
    "\n",
    "\n",
    "\n",
    "mu = ( (base.m_e + base.m_p)  / 2. ) /  base.m_u# assuming only protons and electrons\n",
    "mass_density = number_density * 2 * mu * base.m_u\n",
    "e_plasma = base.e * sqrt( number_density / base.m_e)\n",
    "\n",
    "\n",
    "\n",
    "#----------- These always sets the following code units --------------\n",
    "#            rho=1, c=1, e_plasma=2pi\n",
    "mass_density_scale = mass_density\n",
    "time_scale         = 2 * pi / e_plasma\n",
    "length_scale       = base.c * time_scale#\n",
    "temperature_scale  = 1e0\n",
    "#----------------------------------------------------------------------\n",
    "\n",
    "length = length_scale\n",
    "\n",
    "\n",
    "scaling = ScalingHL(base,\n",
    "                number_density, length, temperature, temperature_e, temperature_p, B_flux,\n",
    "                length_scale, mass_density_scale, time_scale, temperature_scale)\n",
    "ds = 4 / (16 * 16 )\n",
    "per_cell = 128\n",
    "\n",
    "set_macro_particle_weights(scaling, ds, per_cell);\n",
    "beta = scaling.pressure_real / scaling.B_flux_real^2 / (2 * scaling.mu_0_real)\n",
    "\n",
    "debye_per_ds = ds / scaling.debye_len_code\n",
    "\n",
    "println(\"debye_per_ds = \", debye_per_ds)\n",
    "println(\"beta = \", beta, \" \\n\")\n",
    "\n",
    "print_basic_info(scaling)\n",
    "print_all_HL(scaling)"
   ]
  },
  {
   "cell_type": "code",
   "execution_count": 11,
   "metadata": {},
   "outputs": [
    {
     "data": {
      "text/plain": [
       "1.0"
      ]
     },
     "metadata": {},
     "output_type": "display_data"
    }
   ],
   "source": [
    "rho = 1\n",
    "\n",
    "\n",
    "rho_e = rho / (electron_proton_mass_ratio + 1)\n",
    "rho_p = electron_proton_mass_ratio * rho /  ( (electron_proton_mass_ratio + 1))\n",
    "\n",
    "\n",
    "rho_p + rho_e"
   ]
  },
  {
   "cell_type": "markdown",
   "metadata": {},
   "source": []
  },
  {
   "cell_type": "markdown",
   "metadata": {},
   "source": []
  }
 ],
 "metadata": {
  "kernelspec": {
   "display_name": "Julia 1.8.5",
   "language": "julia",
   "name": "julia-1.8"
  },
  "language_info": {
   "file_extension": ".jl",
   "mimetype": "application/julia",
   "name": "julia",
   "version": "1.8.5"
  }
 },
 "nbformat": 4,
 "nbformat_minor": 2
}
