{
 "cells": [
  {
   "cell_type": "code",
   "execution_count": 14,
   "metadata": {},
   "outputs": [
    {
     "data": {
      "text/plain": [
       "find_real_units_HL (generic function with 2 methods)"
      ]
     },
     "metadata": {},
     "output_type": "display_data"
    }
   ],
   "source": [
    "using Plots\n",
    "using QuadGK\n",
    "using NLopt\n",
    "#using SpecialFunctions\n",
    "using NLsolve\n",
    "using Statistics\n",
    "#include(\"../../scaling_CGS.jl\")\n",
    "include(\"../../code_to_real.jl\")"
   ]
  },
  {
   "cell_type": "code",
   "execution_count": 15,
   "metadata": {},
   "outputs": [
    {
     "name": "stdout",
     "output_type": "stream",
     "text": [
      "lenght                 = 72.00847332647693\n",
      "number_density         = 1.0e9\n",
      "B                      = 6.281802035524741\n",
      "T                      = 1.1432609021598859e7\n",
      "\n",
      "length_scale           = 72.00847332647693\n",
      "mass_density_scale     = 1.7562529929e-15\n",
      "time_scale             = 2.401944125174654e-8\n",
      "temperature_scale      = 1.0\n",
      "\n",
      "e_mass_scale           = 91.80763368800336\n",
      "charge_scaling         = 1.0\n",
      "eps_0_scaling          = 100.0\n",
      "mu_0_scaling           = 1.0\n",
      "\n",
      " Maxwell Lorents Factors used in code:\n",
      " k_E =                                             =  7.9577e-02 \n",
      " k_B =                                             =  7.9577e-02 \n",
      " k_F =                                             =  1.0000e+00 \n",
      " k_D =                                             =  1.0000e+00 \n",
      " k_M =                                             =  1.0000e+00 \n",
      " k_H =                                             =  1.0000e+00 \n",
      "\n",
      " Macro particle weights:\n",
      "                          ds =                     =  1.0000e-01 \n",
      "                    per_cell =                     =  1.0240e+03 \n",
      "               weight_scaled =                     =  3.6463e+11 \n",
      " weight_scaled_mass_electron =                     =  4.6503e-05 \n",
      "   weight_scaled_mass_proton =                     =  9.3006e-04 \n",
      "        weight_scaled_charge =                     =  9.5303e-04 \n",
      "                 rho_n_ratio =                     =  3.7338e+14 \n",
      "\n",
      " Fundamental physical constants:\n",
      "        Gravitational Constant [ cm^3 g^-1 s^-2 ]  =  6.6743e-08  9.8693e+29  6.7627e-38\n",
      "          Boltzmann's Constant [ erg K^-1 ]        =  1.3806e-16  5.8936e+09  2.3426e-26\n",
      "             Planck's Constant [ erg s ]           =  6.6261e-27  1.4156e+02  4.6807e-29\n",
      "              Atomic Mass Unit [ g ]               =  1.6605e-24  6.5575e-10  2.5323e-15\n",
      "                   Proton Mass [ g ]               =  1.6726e-24  6.5575e-10  2.5507e-15\n",
      "                 Electron Mass [ g ]               =  8.3631e-26  6.5575e-10  1.2754e-16\n",
      "             Elementary Charge [ StatC ]           =  1.7027e-09  6.5145e+05  2.6137e-15\n",
      "           Vacuum Permittivity [ s^2 cm^-2 ]       =  1.1127e-19  1.1127e-19  1.0000e+00\n",
      "           Vacuum Permeability [  ]                =  1.0000e+00  1.0000e+00  1.0000e+00\n",
      "                Speed of Light [ cm/s ]            =  2.9979e+09  2.9979e+09  1.0000e+00\n",
      "                 Electron Volt [ erg ]             =  1.6022e-12  5.8936e+09  2.7185e-22\n",
      "         Mean molecular weight [ ]                 =  5.2882e-01  1.0000e+00  5.2882e-01\n",
      "\n",
      " Defining Constants:\n",
      "                 Number Desity [ cm^3 ]            =  1.0000e+09  2.6782e-06  3.7338e+14\n",
      "         Characteristic Length [ cm ]              =  7.2008e+01  7.2008e+01  1.0000e+00\n",
      "                   Temperature [ K ]               =  1.1433e+07  1.0000e+00  1.1433e+07\n",
      "          Electron Temperature [ K ]               =  1.1433e+07  1.0000e+00  1.1433e+07\n",
      "            Proton Temperature [ K ]               =  1.1433e+07  1.0000e+00  1.1433e+07\n",
      "        Magnetic Flux Strength [ G ]               =  6.2818e+00  1.2564e+02  5.0000e-02\n",
      "\n",
      " Velocities:\n",
      "       Characteristic velocity [ cm s^-1 ]         =  1.4990e+08  2.9979e+09  5.0000e-02\n",
      "               Alfven velocity [ cm s^-1 ]         =  1.4971e+08  2.9979e+09  4.9938e-02\n",
      "     electron thermal velocity [ cm s^-1 ]         =  1.3738e+08  2.9979e+09  4.5826e-02\n",
      "       proton thermal velocity [ cm s^-1 ]         =  3.0720e+07  2.9979e+09  1.0247e-02\n",
      "\n",
      " Frequencies:\n",
      "     electron gyro frequency   [ rad s^-1 ]        =  4.2661e+07  4.1633e+07  1.0247e+00\n",
      "       proton gyro frequency   [ rad s^-1 ]        =  2.1331e+06  4.1633e+07  5.1235e-02\n",
      "     electron plasma frequency [ rad s^-1 ]        =  1.8619e+08  4.1633e+07  4.4721e+00\n",
      "       proton plasma frequency [ rad s^-1 ]        =  4.1633e+07  4.1633e+07  1.0000e+00\n",
      "\n",
      " Lengths:\n",
      "           electron skin depth [ cm ]              =  1.6102e+01  7.2008e+01  2.2361e-01\n",
      "             proton skin depth [ cm ]              =  7.2008e+01  7.2008e+01  1.0000e+00\n",
      "                 debye Length  [ cm ]              =  7.3787e-01  7.2008e+01  1.0247e-02\n",
      "       inter particle distance [ cm ]              =  1.0000e-03  7.2008e+01  1.3887e-05\n",
      "          electron gyro radius [ cm ]              =  3.2203e+00  7.2008e+01  4.4721e-02\n",
      "            proton gyro radius [ cm ]              =  1.4402e+01  7.2008e+01  2.0000e-01\n",
      "\n",
      " Other:\n",
      "                  Mass density [ g cm^-3 ]         =  1.7563e-15  1.7563e-15  1.0000e+00\n",
      "           Characteristic mass [ g ]               =  6.5575e-10  6.5575e-10  1.0000e+00\n",
      "          Characteristic time  [ s ]               =  4.8039e-07  2.4019e-08  2.0000e+01\n",
      " Characteristic kinetic energy [ erg ]             =  1.4734e+07  5.8936e+09  2.5000e-03\n",
      "               energy per mass [ erg g^-1]         =  2.2469e+16  8.9876e+18  2.5000e-03\n",
      "             energy per volume [ erg cm^-3]        =  3.9461e+01  1.5784e+04  2.5000e-03\n",
      "      Characteristic  pressure [ Ba ]              =  3.1569e+00  1.5784e+04  2.0000e-04\n"
     ]
    }
   ],
   "source": [
    "#-------- From Dahldorf et al. 2014\n",
    "\n",
    "c_code = 1.0\n",
    "B_code = 0.05 #* sqrt(4*pi) # Multiply with sqrt(4*pi) to get it in CGS - they have in Heaviside-Lorentz units\n",
    "p_code = 0.0002\n",
    "rho_code = 1.0\n",
    "debye_code = -1 #/ sqrt(4*pi) # divide with sqrt(4*pi) to get it in CGS - they have in Heaviside-Lorentz units\n",
    "skin_depth_code = 1.0\n",
    "\n",
    "\n",
    "c_u = code_units(c_code, B_code, p_code, rho_code, debye_code, skin_depth_code)\n",
    "\n",
    "number_density_real = 1e9 # Guess \n",
    "\n",
    "\n",
    "r_u = known_real_units(number_density_real)\n",
    "eps_0_scaling = 1e2\n",
    "charge_scaling = 1e0\n",
    "electron_proton_mass_ratio = 20\n",
    "\n",
    "r_s = ratios_and_scaling(electron_proton_mass_ratio, eps_0_scaling, charge_scaling)\n",
    "\n",
    "\n",
    "scaling = find_real_units_HL(c_u, r_u, r_s, true)\n",
    "\n",
    "ds = 0.1\n",
    "per_cell = 1024\n",
    "\n",
    "set_macro_particle_weights(scaling, ds, per_cell)\n",
    "\n",
    "print_basic_info(scaling)\n",
    "print_all_HL(scaling)"
   ]
  },
  {
   "cell_type": "code",
   "execution_count": 19,
   "metadata": {},
   "outputs": [
    {
     "data": {
      "text/plain": [
       "1.0224969437607139"
      ]
     },
     "metadata": {},
     "output_type": "display_data"
    }
   ],
   "source": [
    "gamma = 5/3\n",
    "c_f = sqrt((scaling.B_flux_code^2 + gamma *scaling.pressure_code) / scaling.mass_density_code)\n",
    "\n",
    "\n",
    "Lx = 50\n",
    "kx = 2*pi / Lx\n",
    "Ly = 40\n",
    "ky = 2*pi / Ly\n",
    "\n",
    "k = sqrt(kx^2 + ky^2)\n",
    "\n",
    "omega = c_f * k\n",
    "wave_period = 1 / omega * 2pi\n",
    "\n",
    "600 / wave_period"
   ]
  },
  {
   "cell_type": "code",
   "execution_count": null,
   "metadata": {},
   "outputs": [],
   "source": [
    "1 / (4.4721e+00 / 2pi)"
   ]
  },
  {
   "cell_type": "code",
   "execution_count": null,
   "metadata": {},
   "outputs": [],
   "source": [
    "0.05 / scaling.weight_scaled_charge"
   ]
  },
  {
   "cell_type": "code",
   "execution_count": null,
   "metadata": {},
   "outputs": [],
   "source": [
    "E0 = scaling.B_flux_code / 100\n",
    "\n",
    "v_max = sqrt(2 * E0 / (scaling.m_e_code * scaling.number_density_code) )"
   ]
  },
  {
   "cell_type": "code",
   "execution_count": null,
   "metadata": {},
   "outputs": [],
   "source": [
    "rho = scaling.mass_density_code\n",
    "e_p_ratio = electron_proton_mass_ratio\n",
    "\n",
    "rho_p = rho * e_p_ratio / (1 + e_p_ratio)\n",
    "rho_e = rho / (1 + e_p_ratio)"
   ]
  },
  {
   "cell_type": "code",
   "execution_count": null,
   "metadata": {},
   "outputs": [],
   "source": [
    "E0 = 0.001\n",
    "n = scaling.number_density_code\n",
    "q_e = -1 *  scaling.e_code\n",
    "m = scaling.m_e_code\n",
    "\n",
    "\n",
    "v_max = E0*  sqrt(  1.0 / rho_e)\n",
    "dt_test = pi / (8* scaling.electron_plasma_freq_code)\n",
    "v_test = E0 * q_e/m  * dt_test\n",
    "v_test / v_max\n",
    "\n",
    "\n",
    "t = 0:2.5e-2:4#range(0, stop=2.0, length=n_t)\n",
    "n_t = length(t)\n",
    "dt = t[2] - t[1]\n",
    "v = zeros(n_t)\n",
    "J = zeros(n_t)\n",
    "E = zeros(n_t)\n",
    "v[1] = v_test\n",
    "E[1] = E0\n",
    "\n",
    "for i in 2:n_t\n",
    "    v[i] = v[i-1] + q_e/m * E[i-1] * dt\n",
    "    J[i] = n * q_e * v[i]\n",
    "    E[i] = E[i-1] - J[i] * dt\n",
    "end\n",
    "\n",
    "\n",
    "E_e = E.^2 / 2\n",
    "E_p = 0.5 * n * m * v.^2;"
   ]
  },
  {
   "cell_type": "code",
   "execution_count": null,
   "metadata": {},
   "outputs": [],
   "source": [
    "println(\"v_max = \", v_max)\n",
    "println(\"v_test = \", v_test)\n",
    "println(\"v_test / v_max = \", v_test / v_max)"
   ]
  },
  {
   "cell_type": "code",
   "execution_count": null,
   "metadata": {},
   "outputs": [],
   "source": [
    "plot(t,v, label=\"v\", size=(800,400))\n",
    "plot!(t,E, label=\"E\")\n",
    "vline!([1.404974241895214/4, 1.404974241895214 , 2* 1.404974241895214])\n",
    "hline!([-v_max, -E0, E0, v_max])"
   ]
  },
  {
   "cell_type": "code",
   "execution_count": null,
   "metadata": {},
   "outputs": [],
   "source": [
    "plot(t,E_e, label=\"E_e\")\n",
    "plot!(t,E_p, label=\"E_p\")"
   ]
  },
  {
   "cell_type": "code",
   "execution_count": null,
   "metadata": {},
   "outputs": [],
   "source": [
    "E0 = 0.001\n",
    "n = scaling.number_density_code\n",
    "q_e = -1 *  scaling.e_code\n",
    "m = scaling.m_e_code\n",
    "\n",
    "\n",
    "v_max = E0*  sqrt(  1.0 / rho_e)\n",
    "dt_test = pi / (8* scaling.electron_plasma_freq_code)\n",
    "v_test = E0 * q_e/m  * dt_test\n",
    "v_test / v_max\n",
    "\n",
    "\n",
    "t = 0:2.5e-2:40#range(0, stop=2.0, length=n_t)\n",
    "n_t = length(t)\n",
    "dt = t[2] - t[1]\n",
    "v = zeros(n_t)\n",
    "J = zeros(n_t)\n",
    "E = zeros(n_t)\n",
    "v[1] = v_test*2\n",
    "E[1] = E0\n",
    "\n",
    "for i in 2:n_t\n",
    "    v[i] = v[i-1] + q_e/m * E[i-1] * dt\n",
    "    J[i] = n * q_e * v[i]\n",
    "    E[i] = E[i-1] - J[i] * dt \n",
    "    E[i] = E[i] - E[i] * dt * 0.1\n",
    "end\n",
    "\n",
    "\n",
    "E_e = E.^2 / 2\n",
    "E_p = 0.5 * n * m * v.^2;\n",
    "\n",
    "plot(t,v, label=\"v\", size=(800,400))\n",
    "plot!(t,E, label=\"E\")"
   ]
  }
 ],
 "metadata": {
  "kernelspec": {
   "display_name": "Julia 1.8.5",
   "language": "julia",
   "name": "julia-1.8"
  },
  "language_info": {
   "file_extension": ".jl",
   "mimetype": "application/julia",
   "name": "julia",
   "version": "1.8.5"
  }
 },
 "nbformat": 4,
 "nbformat_minor": 2
}
