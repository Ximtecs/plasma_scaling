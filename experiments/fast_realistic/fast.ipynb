{
 "cells": [
  {
   "cell_type": "code",
   "execution_count": 14,
   "metadata": {},
   "outputs": [
    {
     "data": {
      "text/plain": [
       "find_real_units_HL (generic function with 1 method)"
      ]
     },
     "metadata": {},
     "output_type": "display_data"
    }
   ],
   "source": [
    "using Plots\n",
    "using QuadGK\n",
    "using NLopt\n",
    "#using SpecialFunctions\n",
    "using NLsolve\n",
    "using Statistics\n",
    "#include(\"../../scaling_CGS.jl\")\n",
    "include(\"../../code_to_real.jl\")"
   ]
  },
  {
   "cell_type": "code",
   "execution_count": 23,
   "metadata": {},
   "outputs": [
    {
     "name": "stdout",
     "output_type": "stream",
     "text": [
      "lenght                 = 904.8851631947059\n",
      "number_density         = 1.0e9\n",
      "B                      = 5.0\n",
      "T                      = 1.1067660296613295e7\n",
      "\n",
      "length_scale           = 904.8851631947059\n",
      "mass_density_scale     = 1.7395267739199998e-15\n",
      "time_scale             = 3.018372007192742e-7\n",
      "temperature_scale      = 1.0\n",
      "\n",
      "e_mass_scale           = 73.4461069504027\n",
      "charge_scaling         = 1.0\n",
      "eps_0_scaling          = 100.0\n",
      "mu_0_scaling           = 1.0\n",
      "\n",
      " Maxwell Lorents Factors used in code:\n",
      " k_E =                                             =  7.9577e-02 \n",
      " k_B =                                             =  7.9577e-02 \n",
      " k_F =                                             =  1.0000e+00 \n",
      " k_D =                                             =  1.0000e+00 \n",
      " k_M =                                             =  1.0000e+00 \n",
      " k_H =                                             =  1.0000e+00 \n",
      "\n",
      " Macro particle weights:\n",
      "                          ds =                     =  5.0000e-02 \n",
      "                    per_cell =                     =  1.2800e+02 \n",
      "               weight_scaled =                     =  5.7886e+15 \n",
      " weight_scaled_mass_electron =                     =  3.0048e-04 \n",
      "   weight_scaled_mass_proton =                     =  7.5120e-03 \n",
      "        weight_scaled_charge =                     =  7.6608e-03 \n",
      "                 rho_n_ratio =                     =  7.4094e+17 \n",
      "\n",
      " Fundamental physical constants:\n",
      "        Gravitational Constant [ cm^3 g^-1 s^-2 ]  =  6.6743e-08  6.3099e+27  1.0577e-35\n",
      "          Boltzmann's Constant [ erg K^-1 ]        =  1.3806e-16  1.1584e+13  1.1919e-29\n",
      "             Planck's Constant [ erg s ]           =  6.6261e-27  3.4964e+06  1.8951e-33\n",
      "              Atomic Mass Unit [ g ]               =  1.6605e-24  1.2889e-06  1.2884e-18\n",
      "                   Proton Mass [ g ]               =  1.6726e-24  1.2889e-06  1.2977e-18\n",
      "                 Electron Mass [ g ]               =  6.6905e-26  1.2889e-06  5.1909e-20\n",
      "             Elementary Charge [ StatC ]           =  1.3550e-10  1.0238e+08  1.3234e-18\n",
      "           Vacuum Permittivity [ s^2 cm^-2 ]       =  1.1127e-19  1.1127e-19  1.0000e+00\n",
      "           Vacuum Permeability [  ]                =  1.0000e+00  1.0000e+00  1.0000e+00\n",
      "                Speed of Light [ cm/s ]            =  2.9979e+09  2.9979e+09  1.0000e+00\n",
      "                 Electron Volt [ erg ]             =  1.6022e-12  1.1584e+13  1.3831e-25\n",
      "         Mean molecular weight [ ]                 =  5.2378e-01  1.0000e+00  5.2378e-01\n",
      "\n",
      " Defining Constants:\n",
      "                 Number Desity [ cm^3 ]            =  1.0000e+09  1.3496e-09  7.4094e+17\n",
      "         Characteristic Length [ cm ]              =  9.0489e+02  9.0489e+02  1.0000e+00\n",
      "                   Temperature [ K ]               =  1.1068e+07  1.0000e+00  1.1068e+07\n",
      "          Electron Temperature [ K ]               =  1.1068e+07  1.0000e+00  1.1068e+07\n",
      "            Proton Temperature [ K ]               =  1.1068e+07  1.0000e+00  1.1068e+07\n",
      "        Magnetic Flux Strength [ G ]               =  5.0000e+00  1.2504e+02  3.9988e-02\n",
      "\n",
      " Velocities:\n",
      "       Characteristic velocity [ cm s^-1 ]         =  1.1988e+08  2.9979e+09  3.9988e-02\n",
      "               Alfven velocity [ cm s^-1 ]         =  1.1979e+08  2.9979e+09  3.9956e-02\n",
      "     electron thermal velocity [ cm s^-1 ]         =  1.5113e+08  2.9979e+09  5.0410e-02\n",
      "       proton thermal velocity [ cm s^-1 ]         =  3.0225e+07  2.9979e+09  1.0082e-02\n",
      "\n",
      " Frequencies:\n",
      "     electron gyro frequency   [ rad s^-1 ]        =  3.3777e+06  3.3130e+06  1.0195e+00\n",
      "       proton gyro frequency   [ rad s^-1 ]        =  1.3511e+05  3.3130e+06  4.0780e-02\n",
      "     electron plasma frequency [ rad s^-1 ]        =  1.6565e+07  3.3130e+06  5.0000e+00\n",
      "       proton plasma frequency [ rad s^-1 ]        =  3.3130e+06  3.3130e+06  1.0000e+00\n",
      "\n",
      " Lengths:\n",
      "           electron skin depth [ cm ]              =  1.8098e+02  9.0489e+02  2.0000e-01\n",
      "             proton skin depth [ cm ]              =  9.0489e+02  9.0489e+02  1.0000e+00\n",
      "                 debye Length  [ cm ]              =  9.1231e+00  9.0489e+02  1.0082e-02\n",
      "       inter particle distance [ cm ]              =  1.0000e-03  9.0489e+02  1.1051e-06\n",
      "          electron gyro radius [ cm ]              =  4.4743e+01  9.0489e+02  4.9446e-02\n",
      "            proton gyro radius [ cm ]              =  2.2371e+02  9.0489e+02  2.4723e-01\n",
      "\n",
      " Other:\n",
      "                  Mass density [ g cm^-3 ]         =  1.7395e-15  1.7395e-15  1.0000e+00\n",
      "           Characteristic mass [ g ]               =  1.2889e-06  1.2889e-06  1.0000e+00\n",
      "          Characteristic time  [ s ]               =  7.5481e-06  3.0184e-07  2.5007e+01\n",
      " Characteristic kinetic energy [ erg ]             =  1.8523e+10  1.1584e+13  1.5991e-03\n",
      "               energy per mass [ erg g^-1]         =  1.4372e+16  8.9876e+18  1.5991e-03\n",
      "             energy per volume [ erg cm^-3]        =  2.5000e+01  1.5634e+04  1.5991e-03\n",
      "      Characteristic  pressure [ Ba ]              =  3.0561e+00  1.5634e+04  1.9548e-04\n"
     ]
    }
   ],
   "source": [
    "base = BaseUnits(\"HL\")\n",
    "\n",
    "electron_proton_ratio = 25.0#base.m_p / base.m_e\n",
    "\n",
    "#------ calculate electron mass scaing based on ratio of electron to proton mass -----\n",
    "electron_mass_scaling = (base.m_p / base.m_e) / electron_proton_ratio\n",
    "#-------------------------------------------------------------------------------------\n",
    "charge_scaling = 1e0\n",
    "eps_0_scaling = 1e2\n",
    "mu_0_scaling = 1e0\n",
    "\n",
    "scale_base_units(base, eps_0_scaling, mu_0_scaling, electron_mass_scaling, charge_scaling)\n",
    "\n",
    "\n",
    "\n",
    "\n",
    "B_flux = 5.0\n",
    "number_density = 1e9\n",
    "temperature = 5e6 * 2.213532059322659# ^2\n",
    "temperature_e = temperature\n",
    "temperature_p = temperature\n",
    "\n",
    "\n",
    "\n",
    "mu = ( (base.m_e + base.m_p)  / 2. ) /  base.m_u# assuming only protons and electrons\n",
    "\n",
    "mass_density = number_density * 2 * mu * base.m_u\n",
    "\n",
    "\n",
    "p_plasma = base.e * sqrt(number_density / base.m_p)\n",
    "p_skin_depth = base.c / p_plasma\n",
    "\n",
    "\n",
    "e_plasma = base.e * sqrt(number_density / base.m_e)\n",
    "e_skin_depth = base.c / e_plasma\n",
    "\n",
    "#----------- These always sets the following code units --------------\n",
    "#            rho=1, c=1, electron_skin_depth=1\n",
    "mass_density_scale = mass_density\n",
    "length_scale       = p_skin_depth\n",
    "time_scale         = length_scale / base.c #* 10\n",
    "temperature_scale  = 1e0\n",
    "#----------------------------------------------------------------------\n",
    "length = length_scale\n",
    "\n",
    "\n",
    "scaling = ScalingHL(base,\n",
    "                number_density, length, temperature, temperature_e, temperature_p, B_flux,\n",
    "                length_scale, mass_density_scale, time_scale, temperature_scale)\n",
    "\n",
    "ds = 0.05\n",
    "per_cell = 128\n",
    "\n",
    "set_macro_particle_weights(scaling, ds, per_cell);\n",
    "print_basic_info(scaling)\n",
    "print_all_HL(scaling)"
   ]
  },
  {
   "cell_type": "code",
   "execution_count": 22,
   "metadata": {},
   "outputs": [
    {
     "data": {
      "text/plain": [
       "1.0231225700838962"
      ]
     },
     "metadata": {},
     "output_type": "display_data"
    }
   ],
   "source": [
    "0.0002 /1.9548e-04"
   ]
  },
  {
   "cell_type": "code",
   "execution_count": 65,
   "metadata": {},
   "outputs": [
    {
     "name": "stdout",
     "output_type": "stream",
     "text": [
      "real diff = -1.0\n",
      "log diff = -1.3862943611198906\n"
     ]
    },
    {
     "data": {
      "text/plain": [
       "-1.3862943611198906"
      ]
     },
     "metadata": {},
     "output_type": "display_data"
    }
   ],
   "source": [
    "e_pic = 1.0\n",
    "e_mhd = 2\n",
    "\n",
    "println(\"real diff = \", e_pic - e_mhd)\n",
    "\n",
    "heating = e_pic - e_mhd\n",
    "log_heating = max(e_pic, e_mhd) * log(e_pic / e_mhd)\n",
    "\n",
    "println(\"log diff = \", log_heating)\n",
    "\n",
    "log_heating / e_pic"
   ]
  },
  {
   "cell_type": "code",
   "execution_count": 27,
   "metadata": {},
   "outputs": [
    {
     "name": "stdout",
     "output_type": "stream",
     "text": [
      "Relativistic gamma factor: 1.0004595433942154\n"
     ]
    }
   ],
   "source": [
    "v = 3.0306e-02\n",
    "c = 1.0\n",
    "gamma = 1 / sqrt(1 - (v / c)^2)\n",
    "println(\"Relativistic gamma factor: \", gamma)"
   ]
  },
  {
   "cell_type": "code",
   "execution_count": 23,
   "metadata": {},
   "outputs": [
    {
     "data": {
      "text/plain": [
       "0.05024937810560445"
      ]
     },
     "metadata": {},
     "output_type": "display_data"
    }
   ],
   "source": [
    "dt = 2.5e-2\n",
    "#0.0015 * scaling.e_code / scaling.m_e_code * dt * 10  \n",
    "0.005 * scaling.e_code / scaling.m_e_code  "
   ]
  },
  {
   "cell_type": "code",
   "execution_count": 17,
   "metadata": {},
   "outputs": [
    {
     "data": {
      "text/plain": [
       "3.3333333333333335"
      ]
     },
     "metadata": {},
     "output_type": "display_data"
    }
   ],
   "source": [
    "0.1 / 3e-2"
   ]
  },
  {
   "cell_type": "code",
   "execution_count": 1,
   "metadata": {},
   "outputs": [
    {
     "ename": "UndefVarError",
     "evalue": "UndefVarError: BaseUnits not defined",
     "output_type": "error",
     "traceback": [
      "UndefVarError: BaseUnits not defined\n",
      "\n",
      "Stacktrace:\n",
      " [1] top-level scope\n",
      "   @ ~/Dropbox/PhD/plasma_scaling/experiments/fast_realistic/jl_notebook_cell_df34fa98e69747e1a8f8a730347b8e2f_X10sZmlsZQ==.jl:1"
     ]
    }
   ],
   "source": [
    "base = BaseUnits(\"HL\")\n",
    "\n",
    "electron_proton_ratio = base.m_p / base.m_e\n",
    "\n",
    "#------ calculate electron mass scaing based on ratio of electron to proton mass -----\n",
    "electron_mass_scaling = (base.m_p / base.m_e) / electron_proton_ratio\n",
    "#-------------------------------------------------------------------------------------\n",
    "charge_scaling = 1e0\n",
    "eps_0_scaling = 1e0\n",
    "mu_0_scaling = 1e0\n",
    "\n",
    "scale_base_units(base, eps_0_scaling, mu_0_scaling, electron_mass_scaling, charge_scaling)\n",
    "\n",
    "\n",
    "\n",
    "\n",
    "B_flux = 5.0\n",
    "number_density = 1e9\n",
    "temperature = 1e6\n",
    "temperature_e = temperature\n",
    "temperature_p = temperature\n",
    "\n",
    "\n",
    "\n",
    "mu = ( (base.m_e + base.m_p)  / 2. ) /  base.m_u# assuming only protons and electrons\n",
    "\n",
    "mass_density = number_density * 2 * mu * base.m_u\n",
    "e_plasma = base.e * sqrt(number_density / base.m_e)\n",
    "e_skin_depth = base.c / e_plasma\n",
    "\n",
    "#----------- These always sets the following code units --------------\n",
    "#            rho=1, c=1, electron_skin_depth=1\n",
    "mass_density_scale = mass_density\n",
    "length_scale       = p_skin_depth\n",
    "time_scale         = length_scale / base.c# * 100\n",
    "temperature_scale  = 1e0\n",
    "#----------------------------------------------------------------------\n",
    "length = length_scale\n",
    "\n",
    "\n",
    "scaling = ScalingHL(base,\n",
    "                number_density, length, temperature, temperature_e, temperature_p, B_flux,\n",
    "                length_scale, mass_density_scale, time_scale, temperature_scale)\n",
    "\n",
    "ds = 0.05\n",
    "per_cell = 128\n",
    "\n",
    "set_macro_particle_weights(scaling, ds, per_cell);\n",
    "print_basic_info(scaling)\n",
    "print_all_HL(scaling)"
   ]
  },
  {
   "cell_type": "code",
   "execution_count": 19,
   "metadata": {},
   "outputs": [
    {
     "data": {
      "text/plain": [
       "0.004121704305767883"
      ]
     },
     "metadata": {},
     "output_type": "display_data"
    }
   ],
   "source": [
    "sqrt((scaling.B_flux_code^2 + 2 * scaling.pressure_code ) / scaling.mass_density_code)"
   ]
  },
  {
   "cell_type": "code",
   "execution_count": 24,
   "metadata": {},
   "outputs": [
    {
     "data": {
      "text/plain": [
       "3299.70737717542"
      ]
     },
     "metadata": {},
     "output_type": "display_data"
    }
   ],
   "source": [
    "4.2850e+01 / 1.2986e-02"
   ]
  },
  {
   "cell_type": "code",
   "execution_count": 21,
   "metadata": {},
   "outputs": [
    {
     "data": {
      "text/plain": [
       "4.28503520844353"
      ]
     },
     "metadata": {},
     "output_type": "display_data"
    }
   ],
   "source": [
    "3.018372007192742e-8 / 7.043984145673141e-9"
   ]
  },
  {
   "cell_type": "code",
   "execution_count": 34,
   "metadata": {},
   "outputs": [
    {
     "name": "stdout",
     "output_type": "stream",
     "text": [
      "lenght                 = 2111.733321144381\n",
      "number_density         = 1.0e9\n",
      "B                      = 5.0\n",
      "T                      = 1.0e6\n",
      "\n",
      "length_scale           = 2111.733321144381\n",
      "mass_density_scale     = 1.6735328363560001e-15\n",
      "time_scale             = 7.043984145673141e-8\n",
      "temperature_scale      = 1.0\n",
      "\n",
      "e_mass_scale           = 1.0\n",
      "charge_scaling         = 0.1\n",
      "eps_0_scaling          = 1.0\n",
      "mu_0_scaling           = 1.0\n",
      "\n",
      " Maxwell Lorents Factors used in code:\n",
      " k_E =                                             =  7.9577e-02 \n",
      " k_B =                                             =  7.9577e-02 \n",
      " k_F =                                             =  1.0000e+00 \n",
      " k_D =                                             =  1.0000e+00 \n",
      " k_M =                                             =  1.0000e+00 \n",
      " k_H =                                             =  1.0000e+00 \n",
      "\n",
      " Macro particle weights:\n",
      "                          ds =                     =  5.0000e-02 \n",
      "                    per_cell =                     =  1.2800e+02 \n",
      "               weight_scaled =                     =  7.3571e+16 \n",
      " weight_scaled_mass_electron =                     =  4.2525e-06 \n",
      "   weight_scaled_mass_proton =                     =  7.8082e-03 \n",
      "        weight_scaled_charge =                     =  1.8227e-04 \n",
      "                 rho_n_ratio =                     =  9.4171e+18 \n",
      "\n",
      " Fundamental physical constants:\n",
      "        Gravitational Constant [ cm^3 g^-1 s^-2 ]  =  6.6743e-08  1.2043e+29  5.5421e-37\n",
      "          Boltzmann's Constant [ erg K^-1 ]        =  1.3806e-16  1.4164e+16  9.7474e-33\n",
      "             Planck's Constant [ erg s ]           =  6.6261e-27  9.9773e+08  6.6412e-36\n",
      "              Atomic Mass Unit [ g ]               =  1.6605e-24  1.5760e-05  1.0537e-19\n",
      "                   Proton Mass [ g ]               =  1.6726e-24  1.5760e-05  1.0613e-19\n",
      "                 Electron Mass [ g ]               =  9.1094e-28  1.5760e-05  5.7801e-23\n",
      "             Elementary Charge [ StatC ]           =  1.3550e-11  5.4691e+09  2.4775e-21\n",
      "           Vacuum Permittivity [ s^2 cm^-2 ]       =  1.1127e-21  1.1127e-21  1.0000e+00\n",
      "           Vacuum Permeability [  ]                =  1.0000e+00  1.0000e+00  1.0000e+00\n",
      "                Speed of Light [ cm/s ]            =  2.9979e+10  2.9979e+10  1.0000e+00\n",
      "                 Electron Volt [ erg ]             =  1.6022e-12  1.4164e+16  1.1311e-28\n",
      "         Mean molecular weight [ ]                 =  5.0391e-01  1.0000e+00  5.0391e-01\n",
      "\n",
      " Defining Constants:\n",
      "                 Number Desity [ cm^3 ]            =  1.0000e+09  1.0619e-10  9.4171e+18\n",
      "         Characteristic Length [ cm ]              =  2.1117e+03  2.1117e+03  1.0000e+00\n",
      "                   Temperature [ K ]               =  1.0000e+06  1.0000e+00  1.0000e+06\n",
      "          Electron Temperature [ K ]               =  1.0000e+06  1.0000e+00  1.0000e+06\n",
      "            Proton Temperature [ K ]               =  1.0000e+06  1.0000e+00  1.0000e+06\n",
      "        Magnetic Flux Strength [ G ]               =  5.0000e+00  1.2264e+03  4.0769e-03\n",
      "\n",
      " Velocities:\n",
      "       Characteristic velocity [ cm s^-1 ]         =  1.2222e+08  2.9979e+10  4.0769e-03\n",
      "               Alfven velocity [ cm s^-1 ]         =  1.2222e+08  2.9979e+10  4.0769e-03\n",
      "     electron thermal velocity [ cm s^-1 ]         =  3.8931e+08  2.9979e+10  1.2986e-02\n",
      "       proton thermal velocity [ cm s^-1 ]         =  9.0854e+06  2.9979e+10  3.0306e-04\n",
      "\n",
      " Frequencies:\n",
      "     electron gyro frequency   [ rad s^-1 ]        =  2.4808e+06  1.4197e+07  1.7475e-01\n",
      "       proton gyro frequency   [ rad s^-1 ]        =  1.3511e+03  1.4197e+07  9.5169e-05\n",
      "     electron plasma frequency [ rad s^-1 ]        =  1.4197e+07  1.4197e+07  1.0000e+00\n",
      "       proton plasma frequency [ rad s^-1 ]        =  3.3130e+05  1.4197e+07  2.3337e-02\n",
      "\n",
      " Lengths:\n",
      "           electron skin depth [ cm ]              =  2.1117e+03  2.1117e+03  1.0000e+00\n",
      "             proton skin depth [ cm ]              =  9.0489e+04  2.1117e+03  4.2850e+01\n",
      "                 debye Length  [ cm ]              =  2.7423e+01  2.1117e+03  1.2986e-02\n",
      "       inter particle distance [ cm ]              =  1.0000e-03  2.1117e+03  4.7354e-07\n",
      "          electron gyro radius [ cm ]              =  1.5693e+02  2.1117e+03  7.4314e-02\n",
      "            proton gyro radius [ cm ]              =  6.7246e+03  2.1117e+03  3.1844e+00\n",
      "\n",
      " Other:\n",
      "                  Mass density [ g cm^-3 ]         =  1.6735e-15  1.6735e-15  1.0000e+00\n",
      "           Characteristic mass [ g ]               =  1.5760e-05  1.5760e-05  1.0000e+00\n",
      "          Characteristic time  [ s ]               =  1.7278e-05  7.0440e-08  2.4528e+02\n",
      " Characteristic kinetic energy [ erg ]             =  2.3543e+11  1.4164e+16  1.6621e-05\n",
      "               energy per mass [ erg g^-1]         =  1.4938e+16  8.9876e+20  1.6621e-05\n",
      "             energy per volume [ erg cm^-3]        =  2.5000e+01  1.5041e+06  1.6621e-05\n",
      "      Characteristic  pressure [ Ba ]              =  2.7613e-01  1.5041e+06  1.8359e-07\n"
     ]
    }
   ],
   "source": [
    "base = BaseUnits(\"HL\")\n",
    "\n",
    "electron_proton_ratio = base.m_p / base.m_e\n",
    "\n",
    "#------ calculate electron mass scaing based on ratio of electron to proton mass -----\n",
    "electron_mass_scaling = (base.m_p / base.m_e) / electron_proton_ratio\n",
    "#-------------------------------------------------------------------------------------\n",
    "charge_scaling = 1e-1\n",
    "eps_0_scaling = 1e0\n",
    "mu_0_scaling = 1e0\n",
    "\n",
    "scale_base_units(base, eps_0_scaling, mu_0_scaling, electron_mass_scaling, charge_scaling)\n",
    "\n",
    "\n",
    "\n",
    "\n",
    "B_flux = 5.0\n",
    "number_density = 1e9\n",
    "temperature = 1e6\n",
    "temperature_e = temperature\n",
    "temperature_p = temperature\n",
    "\n",
    "\n",
    "\n",
    "mu = ( (base.m_e + base.m_p)  / 2. ) /  base.m_u# assuming only protons and electrons\n",
    "\n",
    "mass_density = number_density * 2 * mu * base.m_u\n",
    "e_plasma = base.e * sqrt(number_density / base.m_e)\n",
    "e_skin_depth = base.c / e_plasma\n",
    "\n",
    "#----------- These always sets the following code units --------------\n",
    "#            rho=1, c=1, electron_skin_depth=1\n",
    "mass_density_scale = mass_density\n",
    "length_scale       = e_skin_depth\n",
    "time_scale         = length_scale / base.c# * 100\n",
    "temperature_scale  = 1e0\n",
    "#----------------------------------------------------------------------\n",
    "length = length_scale\n",
    "\n",
    "\n",
    "scaling = ScalingHL(base,\n",
    "                number_density, length, temperature, temperature_e, temperature_p, B_flux,\n",
    "                length_scale, mass_density_scale, time_scale, temperature_scale)\n",
    "\n",
    "ds = 0.05\n",
    "per_cell = 128\n",
    "\n",
    "set_macro_particle_weights(scaling, ds, per_cell);\n",
    "print_basic_info(scaling)\n",
    "print_all_HL(scaling)"
   ]
  }
 ],
 "metadata": {
  "kernelspec": {
   "display_name": "Julia 1.8.5",
   "language": "julia",
   "name": "julia-1.8"
  },
  "language_info": {
   "file_extension": ".jl",
   "mimetype": "application/julia",
   "name": "julia",
   "version": "1.8.5"
  }
 },
 "nbformat": 4,
 "nbformat_minor": 2
}
