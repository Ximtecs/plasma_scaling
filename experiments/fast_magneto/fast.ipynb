{
 "cells": [
  {
   "cell_type": "code",
   "execution_count": null,
   "metadata": {},
   "outputs": [],
   "source": [
    "using Plots\n",
    "using QuadGK\n",
    "using NLopt\n",
    "#using SpecialFunctions\n",
    "using NLsolve\n",
    "using Statistics\n",
    "#include(\"../../scaling_CGS.jl\")\n",
    "include(\"../../code_to_real.jl\")"
   ]
  },
  {
   "cell_type": "code",
   "execution_count": null,
   "metadata": {},
   "outputs": [],
   "source": [
    "#-------- From Dahldorf et al. 2014\n",
    "\n",
    "c_code = 1.0\n",
    "B_code = 0.04 #* sqrt(4*pi) # Multiply with sqrt(4*pi) to get it in CGS - they have in Heaviside-Lorentz units\n",
    "p_code = 4.5e-4\n",
    "rho_code = 1.0\n",
    "debye_code = 0.015 #/ sqrt(4*pi) # divide with sqrt(4*pi) to get it in CGS - they have in Heaviside-Lorentz units\n",
    "\n",
    "\n",
    "\n",
    "c_u = code_units(c_code, B_code, p_code, rho_code, debye_code)\n",
    "\n",
    "number_density_real = 1e9 # Guess \n",
    "\n",
    "\n",
    "r_u = known_real_units(number_density_real)\n",
    "eps_0_scaling = 1e2\n",
    "charge_scaling = 1e0\n",
    "electron_proton_mass_ratio = 100\n",
    "\n",
    "r_s = ratios_and_scaling(electron_proton_mass_ratio, eps_0_scaling, charge_scaling)\n",
    "\n",
    "\n",
    "scaling = find_real_units_CGS(c_u, r_u, r_s)\n",
    "print_basic_info(scaling)\n",
    "print_all_CGS(scaling)"
   ]
  },
  {
   "cell_type": "code",
   "execution_count": null,
   "metadata": {},
   "outputs": [],
   "source": [
    "3.9968e-02 / 1.1283e-02"
   ]
  },
  {
   "cell_type": "code",
   "execution_count": null,
   "metadata": {},
   "outputs": [],
   "source": [
    "#-------- From Dahldorf et al. 2014\n",
    "\n",
    "c_code = 1.0\n",
    "B_code = 0.04 #* sqrt(4*pi) # Multiply with sqrt(4*pi) to get it in CGS - they have in Heaviside-Lorentz units\n",
    "p_code = 4.5e-4\n",
    "rho_code = 1.0\n",
    "debye_code = 0.015 #/ sqrt(4*pi) # divide with sqrt(4*pi) to get it in CGS - they have in Heaviside-Lorentz units\n",
    "\n",
    "\n",
    "\n",
    "c_u = code_units(c_code, B_code, p_code, rho_code, debye_code)\n",
    "\n",
    "number_density_real = 1e9 # Guess \n",
    "\n",
    "\n",
    "r_u = known_real_units(number_density_real)\n",
    "eps_0_scaling = 1e2\n",
    "charge_scaling = 1e0\n",
    "electron_proton_mass_ratio = 25.0\n",
    "\n",
    "r_s = ratios_and_scaling(electron_proton_mass_ratio, eps_0_scaling, charge_scaling)\n",
    "\n",
    "\n",
    "scaling = find_real_units_HL(c_u, r_u, r_s)\n",
    "\n",
    "\n",
    "ds = 0.1\n",
    "ppc = 128\n",
    "set_macro_particle_weights(scaling, ds, ppc)\n",
    "print_basic_info(scaling)\n",
    "print_all_HL(scaling)"
   ]
  },
  {
   "cell_type": "code",
   "execution_count": null,
   "metadata": {},
   "outputs": [],
   "source": [
    "v = scaling.v_thermal_e_code\n",
    "c = 1.0\n",
    "\n",
    "v_squared = v^2\n",
    "gamma = 1.0 / sqrt(1.0 - v_squared / c^2)\n",
    "(gamma - 1. ) * 100\n",
    "\n",
    "\n",
    "E_clas = 0.5 * scaling.m_e_code * v^2\n",
    "E_rel = (gamma - 1.0) * scaling.m_e_code * c^2\n",
    "\n",
    "println(\"E_clas = $E_clas\")\n",
    "println(\"E_rel = $E_rel\")\n",
    "println(\"E_rel / E_clas = $(E_rel / E_clas)\")\n"
   ]
  },
  {
   "cell_type": "code",
   "execution_count": null,
   "metadata": {},
   "outputs": [],
   "source": [
    "gamma - 1 / gamma"
   ]
  },
  {
   "cell_type": "code",
   "execution_count": null,
   "metadata": {},
   "outputs": [],
   "source": [
    "#-------- From Dahldorf et al. 2014\n",
    "\n",
    "c_code = 1.0\n",
    "B_code = 0.04 #* sqrt(4*pi) # Multiply with sqrt(4*pi) to get it in CGS - they have in Heaviside-Lorentz units\n",
    "p_code = 4.5e-4\n",
    "rho_code = 1.0\n",
    "debye_code = 0.015 #/ sqrt(4*pi) # divide with sqrt(4*pi) to get it in CGS - they have in Heaviside-Lorentz units\n",
    "\n",
    "\n",
    "\n",
    "c_u = code_units(c_code, B_code, p_code, rho_code, debye_code)\n",
    "\n",
    "number_density_real = 1e9 # Guess \n",
    "\n",
    "\n",
    "r_u = known_real_units(number_density_real)\n",
    "eps_0_scaling = 1e2\n",
    "charge_scaling = 1e0\n",
    "electron_proton_mass_ratio = 100.0\n",
    "\n",
    "r_s = ratios_and_scaling(electron_proton_mass_ratio, eps_0_scaling, charge_scaling)\n",
    "\n",
    "\n",
    "scaling = find_real_units_HL(c_u, r_u, r_s)\n",
    "print_basic_info(scaling)\n",
    "print_all_HL(scaling)"
   ]
  },
  {
   "cell_type": "markdown",
   "metadata": {},
   "source": []
  },
  {
   "cell_type": "code",
   "execution_count": null,
   "metadata": {},
   "outputs": [],
   "source": [
    "scaling.e_code / scaling.m_e_code"
   ]
  },
  {
   "cell_type": "code",
   "execution_count": null,
   "metadata": {},
   "outputs": [],
   "source": [
    "5.001 * sqrt(4 * pi )"
   ]
  },
  {
   "cell_type": "code",
   "execution_count": null,
   "metadata": {},
   "outputs": [],
   "source": [
    "ds = 32 / (32 * 16)\n",
    "per_cell = 32\n",
    "\n",
    "set_macro_particle_weights(scaling, ds, per_cell);\n",
    "\n",
    "print_all_HL(scaling)\n"
   ]
  },
  {
   "cell_type": "code",
   "execution_count": null,
   "metadata": {},
   "outputs": [],
   "source": [
    "cf = sqrt(B_code^2 + 2 * p_code / rho_code) # fast magnetosonic speed\n",
    "\n",
    "cf * 300 "
   ]
  },
  {
   "cell_type": "code",
   "execution_count": null,
   "metadata": {},
   "outputs": [],
   "source": [
    "lambda = 32.0\n",
    "k = 2 * pi / lambda\n",
    "\n",
    "Lx = 160/3\n",
    "Ly = 40\n",
    "\n",
    "n_patch_x = 16\n",
    "n_cells_x = 32\n",
    "\n",
    "n_patch_y = 12\n",
    "n_cells_y = 32\n",
    "\n",
    "\n",
    "dx = Lx / (n_patch_x * n_cells_x)\n",
    "dy = Ly / (n_patch_y * n_cells_y)\n",
    "\n",
    "nx = n_patch_x * n_cells_x\n",
    "ny = n_patch_y * n_cells_y\n",
    "println(\"dx = $dx\")\n",
    "println(\"dx = $dy\")\n",
    "println(\"dx / 2 = $(dx / 2)\")\n",
    "\n",
    "println(\"nx = $nx\")\n",
    "println(\"ny = $ny\")\n",
    "\n",
    "\n",
    "per_cell = 32"
   ]
  },
  {
   "cell_type": "code",
   "execution_count": null,
   "metadata": {},
   "outputs": [],
   "source": [
    "0.10416666666666667 / 2"
   ]
  },
  {
   "cell_type": "code",
   "execution_count": null,
   "metadata": {},
   "outputs": [],
   "source": [
    "0.10416666666666667 / scaling.debye_len_code"
   ]
  },
  {
   "cell_type": "code",
   "execution_count": null,
   "metadata": {},
   "outputs": [],
   "source": [
    "#phi0 = atan(4/3.)\n",
    "phi0 = 0.\n",
    "\n",
    "Lx = lambda # / cos(phi0)\n",
    "Ly = lambda # / sin(phi0)\n",
    "println(\"phi0 = $phi0\")\n",
    "println(\"Lx = $Lx\")\n",
    "println(\"Ly = $Ly\")\n",
    "\n",
    "\n",
    "\n",
    "n_patch_x = 16\n",
    "n_cells_x = 32\n",
    "\n",
    "n_patch_y = 16\n",
    "n_cells_y = 32\n",
    "\n",
    "\n",
    "dx = Lx / (n_patch_x * n_cells_x)\n",
    "dy = Ly / (n_patch_y * n_cells_y)\n",
    "\n",
    "nx = n_patch_x * n_cells_x\n",
    "ny = n_patch_y * n_cells_y\n",
    "println(\"dx = $dx\")\n",
    "println(\"dx = $dy\")\n",
    "\n",
    "println(\" ds / 2 = $(dx / 2)\")\n",
    "\n",
    "println(\"nx = $nx\")\n",
    "println(\"ny = $ny\")\n",
    "\n",
    "\n",
    "per_cell = 32\n"
   ]
  },
  {
   "cell_type": "code",
   "execution_count": null,
   "metadata": {},
   "outputs": [],
   "source": [
    "dx / debye_code"
   ]
  },
  {
   "cell_type": "code",
   "execution_count": null,
   "metadata": {},
   "outputs": [],
   "source": [
    "gamma = 1.4\n",
    "\n",
    "B_code_new  = B_code# * sqrt(4 * pi )\n",
    "\n",
    "c_s = sqrt( 2 * p_code / rho_code)\n",
    "v_a = B_code_new / sqrt(4 * pi *  rho_code)\n",
    "\n",
    "\n",
    "sqrt(v_a^2 + c_s^2)"
   ]
  },
  {
   "cell_type": "code",
   "execution_count": null,
   "metadata": {},
   "outputs": [],
   "source": [
    "c_f = sqrt( (B_code_new^2/ (4 *pi) + gamma * p_code) / rho_code)"
   ]
  },
  {
   "cell_type": "code",
   "execution_count": null,
   "metadata": {},
   "outputs": [],
   "source": [
    "32 / c_f"
   ]
  },
  {
   "cell_type": "code",
   "execution_count": null,
   "metadata": {},
   "outputs": [],
   "source": [
    "n = 1000\n",
    "x = range(-16,16,n)\n",
    "\n",
    "x_static = ones(n) \n",
    "\n",
    "delta = 0.1\n",
    "lambda = 32. \n",
    "k = 2 * pi / lambda\n",
    "\n",
    "\n",
    "\n",
    "B_y_arr = B_code_new .* ( 1. .+ delta .* sin.(k * x))\n",
    "B_pressure = B_y_arr.^2 ./ (8 * pi)\n",
    "\n",
    "\n",
    "delta_p = 0.1^2 * B_code_new^2 / (8 * pi ) * rho_code / (p_code * gamma) #1 / sqrt(9 * pi )  #delta * (B_code_new^2 / (8 * pi) ) \n",
    "\n",
    "p_code_arr = p_code .* ( 1. .+ delta_p .* sin.(k * x))\n",
    "\n",
    "ratio = p_code_arr ./ B_pressure \n",
    "\n",
    "ratio_static =  p_code / (B_code_new^2 / (8 * pi) )   .* x_static\n",
    "\n",
    "\n",
    "p1 = plot(x, p_code_arr, label=\"p_code\")\n",
    "p1 = plot!(x, B_pressure, label=\"B_y\")\n",
    "\n",
    "p2 = plot(x, ratio, label=\"ratio\")\n",
    "p2 = plot!(x, ratio_static, label=\"ratio_static\")\n",
    "\n",
    "plot(p1, p2, layout=(1,2), size=(1000,400))\n"
   ]
  },
  {
   "cell_type": "code",
   "execution_count": null,
   "metadata": {},
   "outputs": [],
   "source": [
    "sin(7*pi/8)"
   ]
  },
  {
   "cell_type": "code",
   "execution_count": null,
   "metadata": {},
   "outputs": [],
   "source": [
    "delta = 0.1\n",
    "lambda = 32.\n",
    "k = 2 * pi / lambda\n",
    "\n",
    "\n",
    "x = -14\n",
    "\n",
    "\n",
    "B_val = scaling.B_flux_code * (1.0 + delta * sin(k * x ))\n",
    "grad_B = scaling.B_flux_code * delta * k * cos( k * x)\n",
    "curl_grad_B = - scaling.B_flux_code * (1.0 + delta * sin(k * x )) * grad_B\n",
    "\n"
   ]
  },
  {
   "cell_type": "code",
   "execution_count": null,
   "metadata": {},
   "outputs": [],
   "source": [
    "\n",
    "v_drift_elec = 4 / (3 * pi ) * (- scaling.e_code) * scaling.pressure_code / (scaling.mass_density_code * scaling.m_e_code^2 * scaling.rho_n_ratio) * curl_grad_B / B_val^3\n",
    "\n",
    "#v_drift_prot = 4 / (3 * pi ) * (+ scaling.e_code) * scaling.pressure_code / (scaling.mass_density_code * scaling.m_p_code^2 * scaling.rho_n_ratio) * curl_grad_B / scaling.B_flux_code^3"
   ]
  },
  {
   "cell_type": "code",
   "execution_count": null,
   "metadata": {},
   "outputs": [],
   "source": [
    "0.12 / scaling.B_flux_code"
   ]
  },
  {
   "cell_type": "code",
   "execution_count": null,
   "metadata": {},
   "outputs": [],
   "source": [
    "1 /  3e10^2"
   ]
  }
 ],
 "metadata": {
  "kernelspec": {
   "display_name": "Julia 1.8.5",
   "language": "julia",
   "name": "julia-1.8"
  },
  "language_info": {
   "file_extension": ".jl",
   "mimetype": "application/julia",
   "name": "julia",
   "version": "1.8.5"
  }
 },
 "nbformat": 4,
 "nbformat_minor": 2
}
