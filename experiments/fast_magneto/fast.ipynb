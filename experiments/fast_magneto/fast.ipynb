{
 "cells": [
  {
   "cell_type": "code",
   "execution_count": 2,
   "metadata": {},
   "outputs": [
    {
     "data": {
      "text/plain": [
       "print_all_CGS (generic function with 2 methods)"
      ]
     },
     "metadata": {},
     "output_type": "display_data"
    }
   ],
   "source": [
    "using Plots\n",
    "using QuadGK\n",
    "using NLopt\n",
    "#using SpecialFunctions\n",
    "using NLsolve\n",
    "using Statistics\n",
    "include(\"../../scaling_CGS.jl\")"
   ]
  },
  {
   "cell_type": "code",
   "execution_count": 410,
   "metadata": {},
   "outputs": [
    {
     "name": "stdout",
     "output_type": "stream",
     "text": [
      "\n",
      " Maxwell Lorents Factors used in code:\n",
      " k_E =                                             =  1.0000e+00 \n",
      " k_B =                                             =  1.0000e+00 \n",
      " k_F =                                             =  1.0000e+00 \n",
      " k_D =                                             =  1.0000e+00 \n",
      " k_M =                                             =  1.0000e+00 \n",
      " k_H =                                             =  1.0000e+00 \n",
      "\n",
      " Macro particle weights:\n",
      "                          ds =                     =  1.0000e-01 \n",
      "                    per_cell =                     =  3.2000e+01 \n",
      "               weight_scaled =                     =  7.3220e+20 \n",
      " weight_scaled_mass_electron =                     =  1.2019e-06 \n",
      "   weight_scaled_mass_proton =                     =  3.0048e-05 \n",
      "        weight_scaled_charge =                     =  1.0863e-05 \n",
      "                 rho_n_ratio =                     =  2.3430e+25 \n",
      "\n",
      " Fundamental physical constants:\n",
      "        Gravitational Constant [ cm^3 g^-1 s^-2 ]  =  6.6743e-08  6.3099e+21  1.0577e-29\n",
      "          Boltzmann's Constant [ erg K^-1 ]        =  1.3806e-16  3.6631e+19  3.7690e-36\n",
      "             Planck's Constant [ erg s ]           =  6.6261e-27  1.1057e+16  5.9928e-43\n",
      "              Atomic Mass Unit [ g ]               =  1.6605e-24  4.0758e+01  4.0742e-26\n",
      "                   Proton Mass [ g ]               =  1.6726e-24  4.0758e+01  4.1038e-26\n",
      "                 Electron Mass [ g ]               =  6.6905e-26  4.0758e+01  1.6415e-27\n",
      "             Elementary Charge [ StatC ]           =  4.8032e-14  3.2376e+12  1.4836e-26\n",
      "           Vacuum Permittivity [ ]                 =  1.1127e-18  1.1127e-18  1.0000e+00\n",
      "           Vacuum Permeability [ s^2 cm^-2 ]       =  1.0000e+00  1.0000e+00  1.0000e+00\n",
      "                Speed of Light [ cm/s ]            =  9.4803e+08  9.4803e+08  1.0000e+00\n",
      "                 Electron Volt [ erg ]             =  1.6022e-12  3.6631e+19  4.3738e-32\n",
      "         Mean molecular weight [ ]                 =  5.2378e-01  1.0000e+00  5.2378e-01\n",
      "\n",
      " Defining Constants:\n",
      "                 Number Desity [ cm^3 ]            =  1.0000e+09  4.2680e-17  2.3430e+25\n",
      "         Characteristic Length [ cm ]              =  2.8615e+05  2.8615e+05  1.0000e+00\n",
      "                   Temperature [ K ]               =  1.0000e+06  1.0000e+00  1.0000e+06\n",
      "          Electron Temperature [ K ]               =  1.0000e+06  1.0000e+00  1.0000e+06\n",
      "            Proton Temperature [ K ]               =  1.0000e+06  1.0000e+00  1.0000e+06\n",
      "        Magnetic Flux Strength [ G ]               =  7.0000e+00  3.9540e+01  1.7704e-01\n",
      "\n",
      " Velocities:\n",
      "       Characteristic velocity [ cm s^-1 ]         =  4.7345e+07  9.4803e+08  4.9941e-02\n",
      "               Alfven velocity [ cm s^-1 ]         =  4.7286e+07  9.4803e+08  4.9879e-02\n",
      "     electron thermal velocity [ cm s^-1 ]         =  4.5427e+07  9.4803e+08  4.7917e-02\n",
      "       proton thermal velocity [ cm s^-1 ]         =  9.0854e+06  9.4803e+08  9.5835e-03\n",
      "\n",
      " Frequencies:\n",
      "     electron gyro frequency   [ rad s^-1 ]        =  5.3009e+03  3.3130e+03  1.6000e+00\n",
      "       proton gyro frequency   [ rad s^-1 ]        =  2.1204e+02  3.3130e+03  6.4001e-02\n",
      "     electron plasma frequency [ rad s^-1 ]        =  2.0816e+04  3.3130e+03  6.2832e+00\n",
      "       proton plasma frequency [ rad s^-1 ]        =  4.1633e+03  3.3130e+03  1.2566e+00\n",
      "\n",
      " Lengths:\n",
      "           electron skin depth [ cm ]              =  4.5542e+04  2.8615e+05  1.5915e-01\n",
      "             proton skin depth [ cm ]              =  2.2771e+05  2.8615e+05  7.9577e-01\n",
      "                 debye Length  [ cm ]              =  2.1823e+03  2.8615e+05  7.6263e-03\n",
      "       inter particle distance [ cm ]              =  1.0000e-03  2.8615e+05  3.4947e-09\n",
      "          electron gyro radius [ cm ]              =  8.5696e+03  2.8615e+05  2.9948e-02\n",
      "            proton gyro radius [ cm ]              =  4.2848e+04  2.8615e+05  1.4974e-01\n",
      "\n",
      " Other:\n",
      "                  Mass density [ g cm^-3 ]         =  1.7395e-15  1.7395e-15  1.0000e+00\n",
      "           Characteristic mass [ g ]               =  4.0758e+01  4.0758e+01  1.0000e+00\n",
      "          Characteristic time  [ s ]               =  6.0439e-03  3.0184e-04  2.0024e+01\n",
      " Characteristic kinetic energy [ erg ]             =  9.1362e+16  3.6631e+19  2.4941e-03\n",
      "               energy per mass [ erg g^-1]         =  2.2416e+15  8.9876e+17  2.4941e-03\n",
      "             energy per volume [ erg cm^-3]        =  3.8993e+00  1.5634e+03  2.4941e-03\n",
      "      Characteristic  pressure [ Ba ]              =  1.3806e-01  1.5634e+03  8.8310e-05\n"
     ]
    }
   ],
   "source": [
    "#---------- Double current sheet setup ----------\n",
    "base = BaseUnits(\"CGS\")\n",
    "\n",
    "electron_mass_scaling = 73.44610695040268 # mass ratio of 25\n",
    "charge_scaling = 1e-4\n",
    "eps_0_scaling = 1e3\n",
    "mu_0_scaling = 1e0\n",
    "\n",
    "scale_base_units(base, eps_0_scaling, mu_0_scaling, electron_mass_scaling, charge_scaling)\n",
    "\n",
    "\n",
    "length = 1e0 #720.0847332647692\n",
    "number_density= 1e9 #6.44179e10\n",
    "B_flux= 7.0 #22.222\n",
    "temperature   = 1e6\n",
    "temperature_e = temperature\n",
    "temperature_p = temperature\n",
    "\n",
    "\n",
    "\n",
    "mu = ( (base.m_e + base.m_p)  / 2. ) /  base.m_u# assuming only protons and electrons\n",
    "mass_density = number_density * 2 * mu * base.m_u\n",
    "e_plasma = base.e * sqrt(4 * π * number_density / base.m_e)\n",
    "\n",
    "\n",
    "\n",
    "#----------- These always sets the following code units --------------\n",
    "#            rho=1, c=1, e_plasma=2pi\n",
    "mass_density_scale = mass_density\n",
    "time_scale         = 2 * pi / e_plasma\n",
    "length_scale       = base.c * time_scale#\n",
    "temperature_scale  = 1e0\n",
    "#----------------------------------------------------------------------\n",
    "\n",
    "\n",
    "\n",
    "#\n",
    "length = length_scale\n",
    "\n",
    "scaling = ScalingCGS(base,\n",
    "                number_density, length, temperature, temperature_e, temperature_p, B_flux,\n",
    "                length_scale, mass_density_scale, time_scale, temperature_scale)\n",
    "ds = 0.1\n",
    "per_cell = 32\n",
    "\n",
    "set_macro_particle_weights(scaling, ds, per_cell);\n",
    "print_all_CGS(scaling)\n",
    "\n",
    "\n",
    "#Figure out correct density and pressure to give c_f = 0.05\n",
    "#sqrt((scaling.B_flux_real^2 + 2 * scaling.pressure_real) / scaling.mass_density_real) / scaling.c_real"
   ]
  },
  {
   "cell_type": "code",
   "execution_count": 429,
   "metadata": {},
   "outputs": [
    {
     "name": "stdout",
     "output_type": "stream",
     "text": [
      "mass_density scaling  = 1.7395267739199998e-15\n",
      "length scaling        = 286149.81365884363\n",
      "time scaling          = 0.00030183720071927416\n",
      "Characteristic length = 286149.81365884363\n",
      "Temperature           = 1.0e6\n",
      "Number density        = 1.0e9\n",
      "q_e_scale            = 0.0001\n",
      "m_e_scale            = 73.44610695040268\n",
      "eps_0_scale          = 1000.0\n",
      "mu_0_scale           = 1.0\n"
     ]
    }
   ],
   "source": [
    "println(\"mass_density scaling  = \", scaling.mass_density_scaling)\n",
    "println(\"length scaling        = \", scaling.length_scaling)\n",
    "println(\"time scaling          = \", scaling.time_scaling)\n",
    "\n",
    "println(\"Characteristic length = \", scaling.length_real)\n",
    "println(\"Temperature           = \", scaling.temperature_real)\n",
    "println(\"Number density        = \", scaling.number_density_real)\n",
    "\n",
    "println(\"q_e_scale            = \", charge_scaling)\n",
    "println(\"m_e_scale            = \", electron_mass_scaling)\n",
    "println(\"eps_0_scale          = \", eps_0_scaling)\n",
    "println(\"mu_0_scale           = \", mu_0_scaling)"
   ]
  },
  {
   "cell_type": "code",
   "execution_count": 430,
   "metadata": {},
   "outputs": [
    {
     "data": {
      "text/plain": [
       "0.00390625"
      ]
     },
     "metadata": {},
     "output_type": "display_data"
    }
   ],
   "source": [
    "0.0078125 / 2"
   ]
  },
  {
   "cell_type": "code",
   "execution_count": 403,
   "metadata": {},
   "outputs": [
    {
     "data": {
      "text/plain": [
       "13.112572131711703"
      ]
     },
     "metadata": {},
     "output_type": "display_data"
    }
   ],
   "source": [
    "0.1 / scaling.debye_len_code"
   ]
  },
  {
   "cell_type": "code",
   "execution_count": 400,
   "metadata": {},
   "outputs": [
    {
     "name": "stdout",
     "output_type": "stream",
     "text": [
      " c_s       = 0.012417114590411072\n",
      " c_s_ideal = 0.012131923941667955\n",
      " v_a       = 0.04987879279794363\n",
      " c_ms      = 0.05140115471204507\n",
      " omega_o_k = 0.050607858083483476\n",
      " beta      = 0.0743687970065636\n"
     ]
    }
   ],
   "source": [
    "gamma = 5. / 3.\n",
    "c_s = sqrt(gamma * scaling.k_B_real * scaling.temperature_real /  scaling.m_u_real) \n",
    "\n",
    "\n",
    "c_s_ideal = sqrt(gamma * scaling.pressure_real / scaling.mass_density_real)\n",
    "v_a = scaling.v_a_real\n",
    "\n",
    "c_ms = sqrt(v_a^2 + c_s^2)\n",
    "\n",
    "theta = 1\n",
    "\n",
    "omega_o_k = sqrt( 0.5 * (c_ms^2 + sqrt(c_ms^4 - 4 * v_a^2 * c_s^2 * cos(theta)) ))\n",
    "\n",
    "\n",
    "println( \" c_s       = \" , c_s / scaling.c_real)\n",
    "println( \" c_s_ideal = \" , c_s_ideal / scaling.c_real)\n",
    "println( \" v_a       = \" , v_a / scaling.c_real)\n",
    "println( \" c_ms      = \", c_ms / scaling.c_real)\n",
    "println( \" omega_o_k = \", omega_o_k / scaling.c_real) \n",
    "\n",
    "println( \" beta      = \",  2 *  c_s^2 / (gamma * v_a^2))"
   ]
  },
  {
   "cell_type": "code",
   "execution_count": 349,
   "metadata": {},
   "outputs": [
    {
     "name": "stdout",
     "output_type": "stream",
     "text": [
      " c_s       = 0.024834229180822145\n",
      " c_s_ideal = 0.02426384788333591\n",
      " v_a       = 0.30225420531054054\n",
      " c_ms      = 0.303272721435529\n",
      " omega_o_k = 0.30225420531054054\n",
      " beta      = 0.008100986555208436\n"
     ]
    }
   ],
   "source": [
    "gamma = 5. / 3.\n",
    "c_s = sqrt(gamma * scaling.k_B_code * scaling.temperature_code /  scaling.m_u_code) \n",
    "\n",
    "\n",
    "c_s_ideal = sqrt(gamma * scaling.pressure_code / scaling.mass_density_code)\n",
    "v_a = scaling.v_a_code\n",
    "\n",
    "c_ms = sqrt(v_a^2 + c_s^2)\n",
    "\n",
    "theta = 0\n",
    "\n",
    "omega_o_k = sqrt( 0.5 * (c_ms^2 + sqrt(c_ms^4 - 4 * v_a^2 * c_s^2 * cos(theta)) ))\n",
    "\n",
    "\n",
    "println( \" c_s       = \" , c_s / scaling.c_code)\n",
    "println( \" c_s_ideal = \" , c_s_ideal / scaling.c_code)\n",
    "println( \" v_a       = \" , v_a / scaling.c_code)\n",
    "println( \" c_ms      = \", c_ms / scaling.c_code)\n",
    "println( \" omega_o_k = \", omega_o_k / scaling.c_code) \n",
    "\n",
    "println( \" beta      = \",  2 *  c_s^2 / (gamma * v_a^2))"
   ]
  },
  {
   "cell_type": "code",
   "execution_count": 325,
   "metadata": {},
   "outputs": [
    {
     "data": {
      "text/plain": [
       "0.009831745257281421"
      ]
     },
     "metadata": {},
     "output_type": "display_data"
    }
   ],
   "source": [
    "lambda = 32\n",
    "\n",
    "k = 2 * pi / lambda\n",
    "\n",
    "\n",
    "\n",
    "omega = omega_o_k * k "
   ]
  },
  {
   "cell_type": "code",
   "execution_count": 40,
   "metadata": {},
   "outputs": [
    {
     "data": {
      "text/plain": [
       "3"
      ]
     },
     "metadata": {},
     "output_type": "display_data"
    }
   ],
   "source": [
    "n = 16\n",
    "ng = 3"
   ]
  },
  {
   "cell_type": "code",
   "execution_count": 41,
   "metadata": {},
   "outputs": [
    {
     "data": {
      "text/plain": [
       "4096"
      ]
     },
     "metadata": {},
     "output_type": "display_data"
    }
   ],
   "source": [
    "ntot = n^3"
   ]
  },
  {
   "cell_type": "code",
   "execution_count": 42,
   "metadata": {},
   "outputs": [
    {
     "data": {
      "text/plain": [
       "10648"
      ]
     },
     "metadata": {},
     "output_type": "display_data"
    }
   ],
   "source": [
    "ntot_full = (n+ng*2)^3"
   ]
  },
  {
   "cell_type": "code",
   "execution_count": 43,
   "metadata": {},
   "outputs": [
    {
     "data": {
      "text/plain": [
       "5832"
      ]
     },
     "metadata": {},
     "output_type": "display_data"
    }
   ],
   "source": [
    "ntot_1 = (n+1 * 2)^3"
   ]
  },
  {
   "cell_type": "code",
   "execution_count": 44,
   "metadata": {},
   "outputs": [
    {
     "data": {
      "text/plain": [
       "2.599609375"
      ]
     },
     "metadata": {},
     "output_type": "display_data"
    }
   ],
   "source": [
    "ntot_full / ntot"
   ]
  },
  {
   "cell_type": "code",
   "execution_count": 45,
   "metadata": {},
   "outputs": [
    {
     "data": {
      "text/plain": [
       "1.423828125"
      ]
     },
     "metadata": {},
     "output_type": "display_data"
    }
   ],
   "source": [
    "ntot_1 / ntot"
   ]
  },
  {
   "cell_type": "code",
   "execution_count": 46,
   "metadata": {},
   "outputs": [],
   "source": []
  },
  {
   "cell_type": "code",
   "execution_count": null,
   "metadata": {},
   "outputs": [],
   "source": []
  }
 ],
 "metadata": {
  "kernelspec": {
   "display_name": "Julia 1.8.5",
   "language": "julia",
   "name": "julia-1.8"
  },
  "language_info": {
   "file_extension": ".jl",
   "mimetype": "application/julia",
   "name": "julia",
   "version": "1.8.5"
  }
 },
 "nbformat": 4,
 "nbformat_minor": 2
}
