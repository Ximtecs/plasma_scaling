{
 "cells": [
  {
   "cell_type": "code",
   "execution_count": 1,
   "metadata": {},
   "outputs": [
    {
     "data": {
      "text/plain": [
       "print_basic_info (generic function with 1 method)"
      ]
     },
     "metadata": {},
     "output_type": "display_data"
    }
   ],
   "source": [
    "using Plots\n",
    "using QuadGK\n",
    "using NLopt\n",
    "using SpecialFunctions\n",
    "using NLsolve\n",
    "using Statistics\n",
    "include(\"../../scaling_CGS.jl\")"
   ]
  },
  {
   "cell_type": "code",
   "execution_count": 2,
   "metadata": {},
   "outputs": [
    {
     "data": {
      "text/plain": [
       "print_ds_info (generic function with 1 method)"
      ]
     },
     "metadata": {},
     "output_type": "display_data"
    }
   ],
   "source": [
    "function get_proton_radius(base, temp, B)\n",
    "    v_thermal_p = sqrt(base.k_B * temperature_p / base.m_p)\n",
    "    proton_gyro_freq = base.e * B / ( base.m_p * base.c)\n",
    "    return v_thermal_p / proton_gyro_freq\n",
    "end \n",
    "\n",
    "function get_plasma_frequency(base, n_p)\n",
    "    return  base.e * sqrt(4 * π * n_p / base.m_e)\n",
    "end\n",
    "\n",
    "function get_mass_density_scale(base, n_p)\n",
    "    mu = ( (base.m_e + base.m_p)  / 2. ) /  base.m_u\n",
    "    mass_density = 2 * n_p * mu *  base.m_u\n",
    "    mass_density_scale = mass_density \n",
    "    return mass_density_scale\n",
    "end\n",
    "\n",
    "function print_ds_info(scaling)\n",
    "    println(\"\")\n",
    "    @printf(\"%-50s = %.4e \\n\",\"debye length\", scaling.debye_len_code) \n",
    "    @printf(\"%-50s = %.4e %.4e %.4e \\n\",\"ds at n_cell=128, debye len per ds, dt=ds/c*0.25\",  L_sim_x / nx[1], L_sim_x / nx[1] / scaling.debye_len_code, L_sim_x / nx[1] / scaling.c_code*0.25) \n",
    "    @printf(\"%-50s = %.4e %.4e %.4e \\n\",\"ds at n_cell=256, debye len per ds, dt=ds/c*0.25\",  L_sim_x / nx[2], L_sim_x / nx[2] / scaling.debye_len_code, L_sim_x / nx[2] / scaling.c_code*0.25) \n",
    "    @printf(\"%-50s = %.4e %.4e %.4e \\n\",\"ds at n_cell=512, debye len per ds, dt=ds/c*0.25\",  L_sim_x / nx[3], L_sim_x / nx[3] / scaling.debye_len_code, L_sim_x / nx[3] / scaling.c_code*0.25) \n",
    "    @printf(\"%-50s = %.4e %.4e %.4e \\n\",\"ds at n_cell=1024, debye len per ds, dt=ds/c*0.25\", L_sim_x / nx[4], L_sim_x / nx[4] / scaling.debye_len_code, L_sim_x / nx[4] / scaling.c_code*0.25) \n",
    "end"
   ]
  },
  {
   "cell_type": "code",
   "execution_count": 3,
   "metadata": {},
   "outputs": [],
   "source": [
    "#---------- Values that are the same in all setups -------------------\n",
    "\n",
    "#------------- real physical constants in CGS units ----------------\n",
    "number_density=1e9 #* 0.5^2\n",
    "B_flux= 25\n",
    "temperature   = 1e6\n",
    "temperature_e = temperature\n",
    "temperature_p = temperature\n",
    "#----------------------------------------------------------------------\n",
    "\n",
    "mu_0_scaling = 1e0\n",
    "\n",
    "#-----------------\n",
    "\n",
    "L_sim_x = 25.6\n",
    "L_sim_y = L_sim_x / 2\n",
    "nx = [128,256,512,1024];"
   ]
  },
  {
   "cell_type": "code",
   "execution_count": 17,
   "metadata": {},
   "outputs": [
    {
     "name": "stdout",
     "output_type": "stream",
     "text": [
      " speed of light in code units = 10.0\n",
      "lenght                 = 37.93936804601426\n",
      "number_density         = 1.0e9\n",
      "B                      = 25.0\n",
      "T                      = 1.0e6\n",
      "\n",
      "length_scale           = 37.93936804601426\n",
      "mass_density_scale     = 1.6735328363560001e-15\n",
      "time_scale             = 1.2655210974658426e-8\n",
      "temperature_scale      = 1.0e6\n",
      "\n",
      "e_mass_scale           = 1.0\n",
      "charge_scaling         = 1.0\n",
      "eps_0_scaling          = 1.0\n",
      "mu_0_scaling           = 1.0\n",
      "\n",
      "debye length                                       = 5.7520e-03 \n",
      "ds at n_cell=128, debye len per ds, dt=ds/c*0.25   = 2.0000e-01 3.4771e+01 5.0000e-03 \n",
      "ds at n_cell=256, debye len per ds, dt=ds/c*0.25   = 1.0000e-01 1.7385e+01 2.5000e-03 \n",
      "ds at n_cell=512, debye len per ds, dt=ds/c*0.25   = 5.0000e-02 8.6927e+00 1.2500e-03 \n",
      "ds at n_cell=1024, debye len per ds, dt=ds/c*0.25  = 2.5000e-02 4.3463e+00 6.2500e-04 \n",
      "\n",
      " Maxwell Lorents Factors used in code:\n",
      " k_E =                                             =  1.0000e+00 \n",
      " k_B =                                             =  1.0000e-01 \n",
      " k_F =                                             =  1.0000e-01 \n",
      " k_D =                                             =  1.0000e+00 \n",
      " k_M =                                             =  1.0000e+01 \n",
      " k_H =                                             =  1.0000e+00 \n",
      "\n",
      " Macro particle weights:\n",
      "                          ds =                     =  1.0000e-01 \n",
      "                    per_cell =                     =  1.2800e+02 \n",
      "               weight_scaled =                     =  4.2664e+08 \n",
      " weight_scaled_mass_electron =                     =  4.2525e-09 \n",
      "   weight_scaled_mass_proton =                     =  7.8082e-06 \n",
      "        weight_scaled_charge =                     =  1.1608e-06 \n",
      "                 rho_n_ratio =                     =  5.4610e+13 \n",
      "\n",
      " Fundamental physical constants:\n",
      "        Gravitational Constant [ cm^3 g^-1 s^-2 ]  =  6.6743e-08  3.7310e+30  1.7889e-38\n",
      "          Boltzmann's Constant [ erg K^-1 ]        =  1.3806e-16  8.2138e+02  1.6809e-19\n",
      "             Planck's Constant [ erg s ]           =  6.6261e-27  1.0395e+01  6.3744e-28\n",
      "              Atomic Mass Unit [ g ]               =  1.6605e-24  9.1391e-11  1.8170e-14\n",
      "                   Proton Mass [ g ]               =  1.6726e-24  9.1391e-11  1.8302e-14\n",
      "                 Electron Mass [ g ]               =  9.1094e-28  9.1391e-11  9.9675e-18\n",
      "             Elementary Charge [ StatC ]           =  4.8032e-10  1.7653e+05  2.7209e-15\n",
      "           Vacuum Permittivity [ s^2 cm^-2 ]       =  8.8542e-23  1.1127e-19  7.9577e-04\n",
      "           Vacuum Permeability [  ]                =  1.2566e+01  1.0000e+00  1.2566e+01\n",
      "                Speed of Light [ cm/s ]            =  2.9979e+10  2.9979e+09  1.0000e+01\n",
      "                 Electron Volt [ erg ]             =  1.6022e-12  8.2138e+08  1.9506e-21\n",
      "         Mean molecular weight [ ]                 =  5.0391e-01  1.0000e+00  5.0391e-01\n",
      "\n",
      " Defining Constants:\n",
      "                 Number Desity [ cm^3 ]            =  1.0000e+09  1.8312e-05  5.4610e+13\n",
      "         Characteristic Length [ cm ]              =  3.7939e+01  3.7939e+01  1.0000e+00\n",
      "                   Temperature [ K ]               =  1.0000e+06  1.0000e+06  1.0000e+00\n",
      "          Electron Temperature [ K ]               =  1.0000e+06  1.0000e+06  1.0000e+00\n",
      "            Proton Temperature [ K ]               =  1.0000e+06  1.0000e+06  1.0000e+00\n",
      "        Magnetic Flux Strength [ G ]               =  2.5000e+01  1.2264e+02  2.0385e-01\n",
      "\n",
      " Velocities:\n",
      "       Characteristic velocity [ cm s^-1 ]         =  1.7239e+08  2.9979e+09  5.7504e-02\n",
      "               Alfven velocity [ cm s^-1 ]         =  1.7239e+08  2.9979e+09  5.7503e-02\n",
      "     electron thermal velocity [ cm s^-1 ]         =  3.8931e+08  2.9979e+09  1.2986e-01\n",
      "       proton thermal velocity [ cm s^-1 ]         =  9.0854e+06  2.9979e+09  3.0306e-03\n",
      "\n",
      " Frequencies:\n",
      "     electron gyro frequency   [ rad s^-1 ]        =  4.3970e+08  7.9019e+07  5.5646e+00\n",
      "       proton gyro frequency   [ rad s^-1 ]        =  2.3947e+05  7.9019e+07  3.0306e-03\n",
      "     electron plasma frequency [ rad s^-1 ]        =  1.7840e+09  7.9019e+07  2.2577e+01\n",
      "       proton plasma frequency [ rad s^-1 ]        =  4.1633e+07  7.9019e+07  5.2687e-01\n",
      "\n",
      " Lengths:\n",
      "           electron skin depth [ cm ]              =  1.6805e+01  3.7939e+01  4.4293e-01\n",
      "             proton skin depth [ cm ]              =  7.2008e+02  3.7939e+01  1.8980e+01\n",
      "                 debye Length  [ cm ]              =  2.1823e-01  3.7939e+01  5.7520e-03\n",
      "       inter particle distance [ cm ]              =  1.0000e-03  3.7939e+01  2.6358e-05\n",
      "          electron gyro radius [ cm ]              =  8.8539e-01  3.7939e+01  2.3337e-02\n",
      "            proton gyro radius [ cm ]              =  3.7939e+01  3.7939e+01  1.0000e+00\n",
      "\n",
      " Other:\n",
      "                  Mass density [ g cm^-3 ]         =  1.6735e-15  1.6735e-15  1.0000e+00\n",
      "           Characteristic mass [ g ]               =  9.1391e-11  9.1391e-11  1.0000e+00\n",
      "          Characteristic time  [ s ]               =  2.2008e-07  1.2655e-08  1.7390e+01\n",
      " Characteristic kinetic energy [ erg ]             =  2.7161e+06  8.2138e+08  3.3067e-03\n",
      "               energy per mass [ erg g^-1]         =  2.9719e+16  8.9876e+18  3.3067e-03\n",
      "             energy per volume [ erg cm^-3]        =  4.9736e+01  1.5041e+04  3.3067e-03\n",
      "      Characteristic  pressure [ Ba ]              =  2.7613e-01  1.5041e+04  1.8359e-05\n"
     ]
    }
   ],
   "source": [
    "base = BaseUnits(\"CGS\")\n",
    "#------------- Scale base units ----------------\n",
    "    #--------------- scaling parameters -------------------\n",
    "electron_proton_ratio = base.m_p / base.m_e # realistic proton to electron mass\n",
    "eps_0_scaling = 1e0\n",
    "charge_scaling = 1e0\n",
    "    #------ calculate electron mass scaing based on ratio of electron to proton mass -----\n",
    "electron_mass_scaling = (base.m_p / base.m_e) / electron_proton_ratio\n",
    "    #-------------------------------------------------------------------------------------\n",
    "scale_base_units(base, eps_0_scaling, mu_0_scaling, electron_mass_scaling, charge_scaling)\n",
    "#-----------------------------------------------\n",
    "\n",
    "\n",
    "#---------- get plasma freq and proton radius in order to set length and time scales ---\n",
    "ω_e = get_plasma_frequency(base, number_density)\n",
    "r_p = get_proton_radius(base, temperature_p, B_flux)\n",
    "#---------------------------------------------------------------------------------------\n",
    "\n",
    "#------------------- set scaling units  ----------------------------------------\n",
    "mass_density_scale = get_mass_density_scale(base, number_density)\n",
    "length = r_p\n",
    "length_scale = r_p\n",
    "time_scale = 10 / (base.c / length)  #2 * pi / ω_e#2 * pi / ω_e\n",
    "#---------------------------------------------------------------------------------------\n",
    "\n",
    "\n",
    "scaling = ScalingCGS(base,\n",
    "                number_density, length, temperature, temperature_e, temperature_p, B_flux,\n",
    "                length_scale, mass_density_scale, time_scale)\n",
    "ds = 0.1\n",
    "ppc = 128\n",
    "set_macro_particle_weights(scaling, ds, ppc)\n",
    "println(\" speed of light in code units = \", scaling.c_code)\n",
    "print_basic_info(scaling)\n",
    "print_ds_info(scaling)\n",
    "print_all_CGS(scaling)\n",
    "                "
   ]
  },
  {
   "cell_type": "code",
   "execution_count": 5,
   "metadata": {},
   "outputs": [
    {
     "data": {
      "text/plain": [
       "0.8531153158877349"
      ]
     },
     "metadata": {},
     "output_type": "display_data"
    }
   ],
   "source": [
    "0.001 * scaling.c_code /  (scaling.B_flux_code * scaling.v_a_code )"
   ]
  },
  {
   "cell_type": "code",
   "execution_count": 6,
   "metadata": {},
   "outputs": [
    {
     "name": "stdout",
     "output_type": "stream",
     "text": [
      "\u001b[1m4×4 DataFrame\u001b[0m\n",
      "\u001b[1m Row \u001b[0m│\u001b[1m nx    \u001b[0m\u001b[1m ppc_32     \u001b[0m\u001b[1m ppc_64    \u001b[0m\u001b[1m ppc_128    \u001b[0m\n",
      "     │\u001b[90m Int64 \u001b[0m\u001b[90m Float64    \u001b[0m\u001b[90m Float64   \u001b[0m\u001b[90m Float64    \u001b[0m\n",
      "─────┼──────────────────────────────────────────\n",
      "   1 │   128   0.0546133   0.109227    0.218453\n",
      "   2 │   256   0.436907    0.873813    1.74763\n",
      "   3 │   512   3.49525     6.99051    13.981\n",
      "   4 │  1024  27.962      55.9241    111.848\n"
     ]
    }
   ],
   "source": [
    "nx_all = [128,256,512,1024];\n",
    "ds = 25.6 ./ nx_all\n",
    "dt = ds ./ scaling.c_code * 0.25\n",
    "ppc_all = [32,64,128]\n",
    "n_species = 2\n",
    "n_cores = 128\n",
    "t_end = 300\n",
    "\n",
    "\n",
    "number_of_cells = nx_all .* nx_all / 2\n",
    "number_of_particles = number_of_cells * ppc_all' * n_species\n",
    "time_per_timestep = 0.8e-6 * number_of_particles\n",
    "time_per_sim_s = t_end ./ dt .* time_per_timestep / n_cores\n",
    "time_per_sim_h = time_per_sim_s / 3600\n",
    "\n",
    "using DataFrames\n",
    "\n",
    "df = DataFrame(time_per_sim_h, :auto)\n",
    "rename!(df, Symbol.(\"ppc_$(ppc)\" for ppc in ppc_all))\n",
    "# Add nx_all as a column to label the rows\n",
    "df[!, :nx] = nx_all\n",
    "# Set the :nx column as the first column\n",
    "select!(df, :nx, Not(:nx))\n",
    "# Print the DataFrame\n",
    "println(df)"
   ]
  },
  {
   "cell_type": "code",
   "execution_count": 7,
   "metadata": {},
   "outputs": [
    {
     "name": "stdout",
     "output_type": "stream",
     "text": [
      "\u001b[1m4×4 DataFrame\u001b[0m\n",
      "\u001b[1m Row \u001b[0m│\u001b[1m nx    \u001b[0m\u001b[1m ppc_32     \u001b[0m\u001b[1m ppc_64    \u001b[0m\u001b[1m ppc_128    \u001b[0m\n",
      "     │\u001b[90m Int64 \u001b[0m\u001b[90m Float64    \u001b[0m\u001b[90m Float64   \u001b[0m\u001b[90m Float64    \u001b[0m\n",
      "─────┼──────────────────────────────────────────\n",
      "   1 │   128   0.0546133   0.109227    0.218453\n",
      "   2 │   256   0.436907    0.873813    1.74763\n",
      "   3 │   512   3.49525     6.99051    13.981\n",
      "   4 │  1024  27.962      55.9241    111.848\n"
     ]
    }
   ],
   "source": [
    "using DataFrames\n",
    "\n",
    "df = DataFrame(time_per_sim_h, :auto)\n",
    "rename!(df, Symbol.(\"ppc_$(ppc)\" for ppc in ppc_all))\n",
    "# Add nx_all as a column to label the rows\n",
    "df[!, :nx] = nx_all\n",
    "# Set the :nx column as the first column\n",
    "select!(df, :nx, Not(:nx))\n",
    "# Print the DataFrame\n",
    "println(df)"
   ]
  },
  {
   "cell_type": "code",
   "execution_count": 8,
   "metadata": {},
   "outputs": [
    {
     "data": {
      "text/plain": [
       "4-element Vector{Float64}:\n",
       "  60000.0\n",
       " 120000.0\n",
       " 240000.0\n",
       " 480000.0"
      ]
     },
     "metadata": {},
     "output_type": "display_data"
    }
   ],
   "source": [
    "n_timesteps = t_end ./ dt"
   ]
  },
  {
   "cell_type": "code",
   "execution_count": 9,
   "metadata": {},
   "outputs": [
    {
     "data": {
      "text/plain": [
       "4×3 Matrix{Float64}:\n",
       "  0.41943   0.838861    1.67772\n",
       "  1.67772   3.35544     6.71089\n",
       "  6.71089  13.4218     26.8435\n",
       " 26.8435   53.6871    107.374"
      ]
     },
     "metadata": {},
     "output_type": "display_data"
    }
   ],
   "source": [
    "time_per_timestep  "
   ]
  },
  {
   "cell_type": "code",
   "execution_count": 10,
   "metadata": {},
   "outputs": [
    {
     "data": {
      "text/plain": [
       "1.2655210974658426e-8"
      ]
     },
     "metadata": {},
     "output_type": "display_data"
    }
   ],
   "source": [
    "10 / (base.c / length) "
   ]
  },
  {
   "cell_type": "code",
   "execution_count": 11,
   "metadata": {},
   "outputs": [
    {
     "name": "stdout",
     "output_type": "stream",
     "text": [
      " speed of light in code units = 1.0\n",
      "lenght                 = 37.93936804601425\n",
      "number_density         = 1.0e9\n",
      "B                      = 25.0\n",
      "T                      = 1.0e6\n",
      "\n",
      "length_scale           = 37.93936804601425\n",
      "mass_density_scale     = 1.6735328363560001e-15\n",
      "time_scale             = 1.2655210974658425e-8\n",
      "temperature_scale      = 1.0e6\n",
      "\n",
      "e_mass_scale           = 1.0\n",
      "charge_scaling         = 0.1\n",
      "eps_0_scaling          = 100.0\n",
      "mu_0_scaling           = 1.0\n",
      "\n",
      "debye length                                       = 5.7520e-02 \n",
      "ds at n_cell=128, debye len per ds, dt=ds/c*0.25   = 2.0000e-01 3.4771e+00 5.0000e-02 \n",
      "ds at n_cell=256, debye len per ds, dt=ds/c*0.25   = 1.0000e-01 1.7385e+00 2.5000e-02 \n",
      "ds at n_cell=512, debye len per ds, dt=ds/c*0.25   = 5.0000e-02 8.6927e-01 1.2500e-02 \n",
      "ds at n_cell=1024, debye len per ds, dt=ds/c*0.25  = 2.5000e-02 4.3463e-01 6.2500e-03 \n",
      "\n",
      " Maxwell Lorents Factors used in code:\n",
      " k_E =                                             =  1.0000e+00 \n",
      " k_B =                                             =  1.0000e+00 \n",
      " k_F =                                             =  1.0000e+00 \n",
      " k_D =                                             =  1.0000e+00 \n",
      " k_M =                                             =  1.0000e+00 \n",
      " k_H =                                             =  1.0000e+00 \n",
      "\n",
      " Macro particle weights:\n",
      "                          ds =                     =  1.0000e-01 \n",
      "                    per_cell =                     =  1.2800e+02 \n",
      "               weight_scaled =                     =  4.2664e+08 \n",
      " weight_scaled_mass_electron =                     =  4.2525e-09 \n",
      "   weight_scaled_mass_proton =                     =  7.8082e-06 \n",
      "        weight_scaled_charge =                     =  1.1608e-07 \n",
      "                 rho_n_ratio =                     =  5.4610e+13 \n",
      "\n",
      " Fundamental physical constants:\n",
      "        Gravitational Constant [ cm^3 g^-1 s^-2 ]  =  6.6743e-08  3.7310e+30  1.7889e-38\n",
      "          Boltzmann's Constant [ erg K^-1 ]        =  1.3806e-16  8.2138e+02  1.6809e-19\n",
      "             Planck's Constant [ erg s ]           =  6.6261e-27  1.0395e+01  6.3744e-28\n",
      "              Atomic Mass Unit [ g ]               =  1.6605e-24  9.1391e-11  1.8170e-14\n",
      "                   Proton Mass [ g ]               =  1.6726e-24  9.1391e-11  1.8302e-14\n",
      "                 Electron Mass [ g ]               =  9.1094e-28  9.1391e-11  9.9675e-18\n",
      "             Elementary Charge [ StatC ]           =  4.8032e-11  1.7653e+05  2.7209e-16\n",
      "           Vacuum Permittivity [ s^2 cm^-2 ]       =  8.8542e-21  1.1127e-19  7.9577e-02\n",
      "           Vacuum Permeability [  ]                =  1.2566e+01  1.0000e+00  1.2566e+01\n",
      "                Speed of Light [ cm/s ]            =  2.9979e+09  2.9979e+09  1.0000e+00\n",
      "                 Electron Volt [ erg ]             =  1.6022e-12  8.2138e+08  1.9506e-21\n",
      "         Mean molecular weight [ ]                 =  5.0391e-01  1.0000e+00  5.0391e-01\n",
      "\n",
      " Defining Constants:\n",
      "                 Number Desity [ cm^3 ]            =  1.0000e+09  1.8312e-05  5.4610e+13\n",
      "         Characteristic Length [ cm ]              =  3.7939e+01  3.7939e+01  1.0000e+00\n",
      "                   Temperature [ K ]               =  1.0000e+06  1.0000e+06  1.0000e+00\n",
      "          Electron Temperature [ K ]               =  1.0000e+06  1.0000e+06  1.0000e+00\n",
      "            Proton Temperature [ K ]               =  1.0000e+06  1.0000e+06  1.0000e+00\n",
      "        Magnetic Flux Strength [ G ]               =  2.5000e+01  1.2264e+02  2.0385e-01\n",
      "\n",
      " Velocities:\n",
      "       Characteristic velocity [ cm s^-1 ]         =  1.7239e+08  2.9979e+09  5.7504e-02\n",
      "               Alfven velocity [ cm s^-1 ]         =  1.7211e+08  2.9979e+09  5.7409e-02\n",
      "     electron thermal velocity [ cm s^-1 ]         =  3.8931e+08  2.9979e+09  1.2986e-01\n",
      "       proton thermal velocity [ cm s^-1 ]         =  9.0854e+06  2.9979e+09  3.0306e-03\n",
      "\n",
      " Frequencies:\n",
      "     electron gyro frequency   [ rad s^-1 ]        =  4.3970e+08  7.9019e+07  5.5646e+00\n",
      "       proton gyro frequency   [ rad s^-1 ]        =  2.3947e+05  7.9019e+07  3.0306e-03\n",
      "     electron plasma frequency [ rad s^-1 ]        =  1.7840e+08  7.9019e+07  2.2577e+00\n",
      "       proton plasma frequency [ rad s^-1 ]        =  4.1633e+06  7.9019e+07  5.2687e-02\n",
      "\n",
      " Lengths:\n",
      "           electron skin depth [ cm ]              =  1.6805e+01  3.7939e+01  4.4293e-01\n",
      "             proton skin depth [ cm ]              =  7.2008e+02  3.7939e+01  1.8980e+01\n",
      "                 debye Length  [ cm ]              =  2.1823e+00  3.7939e+01  5.7520e-02\n",
      "       inter particle distance [ cm ]              =  1.0000e-03  3.7939e+01  2.6358e-05\n",
      "          electron gyro radius [ cm ]              =  8.8539e-01  3.7939e+01  2.3337e-02\n",
      "            proton gyro radius [ cm ]              =  3.7939e+01  3.7939e+01  1.0000e+00\n",
      "\n",
      " Other:\n",
      "                  Mass density [ g cm^-3 ]         =  1.6735e-15  1.6735e-15  1.0000e+00\n",
      "           Characteristic mass [ g ]               =  9.1391e-11  9.1391e-11  1.0000e+00\n",
      "          Characteristic time  [ s ]               =  2.2008e-07  1.2655e-08  1.7390e+01\n",
      " Characteristic kinetic energy [ erg ]             =  2.7161e+06  8.2138e+08  3.3067e-03\n",
      "               energy per mass [ erg g^-1]         =  2.9719e+16  8.9876e+18  3.3067e-03\n",
      "             energy per volume [ erg cm^-3]        =  4.9736e+01  1.5041e+04  3.3067e-03\n",
      "      Characteristic  pressure [ Ba ]              =  2.7613e-01  1.5041e+04  1.8359e-05\n"
     ]
    }
   ],
   "source": [
    "base = BaseUnits(\"CGS\")\n",
    "#------------- Scale base units ----------------\n",
    "    #--------------- scaling parameters -------------------\n",
    "electron_proton_ratio = base.m_p / base.m_e # realistic proton to electron mass\n",
    "#electron_proton_ratio = 400\n",
    "eps_0_scaling = 1e2\n",
    "charge_scaling = 1e-1\n",
    "    #------ calculate electron mass scaing based on ratio of electron to proton mass -----\n",
    "electron_mass_scaling = (base.m_p / base.m_e) / electron_proton_ratio\n",
    "    #-------------------------------------------------------------------------------------\n",
    "scale_base_units(base, eps_0_scaling, mu_0_scaling, electron_mass_scaling, charge_scaling)\n",
    "#-----------------------------------------------\n",
    "\n",
    "\n",
    "#---------- get plasma freq and proton radius in order to set length and time scales ---\n",
    "ω_e = get_plasma_frequency(base, number_density)\n",
    "r_p = get_proton_radius(base, temperature_p, B_flux)\n",
    "#---------------------------------------------------------------------------------------\n",
    "\n",
    "#------------------- set scaling units  ----------------------------------------\n",
    "mass_density_scale = get_mass_density_scale(base, number_density)\n",
    "length = r_p\n",
    "length_scale = r_p\n",
    "time_scale = 1 / (base.c / length)  #2 * pi / ω_e\n",
    "#---------------------------------------------------------------------------------------\n",
    "\n",
    "\n",
    "scaling = ScalingCGS(base,\n",
    "                number_density, length, temperature, temperature_e, temperature_p, B_flux,\n",
    "                length_scale, mass_density_scale, time_scale)\n",
    "\n",
    "\n",
    "ds = 0.1\n",
    "ppc = 128\n",
    "set_macro_particle_weights(scaling, ds, ppc)\n",
    "\n",
    "println(\" speed of light in code units = \", scaling.c_code)\n",
    "print_basic_info(scaling)\n",
    "print_ds_info(scaling)\n",
    "\n",
    "print_all_CGS(scaling)"
   ]
  },
  {
   "cell_type": "code",
   "execution_count": 22,
   "metadata": {},
   "outputs": [
    {
     "data": {
      "text/plain": [
       "2.1822724500067396"
      ]
     },
     "metadata": {},
     "output_type": "display_data"
    }
   ],
   "source": [
    "37.93936804601425*5.7520e-02"
   ]
  },
  {
   "cell_type": "code",
   "execution_count": 20,
   "metadata": {},
   "outputs": [
    {
     "data": {
      "text/plain": [
       "2.531042194931685e-6"
      ]
     },
     "metadata": {},
     "output_type": "display_data"
    }
   ],
   "source": [
    "1.2655210974658425e-8* 200"
   ]
  },
  {
   "cell_type": "code",
   "execution_count": 12,
   "metadata": {},
   "outputs": [
    {
     "ename": "ErrorException",
     "evalue": "syntax: \"*\" is not a unary operator",
     "output_type": "error",
     "traceback": [
      "syntax: \"*\" is not a unary operator\n",
      "\n",
      "Stacktrace:\n",
      " [1] top-level scope\n",
      "   @ ~/Dropbox/PhD/plasma_scaling/experiments/pip_current_sheet/jl_notebook_cell_df34fa98e69747e1a8f8a730347b8e2f_X14sZmlsZQ==.jl:1"
     ]
    }
   ],
   "source": [
    "* 0.1 *  scaling.c_code /  (scaling.B_flux_code * scaling.v_a_code )"
   ]
  },
  {
   "cell_type": "code",
   "execution_count": 13,
   "metadata": {},
   "outputs": [
    {
     "name": "stdout",
     "output_type": "stream",
     "text": [
      "\u001b[1m4×4 DataFrame\u001b[0m\n",
      "\u001b[1m Row \u001b[0m│\u001b[1m nx    \u001b[0m\u001b[1m ppc_32     \u001b[0m\u001b[1m ppc_64    \u001b[0m\u001b[1m ppc_128    \u001b[0m\n",
      "     │\u001b[90m Int64 \u001b[0m\u001b[90m Float64    \u001b[0m\u001b[90m Float64   \u001b[0m\u001b[90m Float64    \u001b[0m\n",
      "─────┼──────────────────────────────────────────\n",
      "   1 │   128  0.00546133  0.0109227   0.0218453\n",
      "   2 │   256  0.0436907   0.0873813   0.174763\n",
      "   3 │   512  0.349525    0.699051    1.3981\n",
      "   4 │  1024  2.7962      5.59241    11.1848\n"
     ]
    }
   ],
   "source": [
    "nx_all = [128,256,512,1024];\n",
    "ds = 25.6 ./ nx_all\n",
    "dt = ds ./ scaling.c_code * 0.25\n",
    "ppc_all = [32,64,128]\n",
    "n_species = 2\n",
    "n_cores = 128\n",
    "t_end = 300\n",
    "\n",
    "\n",
    "number_of_cells = nx_all .* nx_all / 2\n",
    "number_of_particles = number_of_cells * ppc_all' * n_species\n",
    "time_per_timestep = 0.8e-6 * number_of_particles\n",
    "time_per_sim_s = t_end ./ dt .* time_per_timestep / n_cores\n",
    "time_per_sim_h = time_per_sim_s / 3600\n",
    "\n",
    "using DataFrames\n",
    "\n",
    "df = DataFrame(time_per_sim_h, :auto)\n",
    "rename!(df, Symbol.(\"ppc_$(ppc)\" for ppc in ppc_all))\n",
    "# Add nx_all as a column to label the rows\n",
    "df[!, :nx] = nx_all\n",
    "# Set the :nx column as the first column\n",
    "select!(df, :nx, Not(:nx))\n",
    "# Print the DataFrame\n",
    "println(df)"
   ]
  },
  {
   "cell_type": "code",
   "execution_count": 14,
   "metadata": {},
   "outputs": [
    {
     "data": {
      "text/plain": [
       "0.01170260605639418"
      ]
     },
     "metadata": {},
     "output_type": "display_data"
    }
   ],
   "source": [
    "scaling.B_flux_code * scaling.v_a_code / scaling.c_code"
   ]
  }
 ],
 "metadata": {
  "kernelspec": {
   "display_name": "Julia 1.8.5",
   "language": "julia",
   "name": "julia-1.8"
  },
  "language_info": {
   "file_extension": ".jl",
   "mimetype": "application/julia",
   "name": "julia",
   "version": "1.8.5"
  }
 },
 "nbformat": 4,
 "nbformat_minor": 2
}
