{
 "cells": [
  {
   "cell_type": "code",
   "execution_count": 2,
   "metadata": {},
   "outputs": [
    {
     "data": {
      "text/plain": [
       "print_basic_info (generic function with 1 method)"
      ]
     },
     "metadata": {},
     "output_type": "display_data"
    }
   ],
   "source": [
    "using Plots\n",
    "using QuadGK\n",
    "using NLopt\n",
    "#using SpecialFunctions\n",
    "using NLsolve\n",
    "using Statistics\n",
    "include(\"../../scaling_HL.jl\")"
   ]
  },
  {
   "cell_type": "code",
   "execution_count": 3,
   "metadata": {},
   "outputs": [
    {
     "name": "stdout",
     "output_type": "stream",
     "text": [
      "Plasma beta = 0.005522594080000001\n",
      "\n",
      " Maxwell Lorents Factors used in code:\n",
      " k_E =                                             =  7.9577e-02 \n",
      " k_B =                                             =  5.4271e-01 \n",
      " k_F =                                             =  6.8198e+00 \n",
      " k_D =                                             =  1.0000e+00 \n",
      " k_M =                                             =  1.4663e-01 \n",
      " k_H =                                             =  1.0000e+00 \n",
      "\n",
      " Macro particle weights:\n",
      "                          ds =                     =  1.9531e-03 \n",
      "                    per_cell =                     =  3.2000e+01 \n",
      "               weight_scaled =                     =  8.6934e+07 \n",
      " weight_scaled_mass_electron =                     =  1.2673e-13 \n",
      "   weight_scaled_mass_proton =                     =  2.3270e-10 \n",
      "        weight_scaled_charge =                     =  3.4131e-11 \n",
      "                 rho_n_ratio =                     =  3.7338e+17 \n",
      "\n",
      " Fundamental physical constants:\n",
      "        Gravitational Constant [ cm^3 g^-1 s^-2 ]  =  6.6743e-08  4.8171e+31  1.3855e-39\n",
      "          Boltzmann's Constant [ erg K^-1 ]        =  1.3806e-16  2.6120e+16  5.2858e-33\n",
      "             Planck's Constant [ erg s ]           =  6.6261e-27  9.1995e+07  7.2026e-35\n",
      "              Atomic Mass Unit [ g ]               =  1.6605e-24  6.2486e-07  2.6574e-18\n",
      "                   Proton Mass [ g ]               =  1.6726e-24  6.2486e-07  2.6768e-18\n",
      "                 Electron Mass [ g ]               =  9.1094e-28  6.2486e-07  1.4578e-21\n",
      "             Elementary Charge [ StatC ]           =  1.7027e-09  4.3369e+09  3.9261e-19\n",
      "           Vacuum Permittivity [ s^2 cm^-2 ]       =  1.1127e-21  2.3923e-23  4.6510e+01\n",
      "           Vacuum Permeability [  ]                =  1.0000e+00  1.0000e+00  1.0000e+00\n",
      "                Speed of Light [ cm/s ]            =  2.9979e+10  2.0445e+11  1.4663e-01\n",
      "                 Electron Volt [ erg ]             =  1.6022e-12  2.6120e+16  6.1339e-29\n",
      "         Mean molecular weight [ ]                 =  5.0391e-01  1.0000e+00  5.0391e-01\n",
      "\n",
      " Defining Constants:\n",
      "                 Number Desity [ cm^3 ]            =  1.0000e+09  2.6782e-09  3.7338e+17\n",
      "         Characteristic Length [ cm ]              =  7.2008e+02  7.2008e+02  1.0000e+00\n",
      "                   Temperature [ K ]               =  1.0000e+06  1.0000e+00  1.0000e+06\n",
      "          Electron Temperature [ K ]               =  1.0000e+06  1.0000e+00  1.0000e+06\n",
      "            Proton Temperature [ K ]               =  1.0000e+06  1.0000e+00  1.0000e+06\n",
      "        Magnetic Flux Strength [ G ]               =  1.0000e+01  8.3640e+03  1.1956e-03\n",
      "\n",
      " Velocities:\n",
      "       Characteristic velocity [ cm s^-1 ]         =  2.4445e+08  2.0445e+11  1.1956e-03\n",
      "               Alfven velocity [ cm s^-1 ]         =  2.4444e+08  2.0445e+11  1.1956e-03\n",
      "     electron thermal velocity [ cm s^-1 ]         =  3.8931e+08  2.0445e+11  1.9042e-03\n",
      "       proton thermal velocity [ cm s^-1 ]         =  9.0854e+06  2.0445e+11  4.4437e-05\n",
      "\n",
      " Frequencies:\n",
      "     electron gyro frequency   [ rad s^-1 ]        =  6.2349e+08  2.8393e+08  2.1959e+00\n",
      "       proton gyro frequency   [ rad s^-1 ]        =  3.3956e+05  2.8393e+08  1.1959e-03\n",
      "     electron plasma frequency [ rad s^-1 ]        =  1.7840e+09  2.8393e+08  6.2832e+00\n",
      "       proton plasma frequency [ rad s^-1 ]        =  4.1633e+07  2.8393e+08  1.4663e-01\n",
      "\n",
      " Lengths:\n",
      "           electron skin depth [ cm ]              =  1.6805e+01  7.2008e+02  2.3337e-02\n",
      "             proton skin depth [ cm ]              =  7.2008e+02  7.2008e+02  1.0000e+00\n",
      "                 debye Length  [ cm ]              =  2.1823e-01  7.2008e+02  3.0306e-04\n",
      "       inter particle distance [ cm ]              =  1.0000e-03  7.2008e+02  1.3887e-06\n",
      "          electron gyro radius [ cm ]              =  6.2441e-01  7.2008e+02  8.6714e-04\n",
      "            proton gyro radius [ cm ]              =  2.6756e+01  7.2008e+02  3.7157e-02\n",
      "\n",
      " Other:\n",
      "                  Mass density [ g cm^-3 ]         =  1.6735e-15  1.6735e-15  1.0000e+00\n",
      "           Characteristic mass [ g ]               =  6.2486e-07  6.2486e-07  1.0000e+00\n",
      "          Characteristic time  [ s ]               =  2.9458e-06  3.5220e-09  8.3640e+02\n",
      " Characteristic kinetic energy [ erg ]             =  3.7338e+10  2.6120e+16  1.4295e-06\n",
      "               energy per mass [ erg g^-1]         =  5.9754e+16  4.1801e+22  1.4295e-06\n",
      "             energy per volume [ erg cm^-3]        =  1.0000e+02  6.9956e+07  1.4295e-06\n",
      "      Characteristic  pressure [ Ba ]              =  2.7613e-01  6.9956e+07  3.9472e-09\n"
     ]
    }
   ],
   "source": [
    "#---------- Double current sheet setup ----------\n",
    "base = BaseUnits(\"HL\")\n",
    "\n",
    "electron_mass_scaling = 1e0#4.590381684400168\n",
    "charge_scaling = 1e0\n",
    "eps_0_scaling = 1e0#1e2\n",
    "mu_0_scaling = 1e0\n",
    "\n",
    "scale_base_units(base, eps_0_scaling, mu_0_scaling, electron_mass_scaling, charge_scaling)\n",
    "\n",
    "mass_density_scale = 1.6735328363560001e-15\n",
    "length_scale       = 720.0847332647692 # proton skin depth\n",
    "time_scale         = 3.5219920728365707e-9\n",
    "temperature_scale  = 1e0\n",
    "\n",
    "\n",
    "length = 720.0847332647692\n",
    "number_density=1e9 \n",
    "B_flux= 10\n",
    "temperature   = 1e6\n",
    "temperature_e = temperature\n",
    "temperature_p = temperature\n",
    "\n",
    "\n",
    "\n",
    "scaling = ScalingHL(base,\n",
    "                number_density, length, temperature, temperature_e, temperature_p, B_flux,\n",
    "                length_scale, mass_density_scale, time_scale, temperature_scale)\n",
    "\n",
    "ds = 0.001953125\n",
    "per_cell = 32\n",
    "\n",
    "set_macro_particle_weights(scaling, ds, per_cell);\n",
    "#print_all_HL(scaling)\n",
    "\n",
    "\n",
    "println(\"Plasma beta = \", scaling.pressure_real / (scaling.B_flux_real^2 / (2 * scaling.mu_0_real)))\n",
    "print_all_HL(scaling)\n",
    "\n",
    "\n",
    "#scaling.p_gyro_radiues_real / scaling.debye_len_real"
   ]
  },
  {
   "cell_type": "code",
   "execution_count": 1,
   "metadata": {},
   "outputs": [
    {
     "ename": "UndefVarError",
     "evalue": "UndefVarError: BaseUnits not defined",
     "output_type": "error",
     "traceback": [
      "UndefVarError: BaseUnits not defined\n",
      "\n",
      "Stacktrace:\n",
      " [1] top-level scope\n",
      "   @ ~/Dropbox/PhD/plasma_scaling/experiments/boundary_new/jl_notebook_cell_df34fa98e69747e1a8f8a730347b8e2f_W2sZmlsZQ==.jl:2"
     ]
    }
   ],
   "source": [
    "#---------- Double current sheet setup ----------\n",
    "base = BaseUnits(\"HL\")\n",
    "\n",
    "electron_proton_mass_ratio = 1.0\n",
    "\n",
    "electron_mass_scaling = (base.m_p / base.m_e) / electron_proton_mass_ratio\n",
    "charge_scaling = 1e0 #1e-5\n",
    "eps_0_scaling = 1e2\n",
    "mu_0_scaling = 1e0\n",
    "\n",
    "scale_base_units(base, eps_0_scaling, mu_0_scaling, electron_mass_scaling, charge_scaling)\n",
    "\n",
    "\n",
    "length = 1e0 #720.0847332647692\n",
    "number_density= 1e9 #6.44179e10\n",
    "B_flux= 10 #5.001453703253804 #22.222\n",
    "temperature   = 1.0e6\n",
    "temperature_e = temperature\n",
    "temperature_p = temperature\n",
    "\n",
    "\n",
    "\n",
    "mu = ( (base.m_e + base.m_p)  / 2. ) /  base.m_u# assuming only protons and electrons\n",
    "mass_density = number_density * 2 * mu * base.m_u\n",
    "e_plasma = base.e * sqrt( number_density / base.m_e)\n",
    "\n",
    "\n",
    "\n",
    "#----------- These always sets the following code units --------------\n",
    "#            rho=1, c=1, e_plasma=2pi\n",
    "mass_density_scale = mass_density\n",
    "time_scale         = 2 * pi / e_plasma\n",
    "length_scale       = base.c * time_scale#\n",
    "temperature_scale  = 1e0\n",
    "#----------------------------------------------------------------------\n",
    "\n",
    "length = length_scale\n",
    "\n",
    "\n",
    "scaling = ScalingHL(base,\n",
    "                number_density, length, temperature, temperature_e, temperature_p, B_flux,\n",
    "                length_scale, mass_density_scale, time_scale, temperature_scale)\n",
    "ds = 1 / (16 * 4 )\n",
    "per_cell = 128\n",
    "\n",
    "set_macro_particle_weights(scaling, ds, per_cell);\n",
    "beta = scaling.pressure_real / (scaling.B_flux_real^2 / (2 * scaling.mu_0_real))\n",
    "\n",
    "debye_per_ds = ds / scaling.debye_len_code\n",
    "\n",
    "println(\"debye_per_ds = \", debye_per_ds)\n",
    "println(\"Plasma beta = \", beta, \" \\n\")\n",
    "\n",
    "print_basic_info(scaling)\n",
    "print_all_HL(scaling)"
   ]
  },
  {
   "cell_type": "code",
   "execution_count": 5,
   "metadata": {},
   "outputs": [
    {
     "data": {
      "text/plain": [
       "1"
      ]
     },
     "metadata": {},
     "output_type": "display_data"
    }
   ],
   "source": [
    "d = 0.015625\n",
    "c = 1"
   ]
  },
  {
   "cell_type": "code",
   "execution_count": 6,
   "metadata": {},
   "outputs": [
    {
     "data": {
      "text/plain": [
       "0.015625"
      ]
     },
     "metadata": {},
     "output_type": "display_data"
    }
   ],
   "source": [
    "ds^2 / d "
   ]
  },
  {
   "cell_type": "code",
   "execution_count": 7,
   "metadata": {},
   "outputs": [
    {
     "data": {
      "text/plain": [
       "0.015625"
      ]
     },
     "metadata": {},
     "output_type": "display_data"
    }
   ],
   "source": [
    "ds / c"
   ]
  },
  {
   "cell_type": "code",
   "execution_count": 8,
   "metadata": {},
   "outputs": [
    {
     "data": {
      "text/plain": [
       "0.015625"
      ]
     },
     "metadata": {},
     "output_type": "display_data"
    }
   ],
   "source": [
    "ds^2 / (ds / c)"
   ]
  },
  {
   "cell_type": "code",
   "execution_count": 9,
   "metadata": {},
   "outputs": [
    {
     "data": {
      "text/plain": [
       "0.015625"
      ]
     },
     "metadata": {},
     "output_type": "display_data"
    }
   ],
   "source": [
    "ds * c"
   ]
  },
  {
   "cell_type": "code",
   "execution_count": 10,
   "metadata": {},
   "outputs": [
    {
     "data": {
      "text/plain": [
       "2.1193574006396255e10"
      ]
     },
     "metadata": {},
     "output_type": "display_data"
    }
   ],
   "source": [
    "ds * scaling.length_scaling * scaling.c_real"
   ]
  },
  {
   "cell_type": "code",
   "execution_count": 11,
   "metadata": {},
   "outputs": [
    {
     "ename": "UndefVarError",
     "evalue": "UndefVarError: dt not defined",
     "output_type": "error",
     "traceback": [
      "UndefVarError: dt not defined\n",
      "\n",
      "Stacktrace:\n",
      " [1] top-level scope\n",
      "   @ ~/Dropbox/PhD/plasma_scaling/experiments/boundary_new/jl_notebook_cell_df34fa98e69747e1a8f8a730347b8e2f_X12sZmlsZQ==.jl:1"
     ]
    }
   ],
   "source": [
    "ds * scaling.c_code * dt "
   ]
  },
  {
   "cell_type": "code",
   "execution_count": 12,
   "metadata": {},
   "outputs": [
    {
     "data": {
      "text/plain": [
       "0.0039062"
      ]
     },
     "metadata": {},
     "output_type": "display_data"
    }
   ],
   "source": [
    "dt = 3.9062E-03"
   ]
  },
  {
   "cell_type": "code",
   "execution_count": 13,
   "metadata": {},
   "outputs": [
    {
     "data": {
      "text/plain": [
       "15.9997952"
      ]
     },
     "metadata": {},
     "output_type": "display_data"
    }
   ],
   "source": [
    "dt / ds^2"
   ]
  },
  {
   "cell_type": "code",
   "execution_count": 14,
   "metadata": {},
   "outputs": [
    {
     "data": {
      "text/plain": [
       "0.0390625"
      ]
     },
     "metadata": {},
     "output_type": "display_data"
    }
   ],
   "source": [
    "0.18359375000000000- 0.14453125000000000"
   ]
  },
  {
   "cell_type": "code",
   "execution_count": 15,
   "metadata": {},
   "outputs": [
    {
     "data": {
      "text/plain": [
       "0.00390625"
      ]
     },
     "metadata": {},
     "output_type": "display_data"
    }
   ],
   "source": [
    "0.04296875 / 11"
   ]
  }
 ],
 "metadata": {
  "kernelspec": {
   "display_name": "Julia 1.8.5",
   "language": "julia",
   "name": "julia-1.8"
  },
  "language_info": {
   "file_extension": ".jl",
   "mimetype": "application/julia",
   "name": "julia",
   "version": "1.8.5"
  }
 },
 "nbformat": 4,
 "nbformat_minor": 2
}
