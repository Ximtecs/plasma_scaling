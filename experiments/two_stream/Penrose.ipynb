{
 "cells": [
  {
   "cell_type": "code",
   "execution_count": 1,
   "metadata": {},
   "outputs": [
    {
     "data": {
      "text/plain": [
       "print_all_CGS (generic function with 2 methods)"
      ]
     },
     "metadata": {},
     "output_type": "display_data"
    }
   ],
   "source": [
    "using Plots\n",
    "using QuadGK\n",
    "using NLopt\n",
    "using SpecialFunctions\n",
    "using NLsolve\n",
    "include(\"../../scaling_CGS.jl\")"
   ]
  },
  {
   "cell_type": "code",
   "execution_count": 2,
   "metadata": {},
   "outputs": [
    {
     "data": {
      "text/plain": [
       "1.1807305771571771e17"
      ]
     },
     "metadata": {},
     "output_type": "display_data"
    }
   ],
   "source": [
    "#---------- Two Steam Setup ----------\n",
    "base = BaseUnits(\"CGS\")\n",
    "\n",
    "electron_mass_scaling = 1e0\n",
    "charge_scaling = 1e0\n",
    "eps_0_scaling = 1e0\n",
    "mu_0_scaling = 1e0\n",
    "\n",
    "scale_base_units(base, eps_0_scaling, mu_0_scaling, charge_scaling, electron_mass_scaling)\n",
    "\n",
    "mass_density_scale = 1.673532836356e-14\n",
    "length_scale       = 227.71078654314857\n",
    "time_scale         = 1.1137516851221212e-9\n",
    "\n",
    "\n",
    "\n",
    "length= 227.71078654314857\n",
    "number_density=1e10\n",
    "B_flux=10\n",
    "temperature   = 59298985.44815759\n",
    "temperature_e = temperature\n",
    "temperature_p = temperature\n",
    "\n",
    "\n",
    "\n",
    "scaling = ScalingCGS(base,\n",
    "                number_density, length, temperature, temperature_e, temperature_p, B_flux,\n",
    "                length_scale, mass_density_scale, time_scale)\n",
    "\n",
    "ds = 0.0025\n",
    "per_cell = 125\n",
    "\n",
    "set_macro_particle_weights(scaling, ds, per_cell);\n",
    "#print_all_CGS(scaling)"
   ]
  },
  {
   "cell_type": "code",
   "execution_count": 3,
   "metadata": {},
   "outputs": [
    {
     "data": {
      "text/plain": [
       "Penrose_criterion (generic function with 1 method)"
      ]
     },
     "metadata": {},
     "output_type": "display_data"
    }
   ],
   "source": [
    "# Penrose criterion function\n",
    "#   Note, this is based only on electrons and protons are neglected\n",
    "function Penrose_criterion(U0, V0, v_t)\n",
    "    function integrand(u)\n",
    "        p1 = exp(- (u + V0)^2 / (2 * v_t^2))\n",
    "        p2 = exp(- (u - V0)^2 / (2 * v_t^2))\n",
    "        p3 = exp(- (U0 + V0)^2 / (2 * v_t^2))\n",
    "        p4 = exp(- (U0 - V0)^2 / (2 * v_t^2))\n",
    "        return (p1 + p2 - p3 - p4) / (u - U0)^2\n",
    "    end\n",
    "\n",
    "    integral, error = quadgk(integrand, -c*100, c*100) # Multiplying with 10 as in Python code\n",
    "    return integral, error\n",
    "end"
   ]
  },
  {
   "cell_type": "code",
   "execution_count": 6,
   "metadata": {},
   "outputs": [
    {
     "name": "stdout",
     "output_type": "stream",
     "text": [
      "Setup is no longer unstable if thermal velocity reaches 4.59e+09 m/s\n",
      "Relative to drift this is 0.76555\n",
      "This corresponds to a temperature of: 1.39e+08 K\n"
     ]
    }
   ],
   "source": [
    "#---------- Find unstable limit for \"real\" physical values --------------\n",
    "\n",
    "c = scaling.c_real\n",
    "m_e = scaling.m_e_real\n",
    "\n",
    "k_B = scaling.k_B_real\n",
    "\n",
    "V_0 = scaling.c_real * 0.2\n",
    "\n",
    "U0 = 1e-6 # #Should be zero but integrals crash so just make it a small value compared to the velocities \n",
    "\n",
    "\n",
    "#---------- Find zero crossing  ------------------------------\n",
    "V_t_arr  = collect(range(0.7,stop=0.8, length=10000)) * V_0\n",
    "Pen_res = zeros(size(V_t_arr))\n",
    "\n",
    "for (i,v_t) in enumerate(V_t_arr)\n",
    "    res, err = Penrose_criterion.(U0, V_0, v_t)\n",
    "    Pen_res[i] = res\n",
    "end\n",
    "\n",
    "min_index = argmin(abs.(Pen_res))\n",
    "v_t_limit = V_t_arr[min_index]\n",
    "#------------------------------------------------------------\n",
    "\n",
    "println(\"Setup is no longer unstable if thermal velocity reaches $(@sprintf(\"%.2e\", v_t_limit)) m/s\")\n",
    "println(\"Relative to drift this is $(@sprintf(\"%.5f\", v_t_limit / V_0))\")\n",
    "println(\"This corresponds to a temperature of: $(@sprintf(\"%.2e\", v_t_limit^2 * m_e / k_B)) K\")\n"
   ]
  },
  {
   "cell_type": "code",
   "execution_count": 7,
   "metadata": {},
   "outputs": [
    {
     "name": "stdout",
     "output_type": "stream",
     "text": [
      "Setup is no longer unstable if thermal velocity reaches 2.25e-02 [ code units ]\n",
      "Relative to drift this is 0.76555\n",
      "This corresponds to a temperature of: 1.39e+08 K\n"
     ]
    }
   ],
   "source": [
    "#---------- Find unstable limit for scaled code values --------------\n",
    "\n",
    "c = scaling.c_code\n",
    "\n",
    "m_e = scaling.m_e_code\n",
    "\n",
    "k_B = scaling.k_B_code\n",
    "\n",
    "V_0 = scaling.c_code * 0.2\n",
    "\n",
    "U0 = 1e-15 #Should be zero but integrals crash so just make it a small value compared to the velocities \n",
    "\n",
    "#---------- Find zero crossing based ------------------------------\n",
    "V_t_arr  = collect(range(0.7,stop=0.8, length=10000)) * V_0\n",
    "Pen_res = zeros(size(V_t_arr))\n",
    "\n",
    "for (i,v_t) in enumerate(V_t_arr)\n",
    "    res, err = Penrose_criterion.(U0, V_0, v_t)\n",
    "    #println(i)\n",
    "    Pen_res[i] = res\n",
    "end\n",
    "\n",
    "min_index = argmin(abs.(Pen_res))\n",
    "v_t_limit = V_t_arr[min_index]\n",
    "#------------------------------------------------------------\n",
    "\n",
    "println(\"Setup is no longer unstable if thermal velocity reaches $(@sprintf(\"%.2e\", v_t_limit)) [ code units ]\")\n",
    "println(\"Relative to drift this is $(@sprintf(\"%.5f\", v_t_limit / V_0))\")\n",
    "println(\"This corresponds to a temperature of: $(@sprintf(\"%.2e\", v_t_limit^2 * m_e / k_B)) K\")\n",
    "\n",
    "\n",
    "#Note - the ratio between v_t_limit and v_0 should be the same as the real units \n"
   ]
  }
 ],
 "metadata": {
  "kernelspec": {
   "display_name": "Julia 1.8.5",
   "language": "julia",
   "name": "julia-1.8"
  },
  "language_info": {
   "file_extension": ".jl",
   "mimetype": "application/julia",
   "name": "julia",
   "version": "1.8.5"
  }
 },
 "nbformat": 4,
 "nbformat_minor": 2
}
