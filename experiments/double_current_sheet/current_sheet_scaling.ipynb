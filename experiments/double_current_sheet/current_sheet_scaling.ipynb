{
 "cells": [
  {
   "cell_type": "code",
   "execution_count": 1,
   "metadata": {},
   "outputs": [
    {
     "data": {
      "text/plain": [
       "print_basic_info (generic function with 1 method)"
      ]
     },
     "metadata": {},
     "output_type": "display_data"
    }
   ],
   "source": [
    "using Plots\n",
    "using QuadGK\n",
    "using NLopt\n",
    "using SpecialFunctions\n",
    "using NLsolve\n",
    "using Statistics\n",
    "include(\"../../scaling_CGS.jl\")"
   ]
  },
  {
   "cell_type": "code",
   "execution_count": 2,
   "metadata": {},
   "outputs": [
    {
     "name": "stdout",
     "output_type": "stream",
     "text": [
      "\n",
      " Maxwell Lorents Factors used in code:\n",
      " k_E =                                             =  1.0000e+00 \n",
      " k_B =                                             =  1.7966e-01 \n",
      " k_F =                                             =  1.7966e-01 \n",
      " k_D =                                             =  1.0000e+00 \n",
      " k_M =                                             =  5.5661e+00 \n",
      " k_H =                                             =  1.0000e+00 \n",
      "\n",
      " Macro particle weights:\n",
      "                          ds =                     =  5.0000e-02 \n",
      "                    per_cell =                     =  1.2800e+02 \n",
      "               weight_scaled =                     =  6.6662e+06 \n",
      " weight_scaled_mass_electron =                     =  5.3156e-10 \n",
      "   weight_scaled_mass_proton =                     =  9.7603e-07 \n",
      "        weight_scaled_charge =                     =  4.0383e-08 \n",
      "                 rho_n_ratio =                     =  6.8262e+12 \n",
      "\n",
      " Fundamental physical constants:\n",
      "        Gravitational Constant [ cm^3 g^-1 s^-2 ]  =  6.6743e-08  4.8171e+31  1.3855e-39\n",
      "          Boltzmann's Constant [ erg K^-1 ]        =  1.3806e-16  3.3140e+02  4.1661e-19\n",
      "             Planck's Constant [ erg s ]           =  6.6261e-27  1.1672e+00  5.6769e-27\n",
      "              Atomic Mass Unit [ g ]               =  1.6605e-24  1.1424e-11  1.4536e-13\n",
      "                   Proton Mass [ g ]               =  1.6726e-24  1.1424e-11  1.4641e-13\n",
      "                 Electron Mass [ g ]               =  9.1094e-28  1.1424e-11  7.9740e-17\n",
      "             Elementary Charge [ StatC ]           =  4.8032e-10  7.9288e+04  6.0579e-15\n",
      "           Vacuum Permittivity [ s^2 cm^-2 ]       =  8.8542e-23  3.4471e-20  2.5686e-03\n",
      "           Vacuum Permeability [  ]                =  1.2566e+01  1.0000e+00  1.2566e+01\n",
      "                Speed of Light [ cm/s ]            =  2.9979e+10  5.3861e+09  5.5661e+00\n",
      "                 Electron Volt [ erg ]             =  1.6022e-12  3.3140e+08  4.8345e-21\n",
      "         Mean molecular weight [ ]                 =  5.0391e-01  1.0000e+00  5.0391e-01\n",
      "\n",
      " Defining Constants:\n",
      "                 Number Desity [ cm^3 ]            =  1.0000e+09  1.4649e-04  6.8262e+12\n",
      "         Characteristic Length [ cm ]              =  1.8970e+01  1.8970e+01  1.0000e+00\n",
      "                   Temperature [ K ]               =  1.0000e+06  1.0000e+06  1.0000e+00\n",
      "          Electron Temperature [ K ]               =  1.0000e+06  1.0000e+06  1.0000e+00\n",
      "            Proton Temperature [ K ]               =  1.0000e+06  1.0000e+06  1.0000e+00\n",
      "        Magnetic Flux Strength [ G ]               =  5.0000e+01  2.2034e+02  2.2692e-01\n",
      "\n",
      " Velocities:\n",
      "       Characteristic velocity [ cm s^-1 ]         =  3.4478e+08  5.3861e+09  6.4014e-02\n",
      "               Alfven velocity [ cm s^-1 ]         =  3.4476e+08  5.3861e+09  6.4010e-02\n",
      "     electron thermal velocity [ cm s^-1 ]         =  3.8931e+08  5.3861e+09  7.2281e-02\n",
      "       proton thermal velocity [ cm s^-1 ]         =  9.0854e+06  5.3861e+09  1.6868e-03\n",
      "\n",
      " Frequencies:\n",
      "     electron gyro frequency   [ rad s^-1 ]        =  8.7941e+08  2.8393e+08  3.0973e+00\n",
      "       proton gyro frequency   [ rad s^-1 ]        =  4.7894e+05  2.8393e+08  1.6868e-03\n",
      "     electron plasma frequency [ rad s^-1 ]        =  1.7840e+09  2.8393e+08  6.2832e+00\n",
      "       proton plasma frequency [ rad s^-1 ]        =  4.1633e+07  2.8393e+08  1.4663e-01\n",
      "\n",
      " Lengths:\n",
      "           electron skin depth [ cm ]              =  1.6805e+01  1.8970e+01  8.8587e-01\n",
      "             proton skin depth [ cm ]              =  7.2008e+02  1.8970e+01  3.7960e+01\n",
      "                 debye Length  [ cm ]              =  2.1823e-01  1.8970e+01  1.1504e-02\n",
      "       inter particle distance [ cm ]              =  1.0000e-03  1.8970e+01  5.2716e-05\n",
      "          electron gyro radius [ cm ]              =  4.4270e-01  1.8970e+01  2.3337e-02\n",
      "            proton gyro radius [ cm ]              =  1.8970e+01  1.8970e+01  1.0000e+00\n",
      "\n",
      " Other:\n",
      "                  Mass density [ g cm^-3 ]         =  1.6735e-15  1.6735e-15  1.0000e+00\n",
      "           Characteristic mass [ g ]               =  1.1424e-11  1.1424e-11  1.0000e+00\n",
      "          Characteristic time  [ s ]               =  5.5019e-08  3.5220e-09  1.5622e+01\n",
      " Characteristic kinetic energy [ erg ]             =  1.3580e+06  3.3140e+08  4.0978e-03\n",
      "               energy per mass [ erg g^-1]         =  1.1888e+17  2.9010e+19  4.0978e-03\n",
      "             energy per volume [ erg cm^-3]        =  1.9894e+02  4.8549e+04  4.0978e-03\n",
      "      Characteristic  pressure [ Ba ]              =  2.7613e-01  4.8549e+04  5.6877e-06\n"
     ]
    }
   ],
   "source": [
    "#---------- Double current sheet setup ----------\n",
    "base = BaseUnits(\"CGS\")\n",
    "\n",
    "electron_mass_scaling = 1e0# 2.#4.590381684400168\n",
    "charge_scaling = 1e0\n",
    "eps_0_scaling = 1e0\n",
    "mu_0_scaling = 1e0\n",
    "\n",
    "scale_base_units(base, eps_0_scaling, mu_0_scaling, electron_mass_scaling, charge_scaling)\n",
    "\n",
    "mass_density_scale = 1.6735328363560001e-15\n",
    "length_scale       = 18.96968402300713#94.84842011503564\n",
    "#time_scale         = 3.5219920728365707e-9 #5.60542447922411e-10 #1.2009720625873268e-9 #1.7725908606411373e-10 # here omega_e=1 in code units -> means 1 plasma oscillation is 2pi code unit\n",
    "time_scale         = 3.5219920728365707e-9 #5.60542447922411e-10 #1.2009720625873268e-9 #1.7725908606411373e-10 # here omega_e=1 in code units -> means 1 plasma oscillation is 2pi code unit\n",
    "\n",
    "\n",
    "length = 18.96968402300713#94.84842011503564\n",
    "number_density=1e9 #* 0.5^2\n",
    "B_flux= 50\n",
    "temperature   = 1e6\n",
    "temperature_e = temperature\n",
    "temperature_p = temperature\n",
    "\n",
    "\n",
    "\n",
    "scaling = ScalingCGS(base,\n",
    "                number_density, length, temperature, temperature_e, temperature_p, B_flux,\n",
    "                length_scale, mass_density_scale, time_scale)\n",
    "\n",
    "ds = 0.05\n",
    "per_cell = 128\n",
    "\n",
    "set_macro_particle_weights(scaling, ds, per_cell);\n",
    "print_all_CGS(scaling)\n",
    "\n",
    "\n",
    "#scaling.p_gyro_radiues_real / scaling.debye_len_real"
   ]
  },
  {
   "cell_type": "code",
   "execution_count": null,
   "metadata": {},
   "outputs": [],
   "source": [
    "scaling.B_real^2 / ()"
   ]
  },
  {
   "cell_type": "code",
   "execution_count": 53,
   "metadata": {},
   "outputs": [
    {
     "data": {
      "text/plain": [
       "0.999996159751146"
      ]
     },
     "metadata": {},
     "output_type": "display_data"
    }
   ],
   "source": [
    "(sqrt(2) * pi ) / 4.4429"
   ]
  },
  {
   "cell_type": "code",
   "execution_count": 7,
   "metadata": {},
   "outputs": [
    {
     "data": {
      "text/plain": [
       "0.01388725456608602"
      ]
     },
     "metadata": {},
     "output_type": "display_data"
    }
   ],
   "source": [
    "scaling.proton_plasma_freq_real / scaling.c_real"
   ]
  },
  {
   "cell_type": "code",
   "execution_count": 34,
   "metadata": {},
   "outputs": [
    {
     "name": "stdout",
     "output_type": "stream",
     "text": [
      "ds = 0.2\n",
      "debye_per_ds = 17.38539311886584\n",
      "cell_volume = 0.008000000000000002\n",
      "debye_sphere = 6.3771267659572894e-6\n",
      "cell volume / debye sphere = 1254.4834521254963\n",
      "cell area / debye area = 96.20976594535084\n",
      "Particles per debye sphere = 0.02550850706382915\n",
      "Particles per debye area = 0.3326065673850269\n"
     ]
    }
   ],
   "source": [
    "#------- n 128 case ---------\n",
    "n = 128\n",
    "per_cell = 32\n",
    "\n",
    "\n",
    "ds = 25.6 / n\n",
    "debye_per_ds = ds / scaling.debye_len_code \n",
    "\n",
    "cell_volume = ds^3\n",
    "cell_area = ds^2\n",
    "debye_sphere = 4/3 * pi * scaling.debye_len_code^3\n",
    "debye_area = pi * scaling.debye_len_code^2\n",
    "volume_ratio = cell_volume / debye_sphere\n",
    "area_ratio = cell_area / debye_area\n",
    "\n",
    "\n",
    "\n",
    "println(\"ds = \", ds)\n",
    "println(\"debye_per_ds = \", debye_per_ds)\n",
    "println(\"cell_volume = \", cell_volume)\n",
    "println(\"debye_sphere = \", debye_sphere)\n",
    "println(\"cell volume / debye sphere = \", volume_ratio)\n",
    "println(\"cell area / debye area = \", area_ratio)\n",
    "println(\"Particles per debye sphere = \", per_cell / volume_ratio)\n",
    "println(\"Particles per debye area = \", per_cell / area_ratio)"
   ]
  },
  {
   "cell_type": "code",
   "execution_count": 39,
   "metadata": {},
   "outputs": [
    {
     "name": "stdout",
     "output_type": "stream",
     "text": [
      "ds = 0.1\n",
      "debye_per_ds = 8.69269655943292\n",
      "cell_volume = 0.0010000000000000002\n",
      "debye_sphere = 6.3771267659572894e-6\n",
      "cell volume / debye sphere = 156.81043151568704\n",
      "cell area / debye area = 24.05244148633771\n",
      "Particles per debye sphere = 0.2040680565106332\n",
      "Particles per debye area = 1.3304262695401077\n"
     ]
    }
   ],
   "source": [
    "#------- n 256 case ---------\n",
    "n = 256\n",
    "per_cell = 32\n",
    "\n",
    "\n",
    "ds = 25.6 / n\n",
    "debye_per_ds = ds / scaling.debye_len_code \n",
    "\n",
    "cell_volume = ds^3\n",
    "cell_area = ds^2\n",
    "debye_sphere = 4/3 * pi * scaling.debye_len_code^3\n",
    "debye_area = pi * scaling.debye_len_code^2\n",
    "volume_ratio = cell_volume / debye_sphere\n",
    "area_ratio = cell_area / debye_area\n",
    "\n",
    "\n",
    "\n",
    "println(\"ds = \", ds)\n",
    "println(\"debye_per_ds = \", debye_per_ds)\n",
    "println(\"cell_volume = \", cell_volume)\n",
    "println(\"debye_sphere = \", debye_sphere)\n",
    "println(\"cell volume / debye sphere = \", volume_ratio)\n",
    "println(\"cell area / debye area = \", area_ratio)\n",
    "println(\"Particles per debye sphere = \", per_cell / volume_ratio)\n",
    "println(\"Particles per debye area = \", per_cell / area_ratio)"
   ]
  },
  {
   "cell_type": "code",
   "execution_count": 32,
   "metadata": {},
   "outputs": [
    {
     "name": "stdout",
     "output_type": "stream",
     "text": [
      "ds = 0.05\n",
      "debye_per_ds = 4.34634827971646\n",
      "cell_volume = 0.00012500000000000003\n",
      "debye_sphere = 6.3771267659572894e-6\n",
      "cell volume / debye sphere = 19.60130393946088\n",
      "cell area / debye area = 6.013110371584427\n",
      "Particles per debye sphere = 1.6325444520850656\n",
      "Particles per debye area = 5.321705078160431\n"
     ]
    }
   ],
   "source": [
    "#------- n 512 case ---------\n",
    "n = 512\n",
    "per_cell = 32\n",
    "\n",
    "\n",
    "ds = 25.6 / n\n",
    "debye_per_ds = ds / scaling.debye_len_code \n",
    "\n",
    "cell_volume = ds^3\n",
    "cell_area = ds^2\n",
    "debye_sphere = 4/3 * pi * scaling.debye_len_code^3\n",
    "debye_area = pi * scaling.debye_len_code^2\n",
    "volume_ratio = cell_volume / debye_sphere\n",
    "area_ratio = cell_area / debye_area\n",
    "\n",
    "\n",
    "\n",
    "println(\"ds = \", ds)\n",
    "println(\"debye_per_ds = \", debye_per_ds)\n",
    "println(\"cell_volume = \", cell_volume)\n",
    "println(\"debye_sphere = \", debye_sphere)\n",
    "println(\"cell volume / debye sphere = \", volume_ratio)\n",
    "println(\"cell area / debye area = \", area_ratio)\n",
    "println(\"Particles per debye sphere = \", per_cell / volume_ratio)\n",
    "println(\"Particles per debye area = \", per_cell / area_ratio)"
   ]
  },
  {
   "cell_type": "code",
   "execution_count": 29,
   "metadata": {},
   "outputs": [
    {
     "name": "stdout",
     "output_type": "stream",
     "text": [
      "ds = 0.025\n",
      "debye_per_ds = 2.17317413985823\n",
      "cell_volume = 1.5625000000000004e-5\n",
      "debye_sphere = 6.3771267659572894e-6\n",
      "cell volume / debye sphere = 2.45016299243261\n",
      "Particles per debye sphere = 13.060355616680525\n",
      "Particles per debye area = 21.286820312641723\n"
     ]
    }
   ],
   "source": [
    "#------- n 1024 case ---------\n",
    "n = 1024\n",
    "per_cell = 32\n",
    "\n",
    "\n",
    "ds = 25.6 / n\n",
    "debye_per_ds = ds / scaling.debye_len_code \n",
    "\n",
    "cell_volume = ds^3\n",
    "cell_area = ds^2\n",
    "debye_sphere = 4/3 * pi * scaling.debye_len_code^3\n",
    "debye_area = pi * scaling.debye_len_code^2\n",
    "volume_ratio = cell_volume / debye_sphere\n",
    "area_ratio = cell_area / debye_area\n",
    "\n",
    "\n",
    "\n",
    "println(\"ds = \", ds)\n",
    "println(\"debye_per_ds = \", debye_per_ds)\n",
    "println(\"cell_volume = \", cell_volume)\n",
    "println(\"debye_sphere = \", debye_sphere)\n",
    "println(\"cell volume / debye sphere = \", volume_ratio)\n",
    "println(\"Particles per debye sphere = \", per_cell / volume_ratio)\n",
    "println(\"Particles per debye area = \", per_cell / area_ratio)"
   ]
  },
  {
   "cell_type": "code",
   "execution_count": 30,
   "metadata": {},
   "outputs": [
    {
     "name": "stdout",
     "output_type": "stream",
     "text": [
      "ds = 0.0125\n",
      "debye_per_ds = 1.086587069929115\n",
      "cell_volume = 1.9531250000000005e-6\n",
      "debye_sphere = 6.3771267659572894e-6\n",
      "cell volume / debye sphere = 0.30627037405407626\n",
      "Particles per debye sphere = 104.4828449334442\n",
      "Particles per debye area = 85.14728125056689\n"
     ]
    }
   ],
   "source": [
    "#------- n 1024 case ---------\n",
    "n = 2048\n",
    "per_cell = 32\n",
    "\n",
    "\n",
    "ds = 25.6 / n\n",
    "debye_per_ds = ds / scaling.debye_len_code \n",
    "\n",
    "cell_volume = ds^3\n",
    "cell_area = ds^2\n",
    "debye_sphere = 4/3 * pi * scaling.debye_len_code^3\n",
    "debye_area = pi * scaling.debye_len_code^2\n",
    "volume_ratio = cell_volume / debye_sphere\n",
    "area_ratio = cell_area / debye_area\n",
    "\n",
    "\n",
    "\n",
    "println(\"ds = \", ds)\n",
    "println(\"debye_per_ds = \", debye_per_ds)\n",
    "println(\"cell_volume = \", cell_volume)\n",
    "println(\"debye_sphere = \", debye_sphere)\n",
    "println(\"cell volume / debye sphere = \", volume_ratio)\n",
    "println(\"Particles per debye sphere = \", per_cell / volume_ratio)\n",
    "println(\"Particles per debye area = \", per_cell / area_ratio)"
   ]
  },
  {
   "cell_type": "code",
   "execution_count": 31,
   "metadata": {},
   "outputs": [
    {
     "data": {
      "text/plain": [
       "128"
      ]
     },
     "metadata": {},
     "output_type": "display_data"
    }
   ],
   "source": [
    "16*8"
   ]
  },
  {
   "cell_type": "code",
   "execution_count": null,
   "metadata": {},
   "outputs": [],
   "source": []
  }
 ],
 "metadata": {
  "kernelspec": {
   "display_name": "Julia 1.8.5",
   "language": "julia",
   "name": "julia-1.8"
  },
  "language_info": {
   "file_extension": ".jl",
   "mimetype": "application/julia",
   "name": "julia",
   "version": "1.8.5"
  }
 },
 "nbformat": 4,
 "nbformat_minor": 2
}
