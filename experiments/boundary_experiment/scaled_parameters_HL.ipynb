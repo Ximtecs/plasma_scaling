{
 "cells": [
  {
   "cell_type": "code",
   "execution_count": 1,
   "metadata": {},
   "outputs": [
    {
     "data": {
      "text/plain": [
       "print_basic_info (generic function with 2 methods)"
      ]
     },
     "metadata": {},
     "output_type": "display_data"
    }
   ],
   "source": [
    "using Plots\n",
    "using QuadGK\n",
    "using NLopt\n",
    "#using SpecialFunctions\n",
    "using NLsolve\n",
    "using Statistics\n",
    "include(\"../../scaling_CGS.jl\")\n",
    "include(\"../../scaling_HL.jl\")"
   ]
  },
  {
   "cell_type": "code",
   "execution_count": 6,
   "metadata": {},
   "outputs": [
    {
     "name": "stdout",
     "output_type": "stream",
     "text": [
      "\n",
      " Maxwell Lorents Factors used in code:\n",
      " k_E =                                             =  7.9577e-02 \n",
      " k_B =                                             =  7.9577e-02 \n",
      " k_F =                                             =  1.0000e+00 \n",
      " k_D =                                             =  1.0000e+00 \n",
      " k_M =                                             =  1.0000e+00 \n",
      " k_H =                                             =  1.0000e+00 \n",
      "\n",
      " Macro particle weights:\n",
      "                          ds =                     =  3.9062e-03 \n",
      "                    per_cell =                     =  3.2000e+01 \n",
      "               weight_scaled =                     =  3.0981e+04 \n",
      " weight_scaled_mass_electron =                     =  7.1640e-11 \n",
      "   weight_scaled_mass_proton =                     =  1.7910e-09 \n",
      "        weight_scaled_charge =                     =  6.4747e-10 \n",
      "                 rho_n_ratio =                     =  1.6633e+13 \n",
      "\n",
      " Fundamental physical constants:\n",
      "        Gravitational Constant [ cm^3 g^-1 s^-2 ]  =  6.6743e-08  7.9293e+30  8.4173e-39\n",
      "          Boltzmann's Constant [ erg K^-1 ]        =  1.3806e-16  2.6004e+08  5.3094e-25\n",
      "             Planck's Constant [ erg s ]           =  6.6261e-27  2.2141e+00  2.9926e-27\n",
      "              Atomic Mass Unit [ g ]               =  1.6605e-24  2.8933e-11  5.7392e-14\n",
      "                   Proton Mass [ g ]               =  1.6726e-24  2.8933e-11  5.7810e-14\n",
      "                 Electron Mass [ g ]               =  6.6905e-26  2.8933e-11  2.3124e-15\n",
      "             Elementary Charge [ StatC ]           =  1.7027e-09  8.1473e+04  2.0899e-14\n",
      "           Vacuum Permittivity [ s^2 cm^-2 ]       =  1.1127e-19  1.1127e-19  1.0000e+00\n",
      "           Vacuum Permeability [  ]                =  1.0000e+00  1.0000e+00  1.0000e+00\n",
      "                Speed of Light [ cm/s ]            =  2.9979e+09  2.9979e+09  1.0000e+00\n",
      "                 Electron Volt [ erg ]             =  1.6022e-12  2.6004e+08  6.1613e-21\n",
      "         Mean molecular weight [ ]                 =  5.2378e-01  1.0000e+00  5.2378e-01\n",
      "\n",
      " Defining Constants:\n",
      "                 Number Desity [ cm^3 ]            =  1.0000e+09  6.0122e-05  1.6633e+13\n",
      "         Characteristic Length [ cm ]              =  2.5526e+01  2.5526e+01  1.0000e+00\n",
      "                   Temperature [ K ]               =  1.0000e+06  1.0000e+00  1.0000e+06\n",
      "          Electron Temperature [ K ]               =  1.0000e+06  1.0000e+00  1.0000e+06\n",
      "            Proton Temperature [ K ]               =  1.0000e+06  1.0000e+00  1.0000e+06\n",
      "        Magnetic Flux Strength [ G ]               =  5.0000e+00  1.2504e+02  3.9988e-02\n",
      "\n",
      " Velocities:\n",
      "       Characteristic velocity [ cm s^-1 ]         =  1.1988e+08  2.9979e+09  3.9988e-02\n",
      "               Alfven velocity [ cm s^-1 ]         =  1.1979e+08  2.9979e+09  3.9956e-02\n",
      "     electron thermal velocity [ cm s^-1 ]         =  4.5427e+07  2.9979e+09  1.5153e-02\n",
      "       proton thermal velocity [ cm s^-1 ]         =  9.0854e+06  2.9979e+09  3.0306e-03\n",
      "\n",
      " Frequencies:\n",
      "     electron gyro frequency   [ rad s^-1 ]        =  4.2445e+07  1.1744e+08  3.6141e-01\n",
      "       proton gyro frequency   [ rad s^-1 ]        =  1.6978e+06  1.1744e+08  1.4456e-02\n",
      "     electron plasma frequency [ rad s^-1 ]        =  2.0816e+08  1.1744e+08  1.7725e+00\n",
      "       proton plasma frequency [ rad s^-1 ]        =  4.1633e+07  1.1744e+08  3.5449e-01\n",
      "\n",
      " Lengths:\n",
      "           electron skin depth [ cm ]              =  1.4402e+01  2.5526e+01  5.6419e-01\n",
      "             proton skin depth [ cm ]              =  7.2008e+01  2.5526e+01  2.8209e+00\n",
      "                 debye Length  [ cm ]              =  2.1823e-01  2.5526e+01  8.5490e-03\n",
      "       inter particle distance [ cm ]              =  1.0000e-03  2.5526e+01  3.9175e-05\n",
      "          electron gyro radius [ cm ]              =  1.0702e+00  2.5526e+01  4.1927e-02\n",
      "            proton gyro radius [ cm ]              =  5.3512e+00  2.5526e+01  2.0964e-01\n",
      "\n",
      " Other:\n",
      "                  Mass density [ g cm^-3 ]         =  1.7395e-15  1.7395e-15  1.0000e+00\n",
      "           Characteristic mass [ g ]               =  2.8933e-11  2.8933e-11  1.0000e+00\n",
      "          Characteristic time  [ s ]               =  2.1293e-07  8.5147e-09  2.5007e+01\n",
      " Characteristic kinetic energy [ erg ]             =  4.1582e+05  2.6004e+08  1.5991e-03\n",
      "               energy per mass [ erg g^-1]         =  1.4372e+16  8.9876e+18  1.5991e-03\n",
      "             energy per volume [ erg cm^-3]        =  2.5000e+01  1.5634e+04  1.5991e-03\n",
      "      Characteristic  pressure [ Ba ]              =  2.7613e-01  1.5634e+04  1.7662e-05\n"
     ]
    }
   ],
   "source": [
    "#---------- Double current sheet setup ----------\n",
    "base = BaseUnits(\"HL\")\n",
    "\n",
    "electron_proton_mass_ratio = 25.0\n",
    "\n",
    "electron_mass_scaling = (base.m_p / base.m_e) / electron_proton_mass_ratio\n",
    "charge_scaling = 1e0 #1e-5\n",
    "eps_0_scaling = 1e2\n",
    "mu_0_scaling = 1e0\n",
    "\n",
    "scale_base_units(base, eps_0_scaling, mu_0_scaling, electron_mass_scaling, charge_scaling)\n",
    "\n",
    "\n",
    "length = 1e0 #720.0847332647692\n",
    "number_density= 1e9 #6.44179e10\n",
    "B_flux= 5 #22.222\n",
    "temperature   = 1e6\n",
    "temperature_e = temperature\n",
    "temperature_p = temperature\n",
    "\n",
    "\n",
    "\n",
    "mu = ( (base.m_e + base.m_p)  / 2. ) /  base.m_u# assuming only protons and electrons\n",
    "mass_density = number_density * 2 * mu * base.m_u\n",
    "e_plasma = base.e * sqrt(4 * π * number_density / base.m_e)\n",
    "\n",
    "\n",
    "\n",
    "#----------- These always sets the following code units --------------\n",
    "#            rho=1, c=1, e_plasma=2pi\n",
    "mass_density_scale = mass_density\n",
    "time_scale         = 2 * pi / e_plasma\n",
    "length_scale       = base.c * time_scale#\n",
    "temperature_scale  = 1e0\n",
    "#----------------------------------------------------------------------\n",
    "\n",
    "length = length_scale\n",
    "\n",
    "\n",
    "scaling = ScalingHL(base,\n",
    "                number_density, length, temperature, temperature_e, temperature_p, B_flux,\n",
    "                length_scale, mass_density_scale, time_scale, temperature_scale)\n",
    "ds = 4 / (32 * 32 )\n",
    "per_cell = 32\n",
    "\n",
    "set_macro_particle_weights(scaling, ds, per_cell);\n",
    "print_all_HL(scaling)\n"
   ]
  },
  {
   "cell_type": "code",
   "execution_count": 7,
   "metadata": {},
   "outputs": [
    {
     "data": {
      "text/plain": [
       "0.022090376319999994"
      ]
     },
     "metadata": {},
     "output_type": "display_data"
    }
   ],
   "source": [
    "scaling.pressure_code / (scaling.B_flux_code^2 / (2 * scaling.mu_0_code))"
   ]
  },
  {
   "cell_type": "code",
   "execution_count": 8,
   "metadata": {},
   "outputs": [
    {
     "name": "stdout",
     "output_type": "stream",
     "text": [
      "lenght                 = 25.526339169068226\n",
      "number_density         = 1.0e9\n",
      "B                      = 5\n",
      "T                      = 1.0e6\n",
      "\n",
      "length_scale           = 25.526339169068226\n",
      "mass_density_scale     = 1.7395267739199998e-15\n",
      "time_scale             = 8.51467022865139e-9\n",
      "\n",
      "e_mass_scale           = 73.4461069504027\n",
      "charge_scaling         = 1.0\n",
      "eps_0_scaling          = 100.0\n",
      "mu_0_scaling           = 1.0\n"
     ]
    }
   ],
   "source": [
    "println(\"lenght                 = \", length)\n",
    "println(\"number_density         = \", number_density)\n",
    "println(\"B                      = \", B_flux)\n",
    "println(\"T                      = \", temperature)\n",
    "println(\"\")\n",
    "println(\"length_scale           = \", length_scale)\n",
    "println(\"mass_density_scale     = \", mass_density_scale)\n",
    "println(\"time_scale             = \", time_scale)\n",
    "println(\"\")\n",
    "println(\"e_mass_scale           = \", electron_mass_scaling)\n",
    "println(\"charge_scaling         = \", charge_scaling)\n",
    "println(\"eps_0_scaling          = \", eps_0_scaling)\n",
    "println(\"mu_0_scaling           = \", mu_0_scaling)"
   ]
  },
  {
   "cell_type": "code",
   "execution_count": 9,
   "metadata": {},
   "outputs": [
    {
     "data": {
      "text/plain": [
       "0.4569229719722577"
      ]
     },
     "metadata": {},
     "output_type": "display_data"
    }
   ],
   "source": [
    "ds / scaling.debye_len_code "
   ]
  },
  {
   "cell_type": "code",
   "execution_count": 12,
   "metadata": {},
   "outputs": [
    {
     "data": {
      "text/plain": [
       "0.008549033950162545"
      ]
     },
     "metadata": {},
     "output_type": "display_data"
    }
   ],
   "source": [
    "scaling.debye_len_code "
   ]
  },
  {
   "cell_type": "code",
   "execution_count": 11,
   "metadata": {},
   "outputs": [
    {
     "data": {
      "text/plain": [
       "0.00390625"
      ]
     },
     "metadata": {},
     "output_type": "display_data"
    }
   ],
   "source": [
    "ds"
   ]
  },
  {
   "cell_type": "code",
   "execution_count": null,
   "metadata": {},
   "outputs": [],
   "source": [
    "ds / 2"
   ]
  },
  {
   "cell_type": "code",
   "execution_count": null,
   "metadata": {},
   "outputs": [],
   "source": [
    "32*32"
   ]
  },
  {
   "cell_type": "code",
   "execution_count": null,
   "metadata": {},
   "outputs": [],
   "source": [
    "gamma = 5. / 3.\n",
    "c_s = sqrt(gamma * scaling.k_B_real * scaling.temperature_real /  scaling.m_u_real) \n",
    "\n",
    "\n",
    "c_s_ideal = sqrt(gamma * scaling.pressure_real / scaling.mass_density_real)\n",
    "v_a = scaling.v_a_real\n",
    "\n",
    "c_ms = sqrt(v_a^2 + c_s^2)\n",
    "\n",
    "theta = 1\n",
    "\n",
    "omega_o_k = sqrt( 0.5 * (c_ms^2 + sqrt(c_ms^4 - 4 * v_a^2 * c_s^2 * cos(theta)) ))\n",
    "\n",
    "\n",
    "println( \" c_s       = \" , c_s / scaling.c_real)\n",
    "println( \" c_s_ideal = \" , c_s_ideal / scaling.c_real)\n",
    "println( \" v_a       = \" , v_a / scaling.c_real)\n",
    "println( \" c_ms      = \", c_ms / scaling.c_real)\n",
    "println( \" omega_o_k = \", omega_o_k / scaling.c_real) \n",
    "\n",
    "println( \" beta      = \",  2 *  c_s^2 / (gamma * v_a^2))"
   ]
  },
  {
   "cell_type": "code",
   "execution_count": null,
   "metadata": {},
   "outputs": [],
   "source": [
    "nu_ei = 4 / 3 * sqrt(  2 * pi * scaling.e_real^4 * scaling.number_density_real / (scaling.m_e_real^(1/2) * scaling.k_B_real * scaling.temperature_e_real^(3/2) ) )"
   ]
  },
  {
   "cell_type": "code",
   "execution_count": null,
   "metadata": {},
   "outputs": [],
   "source": [
    "2.91e-6 * scaling.number_density_real / (scaling.temperature_e_real^(3/2))"
   ]
  },
  {
   "cell_type": "code",
   "execution_count": null,
   "metadata": {},
   "outputs": [],
   "source": [
    "e_int = 0.00125#4.41554f-5\n",
    "rho = 1.\n",
    "gamma = 1.4\n",
    "\n",
    "T = e_int / rho * 1 / (scaling.rho_n_ratio * scaling.k_B_code ) * 1/ 2 * (gamma - 1.0)"
   ]
  },
  {
   "cell_type": "code",
   "execution_count": null,
   "metadata": {},
   "outputs": [],
   "source": [
    "lambda = 4.0\n",
    "k = 2. * pi / lambda\n",
    "\n",
    "\n",
    "\n",
    "\n",
    "x = range(-6, stop=6, length=1000)\n",
    "\n",
    "plot(x,sin.(k .* x), label=\"sin(kx)\")\n",
    "plot!(x,cos.(k .* x), label=\"cos(kx)\")"
   ]
  },
  {
   "cell_type": "code",
   "execution_count": null,
   "metadata": {},
   "outputs": [],
   "source": [
    "max_dist = 16\n",
    "\n",
    "\n",
    "dist = range(0, stop=max_dist, length=1000)\n",
    "\n",
    "\n",
    "#quadfunc = (1 .- dist ./ max_dist).^3 \n",
    "#quadfunc = (1 .- dist ./ max_dist).^2 \n",
    "#quadfunc2 = abs.((1 .- dist ./ max_dist).^2 .- 1).* 0.5 .+ 0.5\n",
    "\n",
    "quadfunc2 = (dist ./ max_dist).^3 #(1 .- dist ./ max_dist).^2\n",
    "\n",
    "\n",
    "\n",
    "\n",
    "\n",
    "#plot(dist, quadfunc, label=\"quadfunc\")\n",
    "plot(dist, quadfunc2, label=\"quadfunc2\")"
   ]
  },
  {
   "cell_type": "markdown",
   "metadata": {},
   "source": [
    "### Summary of Initial Conditions\n",
    "- Background magnetic field:  \n",
    "$$\\mathbf{B}_0 = B_0 \\hat{\\mathbf{x}}$$\n",
    "- Magnetic field perturbation: \n",
    "$$\\delta B_y(x, 0) = \\delta B_{y0} \\sin(kx)$$\n",
    "- Velocity perturbation: \n",
    "$$ v_y(x, 0) = \\frac{\\delta B_{y0}}{\\sqrt{\\mu_0 \\rho}} \\cos(kx) $$\n",
    "$$ v_y(x, 0) = \\frac{\\delta B_{y0}}{\\sqrt{\\mu_0 \\rho}} \\cos(kx) = \\frac{\\delta B_{y0}}{v_A} \\cos(kx) $$"
   ]
  },
  {
   "cell_type": "code",
   "execution_count": null,
   "metadata": {},
   "outputs": [],
   "source": [
    "4 / (17*16) / 2"
   ]
  },
  {
   "cell_type": "code",
   "execution_count": null,
   "metadata": {},
   "outputs": [],
   "source": [
    "4 / (26*16) / 2"
   ]
  },
  {
   "cell_type": "code",
   "execution_count": null,
   "metadata": {},
   "outputs": [],
   "source": [
    "7.6271806E-10 * 2"
   ]
  },
  {
   "cell_type": "code",
   "execution_count": null,
   "metadata": {},
   "outputs": [],
   "source": [
    "base.c"
   ]
  },
  {
   "cell_type": "code",
   "execution_count": null,
   "metadata": {},
   "outputs": [],
   "source": [
    "base.eps_0 / (4 * pi)"
   ]
  },
  {
   "cell_type": "code",
   "execution_count": null,
   "metadata": {},
   "outputs": [],
   "source": [
    "mu_0 = 4 * pi \n",
    "c = base.c \n",
    "\n",
    "\n",
    "\n",
    "eps_0 = 1 / (c^2 * mu_0)\n",
    "\n",
    "\n",
    "\n",
    "#1 / sqrt(eps_0 * mu_0)"
   ]
  },
  {
   "cell_type": "code",
   "execution_count": null,
   "metadata": {},
   "outputs": [],
   "source": [
    "B_code"
   ]
  },
  {
   "cell_type": "markdown",
   "metadata": {},
   "source": []
  }
 ],
 "metadata": {
  "kernelspec": {
   "display_name": "Julia 1.8.5",
   "language": "julia",
   "name": "julia-1.8"
  },
  "language_info": {
   "file_extension": ".jl",
   "mimetype": "application/julia",
   "name": "julia",
   "version": "1.8.5"
  }
 },
 "nbformat": 4,
 "nbformat_minor": 2
}
