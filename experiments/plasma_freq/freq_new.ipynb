{
 "cells": [
  {
   "cell_type": "code",
   "execution_count": 2,
   "metadata": {},
   "outputs": [
    {
     "data": {
      "text/plain": [
       "find_real_units_HL (generic function with 1 method)"
      ]
     },
     "metadata": {},
     "output_type": "display_data"
    }
   ],
   "source": [
    "using Plots\n",
    "using QuadGK\n",
    "using NLopt\n",
    "#using SpecialFunctions\n",
    "using NLsolve\n",
    "using Statistics\n",
    "#include(\"../../scaling_CGS.jl\")\n",
    "include(\"../../code_to_real.jl\")"
   ]
  },
  {
   "cell_type": "code",
   "execution_count": 32,
   "metadata": {},
   "outputs": [
    {
     "name": "stdout",
     "output_type": "stream",
     "text": [
      "lenght                 = 56.85561162069778\n",
      "number_density         = 1.0e9\n",
      "B                      = 10.0\n",
      "T                      = 1.0e6\n",
      "\n",
      "length_scale           = 56.85561162069778\n",
      "mass_density_scale     = 1.6893481169800001e-15\n",
      "time_scale             = 1.8964990647195592e-7\n",
      "temperature_scale      = 1.0\n",
      "\n",
      "e_mass_scale           = 18.361526737600673\n",
      "charge_scaling         = 1.0\n",
      "eps_0_scaling          = 100.0\n",
      "mu_0_scaling           = 1.0\n",
      "\n",
      " Maxwell Lorents Factors used in code:\n",
      " k_E =                                             =  7.9577e-02 \n",
      " k_B =                                             =  7.9577e-03 \n",
      " k_F =                                             =  1.0000e-01 \n",
      " k_D =                                             =  1.0000e+00 \n",
      " k_M =                                             =  1.0000e+01 \n",
      " k_H =                                             =  1.0000e+00 \n",
      "\n",
      " Macro particle weights:\n",
      "                          ds =                     =  5.0000e-02 \n",
      "                    per_cell =                     =  1.2800e+02 \n",
      "               weight_scaled =                     =  1.4359e+12 \n",
      " weight_scaled_mass_electron =                     =  7.7351e-05 \n",
      "   weight_scaled_mass_proton =                     =  7.7351e-03 \n",
      "        weight_scaled_charge =                     =  4.8844e-03 \n",
      "                 rho_n_ratio =                     =  1.8379e+14 \n",
      "\n",
      " Fundamental physical constants:\n",
      "        Gravitational Constant [ cm^3 g^-1 s^-2 ]  =  6.6743e-08  1.6458e+28  4.0554e-36\n",
      "          Boltzmann's Constant [ erg K^-1 ]        =  1.3806e-16  2.7905e+07  4.9477e-24\n",
      "             Planck's Constant [ erg s ]           =  6.6261e-27  5.2922e+00  1.2521e-27\n",
      "              Atomic Mass Unit [ g ]               =  1.6605e-24  3.1048e-10  5.3482e-15\n",
      "                   Proton Mass [ g ]               =  1.6726e-24  3.1048e-10  5.3871e-15\n",
      "                 Electron Mass [ g ]               =  1.6726e-26  3.1048e-10  5.3871e-17\n",
      "             Elementary Charge [ StatC ]           =  1.3550e-10  3.9832e+04  3.4017e-15\n",
      "           Vacuum Permittivity [ s^2 cm^-2 ]       =  1.1127e-19  1.1127e-17  1.0000e-02\n",
      "           Vacuum Permeability [  ]                =  1.0000e+00  1.0000e+00  1.0000e+00\n",
      "                Speed of Light [ cm/s ]            =  2.9979e+09  2.9979e+08  1.0000e+01\n",
      "                 Electron Volt [ erg ]             =  1.6022e-12  2.7905e+07  5.7416e-20\n",
      "         Mean molecular weight [ ]                 =  5.0867e-01  1.0000e+00  5.0867e-01\n",
      "\n",
      " Defining Constants:\n",
      "                 Number Desity [ cm^3 ]            =  1.0000e+09  5.4410e-06  1.8379e+14\n",
      "         Characteristic Length [ cm ]              =  5.6856e+01  5.6856e+01  1.0000e+00\n",
      "                   Temperature [ K ]               =  1.0000e+06  1.0000e+00  1.0000e+06\n",
      "          Electron Temperature [ K ]               =  1.0000e+06  1.0000e+00  1.0000e+06\n",
      "            Proton Temperature [ K ]               =  1.0000e+06  1.0000e+00  1.0000e+06\n",
      "        Magnetic Flux Strength [ G ]               =  1.0000e+01  1.2322e+01  8.1156e-01\n",
      "\n",
      " Velocities:\n",
      "       Characteristic velocity [ cm s^-1 ]         =  2.4330e+08  2.9979e+08  8.1156e-01\n",
      "               Alfven velocity [ cm s^-1 ]         =  2.4250e+08  2.9979e+08  8.0890e-01\n",
      "     electron thermal velocity [ cm s^-1 ]         =  9.0854e+07  2.9979e+08  3.0306e-01\n",
      "       proton thermal velocity [ cm s^-1 ]         =  9.0854e+06  2.9979e+08  3.0306e-02\n",
      "\n",
      " Frequencies:\n",
      "     electron gyro frequency   [ rad s^-1 ]        =  2.7021e+07  5.2729e+06  5.1246e+00\n",
      "       proton gyro frequency   [ rad s^-1 ]        =  2.7021e+05  5.2729e+06  5.1246e-02\n",
      "     electron plasma frequency [ rad s^-1 ]        =  3.3130e+07  5.2729e+06  6.2832e+00\n",
      "       proton plasma frequency [ rad s^-1 ]        =  3.3130e+06  5.2729e+06  6.2832e-01\n",
      "\n",
      " Lengths:\n",
      "           electron skin depth [ cm ]              =  9.0489e+01  5.6856e+01  1.5915e+00\n",
      "             proton skin depth [ cm ]              =  9.0489e+02  5.6856e+01  1.5915e+01\n",
      "                 debye Length  [ cm ]              =  2.7423e+00  5.6856e+01  4.8233e-02\n",
      "       inter particle distance [ cm ]              =  1.0000e-03  5.6856e+01  1.7588e-05\n",
      "          electron gyro radius [ cm ]              =  3.3623e+00  5.6856e+01  5.9137e-02\n",
      "            proton gyro radius [ cm ]              =  3.3623e+01  5.6856e+01  5.9137e-01\n",
      "\n",
      " Other:\n",
      "                  Mass density [ g cm^-3 ]         =  1.6893e-15  1.6893e-15  1.0000e+00\n",
      "           Characteristic mass [ g ]               =  3.1048e-10  3.1048e-10  1.0000e+00\n",
      "          Characteristic time  [ s ]               =  2.3369e-07  1.8965e-07  1.2322e+00\n",
      " Characteristic kinetic energy [ erg ]             =  1.8379e+07  2.7905e+07  6.5863e-01\n",
      "               energy per mass [ erg g^-1]         =  5.9194e+16  8.9876e+16  6.5863e-01\n",
      "             energy per volume [ erg cm^-3]        =  1.0000e+02  1.5183e+02  6.5863e-01\n",
      "      Characteristic  pressure [ Ba ]              =  2.7613e-01  1.5183e+02  1.8187e-03\n"
     ]
    }
   ],
   "source": [
    "base = BaseUnits(\"HL\")\n",
    "\n",
    "electron_proton_ratio = 100.0 #base.m_p / base.m_e\n",
    "\n",
    "#------ calculate electron mass scaing based on ratio of electron to proton mass -----\n",
    "electron_mass_scaling = (base.m_p / base.m_e) / electron_proton_ratio\n",
    "#-------------------------------------------------------------------------------------\n",
    "charge_scaling = 1e0\n",
    "eps_0_scaling = 1e2\n",
    "mu_0_scaling = 1e0\n",
    "\n",
    "scale_base_units(base, eps_0_scaling, mu_0_scaling, electron_mass_scaling, charge_scaling)\n",
    "\n",
    "\n",
    "B_flux = 10.0\n",
    "number_density = 1e9\n",
    "temperature = 1e6\n",
    "temperature_e = temperature\n",
    "temperature_p = temperature\n",
    "\n",
    "\n",
    "mu = ( (base.m_e + base.m_p)  / 2. ) /  base.m_u# assuming only protons and electrons\n",
    "\n",
    "mass_density = number_density * 2 * mu * base.m_u\n",
    "\n",
    "\n",
    "p_plasma = base.e * sqrt(number_density / base.m_p)\n",
    "p_skin_depth = base.c / p_plasma\n",
    "\n",
    "\n",
    "e_plasma = base.e * sqrt(number_density / base.m_e)\n",
    "e_skin_depth = base.c / e_plasma\n",
    "\n",
    "#----------- These always sets the following code units --------------\n",
    "#            rho=1, c=1, electron_skin_depth=1\n",
    "mass_density_scale = mass_density\n",
    "time_scale         = 2pi / e_plasma\n",
    "length_scale       = time_scale * base.c /   10\n",
    "temperature_scale  = 1e0\n",
    "#----------------------------------------------------------------------\n",
    "length = length_scale\n",
    "\n",
    "\n",
    "scaling = ScalingHL(base,\n",
    "                number_density, length, temperature, temperature_e, temperature_p, B_flux,\n",
    "                length_scale, mass_density_scale, time_scale, temperature_scale)\n",
    "\n",
    "ds = 0.05\n",
    "per_cell = 128\n",
    "\n",
    "set_macro_particle_weights(scaling, ds, per_cell);\n",
    "print_basic_info(scaling)\n",
    "print_all_HL(scaling)"
   ]
  },
  {
   "cell_type": "code",
   "execution_count": 33,
   "metadata": {},
   "outputs": [
    {
     "data": {
      "text/plain": [
       "4.146559391945838"
      ]
     },
     "metadata": {},
     "output_type": "display_data"
    }
   ],
   "source": [
    "0.2 / scaling.debye_len_code"
   ]
  },
  {
   "cell_type": "code",
   "execution_count": 27,
   "metadata": {},
   "outputs": [
    {
     "data": {
      "text/plain": [
       "6.283185307179585"
      ]
     },
     "metadata": {},
     "output_type": "display_data"
    }
   ],
   "source": [
    "1 / (scaling.electron_plasma_freq_code / 2pi)"
   ]
  }
 ],
 "metadata": {
  "kernelspec": {
   "display_name": "Julia 1.8.5",
   "language": "julia",
   "name": "julia-1.8"
  },
  "language_info": {
   "file_extension": ".jl",
   "mimetype": "application/julia",
   "name": "julia",
   "version": "1.8.5"
  }
 },
 "nbformat": 4,
 "nbformat_minor": 2
}
