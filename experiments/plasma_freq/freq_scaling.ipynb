{
 "cells": [
  {
   "cell_type": "code",
   "execution_count": 1,
   "metadata": {},
   "outputs": [
    {
     "data": {
      "text/plain": [
       "print_all_CGS (generic function with 2 methods)"
      ]
     },
     "metadata": {},
     "output_type": "display_data"
    }
   ],
   "source": [
    "using Plots\n",
    "using QuadGK\n",
    "using NLopt\n",
    "#using SpecialFunctions\n",
    "using NLsolve\n",
    "using Statistics\n",
    "include(\"../../scaling_CGS.jl\")"
   ]
  },
  {
   "cell_type": "code",
   "execution_count": 2,
   "metadata": {},
   "outputs": [
    {
     "name": "stdout",
     "output_type": "stream",
     "text": [
      "\n",
      " Maxwell Lorents Factors used in code:\n",
      " k_E =                                             =  1.0000e+00 \n",
      " k_B =                                             =  6.8198e+00 \n",
      " k_F =                                             =  6.8198e+00 \n",
      " k_D =                                             =  1.0000e+00 \n",
      " k_M =                                             =  1.4663e-01 \n",
      " k_H =                                             =  1.0000e+00 \n",
      "\n",
      " Macro particle weights:\n",
      "                          ds =                     =  1.9531e-03 \n",
      "                    per_cell =                     =  3.2000e+01 \n",
      "               weight_scaled =                     =  8.6934e+07 \n",
      " weight_scaled_mass_electron =                     =  1.2673e-13 \n",
      "   weight_scaled_mass_proton =                     =  2.3270e-10 \n",
      "        weight_scaled_charge =                     =  9.6281e-12 \n",
      "                 rho_n_ratio =                     =  3.7338e+17 \n",
      "\n",
      " Fundamental physical constants:\n",
      "        Gravitational Constant [ cm^3 g^-1 s^-2 ]  =  6.6743e-08  4.8171e+31  1.3855e-39\n",
      "          Boltzmann's Constant [ erg K^-1 ]        =  1.3806e-16  2.6120e+16  5.2858e-33\n",
      "             Planck's Constant [ erg s ]           =  6.6261e-27  9.1995e+07  7.2026e-35\n",
      "              Atomic Mass Unit [ g ]               =  1.6605e-24  6.2486e-07  2.6574e-18\n",
      "                   Proton Mass [ g ]               =  1.6726e-24  6.2486e-07  2.6768e-18\n",
      "                 Electron Mass [ g ]               =  9.1094e-28  6.2486e-07  1.4578e-21\n",
      "             Elementary Charge [ StatC ]           =  4.8032e-10  4.3369e+09  1.1075e-19\n",
      "           Vacuum Permittivity [ ]                 =  1.1127e-21  2.3923e-23  4.6510e+01\n",
      "           Vacuum Permeability [ s^2 cm^-2 ]       =  1.0000e+00  1.0000e+00  1.0000e+00\n",
      "                Speed of Light [ cm/s ]            =  2.9979e+10  2.0445e+11  1.4663e-01\n",
      "                 Electron Volt [ erg ]             =  1.6022e-12  2.6120e+16  6.1339e-29\n",
      "         Mean molecular weight [ ]                 =  5.0391e-01  1.0000e+00  5.0391e-01\n",
      "\n",
      " Defining Constants:\n",
      "                 Number Desity [ cm^3 ]            =  1.0000e+09  2.6782e-09  3.7338e+17\n",
      "         Characteristic Length [ cm ]              =  7.2008e+02  7.2008e+02  1.0000e+00\n",
      "                   Temperature [ K ]               =  1.0000e+06  1.0000e+00  1.0000e+06\n",
      "          Electron Temperature [ K ]               =  1.0000e+06  1.0000e+00  1.0000e+06\n",
      "            Proton Temperature [ K ]               =  1.0000e+06  1.0000e+00  1.0000e+06\n",
      "        Magnetic Flux Strength [ G ]               =  1.0000e+01  8.3640e+03  1.1956e-03\n",
      "\n",
      " Velocities:\n",
      "       Characteristic velocity [ cm s^-1 ]         =  6.8957e+07  2.0445e+11  3.3727e-04\n",
      "               Alfven velocity [ cm s^-1 ]         =  6.8957e+07  2.0445e+11  3.3727e-04\n",
      "     electron thermal velocity [ cm s^-1 ]         =  3.8931e+08  2.0445e+11  1.9042e-03\n",
      "       proton thermal velocity [ cm s^-1 ]         =  9.0854e+06  2.0445e+11  4.4437e-05\n",
      "\n",
      " Frequencies:\n",
      "     electron gyro frequency   [ rad s^-1 ]        =  1.7588e+08  2.8393e+08  6.1945e-01\n",
      "       proton gyro frequency   [ rad s^-1 ]        =  9.5788e+04  2.8393e+08  3.3737e-04\n",
      "     electron plasma frequency [ rad s^-1 ]        =  1.7840e+09  2.8393e+08  6.2832e+00\n",
      "       proton plasma frequency [ rad s^-1 ]        =  4.1633e+07  2.8393e+08  1.4663e-01\n",
      "\n",
      " Lengths:\n",
      "           electron skin depth [ cm ]              =  1.6805e+01  7.2008e+02  2.3337e-02\n",
      "             proton skin depth [ cm ]              =  7.2008e+02  7.2008e+02  1.0000e+00\n",
      "                 debye Length  [ cm ]              =  2.1823e-01  7.2008e+02  3.0306e-04\n",
      "       inter particle distance [ cm ]              =  1.0000e-03  7.2008e+02  1.3887e-06\n",
      "          electron gyro radius [ cm ]              =  2.2135e+00  7.2008e+02  3.0739e-03\n",
      "            proton gyro radius [ cm ]              =  9.4848e+01  7.2008e+02  1.3172e-01\n",
      "\n",
      " Other:\n",
      "                  Mass density [ g cm^-3 ]         =  1.6735e-15  1.6735e-15  1.0000e+00\n",
      "           Characteristic mass [ g ]               =  6.2486e-07  6.2486e-07  1.0000e+00\n",
      "          Characteristic time  [ s ]               =  1.0443e-05  3.5220e-09  2.9649e+03\n",
      " Characteristic kinetic energy [ erg ]             =  2.9713e+09  2.6120e+16  1.1375e-07\n",
      "               energy per mass [ erg g^-1]         =  4.7551e+15  4.1801e+22  1.1375e-07\n",
      "             energy per volume [ erg cm^-3]        =  7.9577e+00  6.9956e+07  1.1375e-07\n",
      "      Characteristic  pressure [ Ba ]              =  1.3806e-01  6.9956e+07  1.9736e-09\n"
     ]
    }
   ],
   "source": [
    "#---------- Double current sheet setup ----------\n",
    "base = BaseUnits(\"CGS\")\n",
    "\n",
    "electron_mass_scaling = 1e0#4.590381684400168\n",
    "charge_scaling = 1e0\n",
    "eps_0_scaling = 1e0#1e2\n",
    "mu_0_scaling = 1e0\n",
    "\n",
    "scale_base_units(base, eps_0_scaling, mu_0_scaling, electron_mass_scaling, charge_scaling)\n",
    "\n",
    "mass_density_scale = 1.6735328363560001e-15\n",
    "length_scale       = 720.0847332647692 # proton skin depth\n",
    "time_scale         = 3.5219920728365707e-9\n",
    "temperature_scale  = 1e0\n",
    "\n",
    "\n",
    "length = 720.0847332647692\n",
    "number_density=1e9 \n",
    "B_flux=10\n",
    "temperature   = 1e6\n",
    "temperature_e = temperature\n",
    "temperature_p = temperature\n",
    "\n",
    "\n",
    "\n",
    "scaling = ScalingCGS(base,\n",
    "                number_density, length, temperature, temperature_e, temperature_p, B_flux,\n",
    "                length_scale, mass_density_scale, time_scale, temperature_scale)\n",
    "\n",
    "ds = 0.001953125\n",
    "per_cell = 32\n",
    "\n",
    "set_macro_particle_weights(scaling, ds, per_cell);\n",
    "print_all_CGS(scaling)\n",
    "\n",
    "\n",
    "#scaling.p_gyro_radiues_real / scaling.debye_len_real"
   ]
  },
  {
   "cell_type": "code",
   "execution_count": 3,
   "metadata": {},
   "outputs": [
    {
     "data": {
      "text/plain": [
       "434.7543167005872"
      ]
     },
     "metadata": {},
     "output_type": "display_data"
    }
   ],
   "source": [
    "scaling.c_code / scaling.v_a_code"
   ]
  },
  {
   "cell_type": "code",
   "execution_count": 4,
   "metadata": {},
   "outputs": [
    {
     "ename": "UndefVarError",
     "evalue": "UndefVarError: dt not defined",
     "output_type": "error",
     "traceback": [
      "UndefVarError: dt not defined\n",
      "\n",
      "Stacktrace:\n",
      " [1] top-level scope\n",
      "   @ ~/Dropbox/PhD/plasma_scaling/experiments/plasma_freq/freq_scaling.ipynb:1"
     ]
    }
   ],
   "source": [
    "30 / dt"
   ]
  },
  {
   "cell_type": "code",
   "execution_count": 5,
   "metadata": {},
   "outputs": [
    {
     "name": "stdout",
     "output_type": "stream",
     "text": [
      "3.7337979268218586e17\n",
      "2.7818962386413355e9\n",
      "32.0\n"
     ]
    }
   ],
   "source": [
    "println(scaling.mass_density_code * scaling.rho_n_ratio)\n",
    "println(scaling.mass_density_code * scaling.rho_n_ratio * ds^3)\n",
    "println(scaling.mass_density_code * scaling.rho_n_ratio * ds^3 / scaling.weight_scaled)"
   ]
  },
  {
   "cell_type": "code",
   "execution_count": 6,
   "metadata": {},
   "outputs": [
    {
     "data": {
      "text/plain": [
       "4.4437277898443394e-5"
      ]
     },
     "metadata": {},
     "output_type": "display_data"
    }
   ],
   "source": [
    "(scaling.proton_plasma_freq_code * scaling.debye_len_code)# / scaling.c_code"
   ]
  },
  {
   "cell_type": "code",
   "execution_count": 7,
   "metadata": {},
   "outputs": [
    {
     "data": {
      "text/plain": [
       "3.685536131639314e-8"
      ]
     },
     "metadata": {},
     "output_type": "display_data"
    }
   ],
   "source": [
    "dx = 0.2\n",
    "area = dx^2\n",
    "dt = 4.7354828612241809E-004\n",
    "weight_flux_per_dt = 0.075 \n",
    "weight_flux = weight_flux_per_dt  / dt\n",
    "number_flux = weight_flux * scaling.weight_scaled\n",
    "mass_flux_e = number_flux * scaling.m_e_code\n",
    "mass_flux_p = number_flux * scaling.m_p_code"
   ]
  },
  {
   "cell_type": "code",
   "execution_count": 8,
   "metadata": {},
   "outputs": [
    {
     "name": "stdout",
     "output_type": "stream",
     "text": [
      "lb = 1\n",
      "li = 4\n",
      "ui = 35\n",
      "ub = 38\n"
     ]
    }
   ],
   "source": [
    "\n",
    "nx = 32\n",
    "ng = 3\n",
    "lb = 1\n",
    "li = lb + ng\n",
    "ui = li + nx - 1\n",
    "ub = ui + ng\n",
    "\n",
    "println(\"lb = \", lb)\n",
    "println(\"li = \", li)\n",
    "println(\"ui = \", ui)\n",
    "println(\"ub = \", ub)"
   ]
  },
  {
   "cell_type": "code",
   "execution_count": 9,
   "metadata": {},
   "outputs": [
    {
     "name": "stdout",
     "output_type": "stream",
     "text": [
      "mass density code1.0\n",
      "rho_n_ratio3.7337979268218586e17\n",
      "k_b code5.2857622487510206e-33\n",
      "T code1.0e6\n",
      "gamma = 1.4\n",
      "gamma - 1 = 0.3999999999999999\n"
     ]
    }
   ],
   "source": [
    "gamma = 1.4\n",
    "println(\"mass density code\", scaling.mass_density_code)\n",
    "println(\"rho_n_ratio\", scaling.rho_n_ratio)\n",
    "println(\"k_b code\", scaling.k_B_code)\n",
    "println(\"T code\", scaling.temperature_code)\n",
    "println(\"gamma = \", gamma)\n",
    "println(\"gamma - 1 = \", gamma - 1)"
   ]
  },
  {
   "cell_type": "code",
   "execution_count": 41,
   "metadata": {},
   "outputs": [
    {
     "name": "stdout",
     "output_type": "stream",
     "text": [
      "e_real = 0.6903242600000002\n",
      "e_code = 9.867984063029905e-9\n",
      "e_code_mass = 9.867984063029905e-9\n",
      "e_real_mass = 4.1249519878147875e14\n"
     ]
    }
   ],
   "source": [
    "gamma = 1.4\n",
    "e_code = 2 * scaling.mass_density_code * scaling.rho_n_ratio * scaling.k_B_code * scaling.temperature_code / (gamma - 1.0)\n",
    "e_code_mass = e_code / scaling.mass_density_code\n",
    "\n",
    "e_real = e_code * scaling.energy_per_volume_scaling\n",
    "e_real_mass = e_code_mass * scaling.energy_per_mass_scaling\n",
    "\n",
    "P_code = e_code * (gamma - 1)\n",
    "println(\"e_real = \", e_real)\n",
    "println(\"e_code = \", e_code)\n",
    "println(\"e_code_mass = \", e_code_mass)\n",
    "println(\"e_real_mass = \", e_real_mass)"
   ]
  },
  {
   "cell_type": "code",
   "execution_count": 53,
   "metadata": {},
   "outputs": [
    {
     "data": {
      "text/plain": [
       "1.42079375034e-6"
      ]
     },
     "metadata": {},
     "output_type": "display_data"
    }
   ],
   "source": [
    "B_e = (7.20264779E-07 - 9.86790383E-09) * 2"
   ]
  },
  {
   "cell_type": "code",
   "execution_count": 65,
   "metadata": {},
   "outputs": [
    {
     "data": {
      "text/plain": [
       "1.4482695424853042e-6"
      ]
     },
     "metadata": {},
     "output_type": "display_data"
    }
   ],
   "source": [
    "1.20344071E-03^2 #- 1.54810550E-07^2 + 6.00548265E-06^2"
   ]
  },
  {
   "cell_type": "code",
   "execution_count": null,
   "metadata": {},
   "outputs": [],
   "source": []
  },
  {
   "cell_type": "code",
   "execution_count": 13,
   "metadata": {},
   "outputs": [
    {
     "name": "stdout",
     "output_type": "stream",
     "text": [
      "mass density code1.0\n",
      "rho_n_ratio 3.7337979268218586e17\n",
      "k_b code 5.2857622487510206e-33\n",
      "T code 1.0e6\n",
      "gamma = 1.4\n",
      "gamma - 1 = 0.3999999999999999\n"
     ]
    }
   ],
   "source": [
    "println(\"mass density code\", scaling.mass_density_code)\n",
    "println(\"rho_n_ratio \", scaling.rho_n_ratio)\n",
    "println(\"k_b code \", scaling.k_B_code)\n",
    "println(\"T code \", scaling.temperature_code)\n",
    "println(\"gamma = \", gamma)\n",
    "println(\"gamma - 1 = \", gamma - 1)"
   ]
  },
  {
   "cell_type": "code",
   "execution_count": 14,
   "metadata": {},
   "outputs": [
    {
     "name": "stdout",
     "output_type": "stream",
     "text": [
      "mass density code * w_rp3.7337979268218586e17\n",
      "mass density code * w_rp * k_B 1.9735968126059804e-15\n",
      "mass density code * w_rp * k_B * T 1.9735968126059804e-9\n"
     ]
    }
   ],
   "source": [
    "println(\"mass density code * w_rp\", scaling.mass_density_code * scaling.rho_n_ratio)\n",
    "println(\"mass density code * w_rp * k_B \", scaling.mass_density_code * scaling.rho_n_ratio * scaling.k_B_code)\n",
    "println(\"mass density code * w_rp * k_B * T \", scaling.mass_density_code * scaling.rho_n_ratio * scaling.k_B_code *  scaling.temperature_code)\n"
   ]
  },
  {
   "cell_type": "code",
   "execution_count": 15,
   "metadata": {},
   "outputs": [
    {
     "name": "stdout",
     "output_type": "stream",
     "text": [
      "dt = 0.0033300281692659984 area = 0.0001220703125\n",
      "mass_flux = 7.7403358650566e-11\n",
      "number_flux = 2.890085000585321e7\n",
      "weight_flux = 0.33244489400473964\n",
      "mom_flux = 3.3611551757012376e-16\n",
      "energy_flux = 2.4725861242636352e-18\n"
     ]
    }
   ],
   "source": [
    "dt = 3.3300281692659984E-003\n",
    "area = ds^2 * 32\n",
    "\n",
    "\n",
    "proton_electron_mass_ratio = sqrt(scaling.m_p_code / scaling.m_e_code)\n",
    "mom_e_frac = 1 / (proton_electron_mass_ratio + 1)\n",
    "mom_p_frac = proton_electron_mass_ratio * mom_e_frac\n",
    "\n",
    "\n",
    "rho = scaling.mass_density_code\n",
    "u = scaling.v_thermal_e_code / 10\n",
    "mom = u * rho * mom_e_frac\n",
    "\n",
    "\n",
    "\n",
    "\n",
    "mom_flux = u^2 * rho * mom_e_frac\n",
    "mom_flux = mom_flux * area * dt\n",
    "\n",
    "mass_flux = u * rho * area * dt \n",
    "number_flux = mass_flux * scaling.rho_n_ratio\n",
    "weight_flux = number_flux / scaling.weight_scaled\n",
    "\n",
    "\n",
    "E_tot = e_code #/ 2 # assume half energy in proton and half in electrons\n",
    "E_tot = E_tot + 0.5 * u^2 * rho\n",
    "P_species = P_code  # assume half energy in proton and half in electrons\n",
    "energy = u * (E_tot + P_species)\n",
    "#energy = energy / 2. # assume half energy in proton and half in electrons\n",
    "energy_flux = energy * area * dt \n",
    "\n",
    "println(\"dt = \", dt, \" area = \", area)\n",
    "println(\"mass_flux = \", mass_flux)\n",
    "println(\"number_flux = \", number_flux)\n",
    "println(\"weight_flux = \", weight_flux)\n",
    "println(\"mom_flux = \", mom_flux)\n",
    "println(\"energy_flux = \", energy_flux)"
   ]
  },
  {
   "cell_type": "code",
   "execution_count": 20,
   "metadata": {},
   "outputs": [
    {
     "name": "stdout",
     "output_type": "stream",
     "text": [
      "const u / 1e-4 = 1.9041530036221939\n",
      "Total enegy = 2.799697736904702e-8\n",
      "Internal enegy = 9.867984063029903e-9\n",
      "Pressure = 3.947193625211961e-9\n",
      "Bulk enegy = 1.8128993306017116e-8\n"
     ]
    }
   ],
   "source": [
    "# Boundary:\n",
    "\n",
    "const_u = scaling.v_thermal_e_code / 10\n",
    "const_rho = scaling.mass_density_code\n",
    "const_mom = const_u * const_rho \n",
    "const_e = const_rho * scaling.rho_n_ratio * scaling.k_B_code * scaling.temperature_code / (gamma - 1.0)\n",
    "const_e = const_e * 2\n",
    "const_e = const_e + 0.5 * const_u^2 * const_rho\n",
    "E_tot = const_e\n",
    "E_internal = E_tot - 0.5 *  const_rho * const_u^2\n",
    "P_tot = E_internal * (gamma - 1)\n",
    "E_bulk = 0.5 * const_rho * const_u^2\n",
    "println(\"const u / 1e-4 = \", const_u / 1e-4)\n",
    "println(\"Total enegy = \", E_tot)\n",
    "println(\"Internal enegy = \", E_internal)\n",
    "println(\"Pressure = \", P_tot)\n",
    "println(\"Bulk enegy = \", E_bulk)\n"
   ]
  },
  {
   "cell_type": "code",
   "execution_count": 21,
   "metadata": {},
   "outputs": [
    {
     "name": "stdout",
     "output_type": "stream",
     "text": [
      "mass_flux = 0.0001904153003622194\n",
      "number_flux = 7.109722537276162e13\n",
      "weight_flux = 817827.4877137493\n",
      "mom_flux = 3.625798661203423e-8\n",
      "E_flux = 5.331052854961347e-12\n",
      "----- Now scaling with area and dt -----\n",
      "mass_flux = 7.7403358650566e-11\n",
      "number_flux = 2.890085000585321e7\n",
      "weight_flux = 0.33244489400473964\n",
      "mom_flux = 1.4738783786492117e-14\n",
      "E_flux = 2.167060080428126e-18\n"
     ]
    }
   ],
   "source": [
    "E_flux = const_u * E_tot  # Adding P_tot makes the temperature too high... But I need to do it according to the energy equation\n",
    "#E_flux = const_u * (E_tot + P_tot) # Adding P_tot makes the temperature too high... But I need to do it according to the energy equation\n",
    "#E_flux = const_u * (gamma * E_tot - (gamma - 1)* 0.5 * const_u^2 * const_rho ) # Adding P_tot makes the temperature too high... But I need to do it according to the energy equation\n",
    "mom_flux = const_u^2 * const_rho #+ P_tot\n",
    "mass_flux = const_u * const_rho\n",
    "number_flux = mass_flux * scaling.rho_n_ratio\n",
    "weight_flux = number_flux / scaling.weight_scaled\n",
    "println(\"mass_flux = \", mass_flux)\n",
    "println(\"number_flux = \", number_flux)\n",
    "println(\"weight_flux = \", weight_flux)\n",
    "println(\"mom_flux = \", mom_flux)\n",
    "println(\"E_flux = \", E_flux)\n",
    "println(\"----- Now scaling with area and dt -----\")\n",
    "E_flux_dt = E_flux * area * dt\n",
    "mom_flux_dt = mom_flux * area * dt\n",
    "mass_flux_dt = mass_flux * area * dt\n",
    "number_flux_dt = number_flux * area * dt\n",
    "weight_flux_dt = weight_flux * area * dt\n",
    "println(\"mass_flux = \", mass_flux_dt)\n",
    "println(\"number_flux = \", number_flux_dt)\n",
    "println(\"weight_flux = \", weight_flux_dt)\n",
    "println(\"mom_flux = \", mom_flux_dt)\n",
    "println(\"E_flux = \", E_flux_dt)"
   ]
  },
  {
   "cell_type": "code",
   "execution_count": 22,
   "metadata": {},
   "outputs": [
    {
     "data": {
      "text/plain": [
       "3.819075547943865e-19"
      ]
     },
     "metadata": {},
     "output_type": "display_data"
    }
   ],
   "source": [
    "\n",
    "mesh_bulk_dt = 0.5 * const_u * const_mom^2 / const_rho * area* dt\n",
    "mesh_bulk_dt_elec = mesh_bulk_dt * mom_e_frac\n",
    "\n",
    "\n",
    "\n",
    "mesh_internal_dt = 0.5 * (E_flux_dt - mesh_bulk_dt)"
   ]
  },
  {
   "cell_type": "code",
   "execution_count": 23,
   "metadata": {},
   "outputs": [
    {
     "data": {
      "text/plain": [
       "9.867984063029903e-9"
      ]
     },
     "metadata": {},
     "output_type": "display_data"
    }
   ],
   "source": [
    "E_internal"
   ]
  },
  {
   "cell_type": "code",
   "execution_count": 24,
   "metadata": {},
   "outputs": [
    {
     "data": {
      "text/plain": [
       "166167.23792113594"
      ]
     },
     "metadata": {},
     "output_type": "display_data"
    }
   ],
   "source": [
    "E_internal = 1.77251074E-17 - 3.76384632E-18\n",
    "w_part = 7.31375933\n",
    "n_part = w_part * scaling.weight_scaled\n",
    "\n",
    "\n",
    "E_internal = E_internal / 10\n",
    "T = (gamma - 1.) * E_internal / (n_part * scaling.k_B_code)"
   ]
  },
  {
   "cell_type": "code",
   "execution_count": 395,
   "metadata": {},
   "outputs": [
    {
     "data": {
      "text/plain": [
       "9.643749239819589e-23"
      ]
     },
     "metadata": {},
     "output_type": "display_data"
    }
   ],
   "source": [
    "μ = 10 #scaling.v_thermal_e_code / 5  # mean\n",
    "σ = 1.0 #scaling.v_thermal_e_code\n",
    "\n",
    "exp(- μ^2  / (2 * σ^2) ) / erfc(- μ/σ / sqrt(2) )"
   ]
  },
  {
   "cell_type": "code",
   "execution_count": 477,
   "metadata": {},
   "outputs": [
    {
     "data": {
      "text/plain": [
       "10000"
      ]
     },
     "metadata": {},
     "output_type": "display_data"
    }
   ],
   "source": [
    "size(samples,1)"
   ]
  },
  {
   "cell_type": "code",
   "execution_count": 691,
   "metadata": {},
   "outputs": [
    {
     "data": {
      "text/plain": [
       "get_mean_negative (generic function with 1 method)"
      ]
     },
     "metadata": {},
     "output_type": "display_data"
    }
   ],
   "source": [
    "function get_mean_positive(samples)\n",
    "    sum = 0.\n",
    "    count = 0\n",
    "\n",
    "    positive_samples = samples[samples .> 0]\n",
    "    for i in 1:size(samples,1)\n",
    "        if samples[i] > 0\n",
    "            sum += samples[i]\n",
    "            count += 1\n",
    "        end\n",
    "     end\n",
    "    return sum / count, sum, count, positive_samples\n",
    "end\n",
    "\n",
    "\n",
    "function get_mean_negative(samples)\n",
    "    sum = 0.\n",
    "    count = 0\n",
    "\n",
    "    negative_samples = samples[samples .< 0]\n",
    "    for i in 1:size(samples,1)\n",
    "        if samples[i] < 0\n",
    "            sum += samples[i]\n",
    "            count += 1\n",
    "        end\n",
    "     end\n",
    "    return sum / count, sum, count, negative_samples\n",
    "end"
   ]
  },
  {
   "cell_type": "code",
   "execution_count": 824,
   "metadata": {},
   "outputs": [
    {
     "name": "stdout",
     "output_type": "stream",
     "text": [
      "mu = 0.0\n",
      "sigma = 1.0\n",
      "---\n",
      "mean_obs = 0.6854687427980806\n",
      "mean_theo = 0.7978845608028654\n",
      "error = 14.089233396328318%\n",
      "mean_theo_complex = 0.7978845608028654\n",
      "error_complex = 14.089233396328318%\n",
      "v_diff = -0.11241581800478484\n",
      "--------------------\n",
      "mean_obs_neg = -0.7597220900553757\n",
      "count = 20\n",
      "v_diff_neg = -0.07425334725729515\n",
      "--------------------\n",
      "mean_obs_neg = -0.6834005581637413\n",
      "count = 19\n",
      "v_diff_neg = 0.0020681846343392207\n",
      "avg = -0.05763173486690845\n"
     ]
    }
   ],
   "source": [
    "using Distributions\n",
    "using SpecialFunctions\n",
    "\n",
    "# Parameters\n",
    "n  = 32\n",
    "μ = 0.0 #scaling.v_thermal_e_code  # mean\n",
    "σ = 1.0 #scaling.v_thermal_e_code\n",
    "\n",
    "# Normal distribution\n",
    "dist = Normal(μ, σ)\n",
    "\n",
    "# Sample from the distribution\n",
    "samples = rand(dist, n)\n",
    "\n",
    "#mean_obs = mean(abs.(samples))\n",
    "mean_obs, sum, count, positive_samples = get_mean_positive(samples)\n",
    "\n",
    "mean_theo = σ * sqrt(2 / pi )\n",
    "\n",
    "#mean_theo_complex = μ + σ * exp(- μ^2  / (2 * σ^2) ) / erfc(- μ/σ / sqrt(2) )\n",
    "\n",
    "#mean_theo_complex = μ + σ * sqrt(2 / pi) * exp(- μ^2  / (2 * σ^2) ) \n",
    "mean_theo_complex = μ + σ * sqrt(2 / pi) * exp(- μ^2  / (2 * σ^2) ) / erfc(- μ/σ / sqrt(2) )\n",
    "\n",
    "\n",
    "error = abs(mean_obs - mean_theo) / mean_theo * 100\n",
    "error_complex = abs(mean_obs - mean_theo_complex) / mean_theo_complex * 100\n",
    "\n",
    "println(\"mu = \", μ)\n",
    "println(\"sigma = \", σ)\n",
    "println(\"---\")\n",
    "\n",
    "println(\"mean_obs = \", mean_obs)\n",
    "println(\"mean_theo = \", mean_theo)\n",
    "println(\"error = \", error, \"%\")\n",
    "println(\"mean_theo_complex = \", mean_theo_complex)\n",
    "println(\"error_complex = \", error_complex, \"%\")\n",
    "\n",
    "v_diff = mean_obs - mean_theo_complex\n",
    "\n",
    "println(\"v_diff = \", v_diff)\n",
    "println(\"--------------------\")\n",
    "\n",
    "\n",
    "\n",
    "\n",
    "new_samples = rand(dist, n)\n",
    "mean_obs_neg, sum, count_neg, negative_samples = get_mean_negative(new_samples)\n",
    "#println(\"mean_obs_neg = \", mean_obs_neg)\n",
    "#println(\"count = \", count_neg)\n",
    "#v_diff_neg = mean_obs_neg + mean_obs#(- (mean_theo_complex - v_diff))\n",
    "#println(\"v_diff_neg = \", v_diff_neg)\n",
    "#\n",
    "#println(\"--------------------\")\n",
    "#\n",
    "#new_samples = new_samples .- v_diff\n",
    "#mean_obs_neg, sum, count_neg, negative_samples = get_mean_negative(new_samples)\n",
    "#println(\"mean_obs_neg = \", mean_obs_neg)\n",
    "#println(\"count = \", count_neg)\n",
    "#v_diff_neg = mean_obs_neg + mean_obs#(- (mean_theo_complex - v_diff))\n",
    "#println(\"v_diff_neg = \", v_diff_neg)\n",
    "\n",
    "while abs(mean_obs_neg + mean_obs) > 1e-6 do\n",
    "    \n",
    "end do\n",
    "\n",
    "#new_samples = new_samples .- v_diff_neg\n",
    "#mean_obs_neg, sum, count_neg, negative_samples = get_mean_negative(new_samples)\n",
    "#println(\"mean_obs_neg = \", mean_obs_neg)\n",
    "#println(\"count = \", count_neg)\n",
    "#v_diff_neg =  mean_obs_neg + mean_obs#(- (mean_theo_complex - v_diff))\n",
    "#println(\"v_diff_neg = \", v_diff_neg)\n",
    "\n",
    "\n",
    "avg = (mean_obs_neg * count_neg + mean_obs * count) / (count + count_neg)\n",
    "println(\"avg = \", avg)"
   ]
  },
  {
   "cell_type": "code",
   "execution_count": 827,
   "metadata": {},
   "outputs": [
    {
     "data": {
      "text/plain": [
       "0.10257185196171992"
      ]
     },
     "metadata": {},
     "output_type": "display_data"
    }
   ],
   "source": [
    "0.0001953125 / scaling.v_thermal_e_code"
   ]
  },
  {
   "cell_type": "code",
   "execution_count": 26,
   "metadata": {},
   "outputs": [
    {
     "data": {
      "text/plain": [
       "1.519294282996551"
      ]
     },
     "metadata": {},
     "output_type": "display_data"
    }
   ],
   "source": []
  },
  {
   "cell_type": "code",
   "execution_count": 27,
   "metadata": {},
   "outputs": [
    {
     "data": {
      "text/plain": [
       "2.205666317722925e-17"
      ]
     },
     "metadata": {},
     "output_type": "display_data"
    }
   ],
   "source": [
    "0.5 * scaling.k_B_code * scaling.temperature_code * scaling.weight_scaled * 3 * 32"
   ]
  },
  {
   "cell_type": "code",
   "execution_count": 28,
   "metadata": {},
   "outputs": [
    {
     "data": {
      "text/plain": [
       "0.0014364294367181772"
      ]
     },
     "metadata": {},
     "output_type": "display_data"
    }
   ],
   "source": [
    "internal_energy_diff = 4.18392090E-18\n",
    "w_diff = 32\n",
    "\n",
    "T_diff = 2.  * internal_energy_diff / (scaling.k_B_code * scaling.weight_scaled * w_diff)\n",
    "\n",
    "\n",
    "sigma = sqrt(2 * internal_energy_diff / ( w_diff  * scaling.weight_scaled_mass_electron))"
   ]
  },
  {
   "cell_type": "code",
   "execution_count": 29,
   "metadata": {},
   "outputs": [
    {
     "data": {
      "text/plain": [
       "0.001904153003622194"
      ]
     },
     "metadata": {},
     "output_type": "display_data"
    }
   ],
   "source": [
    "scaling.v_thermal_e_code"
   ]
  },
  {
   "cell_type": "code",
   "execution_count": 30,
   "metadata": {},
   "outputs": [
    {
     "data": {
      "text/plain": [
       "2.77191402452e-17"
      ]
     },
     "metadata": {},
     "output_type": "display_data"
    }
   ],
   "source": [
    "e_int = 6.78035812E-18 +  3.84699204E-18 +  4.67773490E-18\n",
    "e_bulk = 1.10867483E-19 +   1.22794267E-17 +  2.37610022E-20\n",
    "e_tot = e_int + e_bulk"
   ]
  },
  {
   "cell_type": "code",
   "execution_count": 31,
   "metadata": {},
   "outputs": [
    {
     "data": {
      "text/plain": [
       "3.514167291543e-17"
      ]
     },
     "metadata": {},
     "output_type": "display_data"
    }
   ],
   "source": [
    "e_int = 1.01289209E-17 +   4.99518573E-18 +   6.89150969E-18\n",
    "e_bulk = 3.79406486E-20  +  1.30830964E-17 +  5.01954683E-21\n",
    "e_tot = e_int + e_bulk"
   ]
  },
  {
   "cell_type": "code",
   "execution_count": 32,
   "metadata": {},
   "outputs": [
    {
     "data": {
      "text/plain": [
       "4.166578855344931"
      ]
     },
     "metadata": {},
     "output_type": "display_data"
    }
   ],
   "source": [
    "v_avg =  σ   * sqrt(pi / 2)\n",
    "\n",
    "tau = 0.5 * ds / v_avg\n",
    "\n",
    "F = dt / tau\n",
    "\n",
    "N_out = 0.5 * per_cell * F\n",
    "N_out_total = N_out * 32 "
   ]
  },
  {
   "cell_type": "code",
   "execution_count": 33,
   "metadata": {},
   "outputs": [
    {
     "data": {
      "text/plain": [
       "7.680161857239319"
      ]
     },
     "metadata": {},
     "output_type": "display_data"
    }
   ],
   "source": [
    "32 / 4.166578855344931"
   ]
  },
  {
   "cell_type": "code",
   "execution_count": 34,
   "metadata": {},
   "outputs": [
    {
     "data": {
      "text/plain": [
       "2.6525264824412687"
      ]
     },
     "metadata": {},
     "output_type": "display_data"
    }
   ],
   "source": [
    "t_cross = ds / (σ )  * sqrt(pi / 2)\n",
    "t_avg = t_cross / 2.\n",
    "\n",
    "\n",
    "P_esc = 0.5 * per_cell / t_avg \n",
    "P_esc_dt = P_esc * dt\n",
    "\n",
    "boundary_cells = 32\n",
    "\n",
    "P_esc_dt_tot = P_esc_dt * boundary_cells"
   ]
  },
  {
   "cell_type": "code",
   "execution_count": 35,
   "metadata": {},
   "outputs": [
    {
     "data": {
      "text/plain": [
       "4.9999999999999645"
      ]
     },
     "metadata": {},
     "output_type": "display_data"
    }
   ],
   "source": [
    "(0.27306230987981195 - 0.25641216903348207) / dt"
   ]
  },
  {
   "cell_type": "code",
   "execution_count": 36,
   "metadata": {},
   "outputs": [
    {
     "data": {
      "text/plain": [
       "28.000000000000007"
      ]
     },
     "metadata": {},
     "output_type": "display_data"
    }
   ],
   "source": [
    "9.3240788739447980E-002 / dt"
   ]
  },
  {
   "cell_type": "code",
   "execution_count": 37,
   "metadata": {},
   "outputs": [
    {
     "name": "stdout",
     "output_type": "stream",
     "text": [
      "flux_1D = 5.672737844084825e14\n",
      "flux_2D = 3.781825229389883e14\n",
      "flux_3D = 2.8363689220424125e14\n",
      "N_1D = 0.08289145257628965\n",
      "N_2D = 1.768350988294179\n",
      "N_3D = 1.3262632412206343\n"
     ]
    }
   ],
   "source": [
    "#N = scaling.number_density_code * ds^2 * dt / (sqrt(2 * pi * scaling.m_e_code / (scaling.k_B_code * scaling.temperature_code)))\n",
    "v_mean = sqrt(8 / pi * scaling.k_B_code * scaling.temperature_code / scaling.m_e_code)\n",
    "\n",
    "flux_1D = v_mean * scaling.number_density_code / 2\n",
    "flux_2D = v_mean * scaling.number_density_code / 3\n",
    "flux_3D = v_mean * scaling.number_density_code / 4\n",
    "\n",
    "println(\"flux_1D = \", flux_1D)\n",
    "println(\"flux_2D = \", flux_2D)\n",
    "println(\"flux_3D = \", flux_3D)\n",
    "\n",
    "\n",
    "N_1D = flux_1D * ds^2 * dt / scaling.weight_scaled * 1\n",
    "N_2D = flux_2D * ds^2 * dt / scaling.weight_scaled * 32\n",
    "N_3D = flux_3D * ds^2 * dt / scaling.weight_scaled * 32\n",
    "\n",
    "println(\"N_1D = \", N_1D)\n",
    "println(\"N_2D = \", N_2D)\n",
    "println(\"N_3D = \", N_3D)"
   ]
  },
  {
   "cell_type": "code",
   "execution_count": 73,
   "metadata": {},
   "outputs": [
    {
     "data": {
      "text/plain": [
       "wave_killing (generic function with 1 method)"
      ]
     },
     "metadata": {},
     "output_type": "display_data"
    }
   ],
   "source": [
    "function wave_killing(q, q0, tau, xkill, xbndy, x)\n",
    "    # Define the variables as floating point numbers\n",
    "    #-rate::Float64 = 0.0\n",
    "    #quadfunc::Float64\n",
    "\n",
    "    # Check the condition to apply the quadratic function\n",
    "    if abs(x - xbndy) < abs(xkill - xbndy)\n",
    "        quadfunc = ((x - xkill) / (xbndy - xkill))^2\n",
    "        rate = -(q - q0) * quadfunc / tau\n",
    "    else\n",
    "        rate = 0.0\n",
    "    end\n",
    "\n",
    "    return rate\n",
    "end\n"
   ]
  },
  {
   "cell_type": "code",
   "execution_count": 142,
   "metadata": {},
   "outputs": [
    {
     "data": {
      "text/plain": [
       "7.5075075075075075"
      ]
     },
     "metadata": {},
     "output_type": "display_data"
    }
   ],
   "source": [
    "0.1 / dt"
   ]
  },
  {
   "cell_type": "code",
   "execution_count": 145,
   "metadata": {},
   "outputs": [
    {
     "name": "stdout",
     "output_type": "stream",
     "text": [
      "Bx_flux_test = 0.9091445877551021\n",
      "Bx_flux_test = 0.9174529406580965\n",
      "Bx_flux_test = 0.925001528938873\n",
      "Bx_flux_test = 0.9318598299400426\n",
      "Bx_flux_test = 0.9380909675876511\n",
      "Bx_flux_test = 0.9437522933849329\n",
      "Bx_flux_test = 0.94889591427658\n",
      "Bx_flux_test = 0.9535691722420008\n",
      "Bx_flux_test = 0.9578150800317513\n",
      "Bx_flux_test = 0.9616727170576673\n",
      "Bx_flux_test = 0.9651775890804752\n",
      "Bx_flux_test = 0.9683619550054534\n",
      "Bx_flux_test = 0.9712551237939784\n",
      "Bx_flux_test = 0.9738837242237335\n",
      "Bx_flux_test = 0.9762719499804586\n",
      "Bx_flux_test = 0.9784417823370701\n",
      "Bx_flux_test = 0.9804131924696926\n",
      "Bx_flux_test = 0.9822043252727245\n",
      "Bx_flux_test = 0.9838316663647727\n",
      "Bx_flux_test = 0.9853101938225838\n",
      "Bx_flux_test = 0.986653516039532\n",
      "Bx_flux_test = 0.9878739969775177\n",
      "Bx_flux_test = 0.9889828699650949\n",
      "Bx_flux_test = 0.9899903410892305\n",
      "Bx_flux_test = 0.9909056831323122\n",
      "Bx_flux_test = 0.9917373209190049\n",
      "Bx_flux_test = 0.992492908858489\n",
      "Bx_flux_test = 0.9931794013957799\n",
      "Bx_flux_test = 0.993803117020566\n",
      "Bx_flux_test = 0.9943697964227013\n"
     ]
    }
   ],
   "source": [
    "Bx_flux_code = 1.0 #scaling.B_flux_code\n",
    "dt = 1.3320E-02\n",
    "\n",
    "\n",
    "Bx_flux_test = Bx_flux_code * 0.9\n",
    "tau = 0.1#!20 * dt\n",
    "\n",
    "#x_start = 1 - 0.0625\n",
    "#x_end   = 1.0\n",
    "#x = 1 - ds \n",
    "\n",
    "x_start = 0.0625\n",
    "x_end   = - ds * 3\n",
    "x =  +3 *  ds \n",
    "\n",
    "for i in 1:30\n",
    "    rate = wave_killing(Bx_flux_test, Bx_flux_code, tau, x_start, x_end, x)\n",
    "    Bx_flux_test = Bx_flux_test + rate * dt \n",
    "    println(\"Bx_flux_test = \", Bx_flux_test)\n",
    "end "
   ]
  },
  {
   "cell_type": "code",
   "execution_count": 155,
   "metadata": {},
   "outputs": [
    {
     "data": {
      "text/plain": [
       "4.933992031514952e-9"
      ]
     },
     "metadata": {},
     "output_type": "display_data"
    }
   ],
   "source": [
    "scaling.mass_density_code * scaling.rho_n_ratio * scaling.k_B_code * scaling.temperature_code / (gamma - 1.0)"
   ]
  }
 ],
 "metadata": {
  "kernelspec": {
   "display_name": "Julia 1.8.5",
   "language": "julia",
   "name": "julia-1.8"
  },
  "language_info": {
   "file_extension": ".jl",
   "mimetype": "application/julia",
   "name": "julia",
   "version": "1.8.5"
  }
 },
 "nbformat": 4,
 "nbformat_minor": 2
}
