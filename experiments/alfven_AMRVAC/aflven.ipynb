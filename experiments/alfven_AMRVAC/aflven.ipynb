{
 "cells": [
  {
   "cell_type": "code",
   "execution_count": 1,
   "metadata": {},
   "outputs": [
    {
     "data": {
      "text/plain": [
       "find_real_units_HL (generic function with 2 methods)"
      ]
     },
     "metadata": {},
     "output_type": "display_data"
    }
   ],
   "source": [
    "include(\"../../code_to_real.jl\")"
   ]
  },
  {
   "cell_type": "code",
   "execution_count": 17,
   "metadata": {},
   "outputs": [
    {
     "name": "stdout",
     "output_type": "stream",
     "text": [
      "lenght                 = 904.8851631947059\n",
      "number_density         = 1.0e9\n",
      "B                      = 12.563604071049483\n",
      "T                      = 1.1432609021598859e7\n",
      "\n",
      "length_scale           = 904.8851631947059\n",
      "mass_density_scale     = 1.7562529929e-15\n",
      "time_scale             = 3.018372007192742e-7\n",
      "temperature_scale      = 1.0\n",
      "\n",
      "e_mass_scale           = 91.80763368800336\n",
      "charge_scaling         = 1.0\n",
      "eps_0_scaling          = 100.0\n",
      "mu_0_scaling           = 1.0\n",
      "\n",
      " Maxwell Lorents Factors used in code:\n",
      " k_E =                                             =  7.9577e-02 \n",
      " k_B =                                             =  7.9577e-02 \n",
      " k_F =                                             =  1.0000e+00 \n",
      " k_D =                                             =  1.0000e+00 \n",
      " k_M =                                             =  1.0000e+00 \n",
      " k_H =                                             =  1.0000e+00 \n",
      "\n",
      " Macro particle weights:\n",
      "                          ds =                     =  1.0000e-01 \n",
      "                    per_cell =                     =  1.0240e+03 \n",
      "               weight_scaled =                     =  7.2357e+14 \n",
      " weight_scaled_mass_electron =                     =  4.6503e-05 \n",
      "   weight_scaled_mass_proton =                     =  9.3006e-04 \n",
      "        weight_scaled_charge =                     =  9.5303e-04 \n",
      "                 rho_n_ratio =                     =  7.4094e+17 \n",
      "\n",
      " Fundamental physical constants:\n",
      "        Gravitational Constant [ cm^3 g^-1 s^-2 ]  =  6.6743e-08  6.2498e+27  1.0679e-35\n",
      "          Boltzmann's Constant [ erg K^-1 ]        =  1.3806e-16  1.1695e+13  1.1805e-29\n",
      "             Planck's Constant [ erg s ]           =  6.6261e-27  3.5301e+06  1.8770e-33\n",
      "              Atomic Mass Unit [ g ]               =  1.6605e-24  1.3013e-06  1.2761e-18\n",
      "                   Proton Mass [ g ]               =  1.6726e-24  1.3013e-06  1.2854e-18\n",
      "                 Electron Mass [ g ]               =  8.3631e-26  1.3013e-06  6.4269e-20\n",
      "             Elementary Charge [ StatC ]           =  1.3550e-10  1.0287e+08  1.3171e-18\n",
      "           Vacuum Permittivity [ s^2 cm^-2 ]       =  1.1127e-19  1.1127e-19  1.0000e+00\n",
      "           Vacuum Permeability [  ]                =  1.0000e+00  1.0000e+00  1.0000e+00\n",
      "                Speed of Light [ cm/s ]            =  2.9979e+09  2.9979e+09  1.0000e+00\n",
      "                 Electron Volt [ erg ]             =  1.6022e-12  1.1695e+13  1.3699e-25\n",
      "         Mean molecular weight [ ]                 =  5.2882e-01  1.0000e+00  5.2882e-01\n",
      "\n",
      " Defining Constants:\n",
      "                 Number Desity [ cm^3 ]            =  1.0000e+09  1.3496e-09  7.4094e+17\n",
      "         Characteristic Length [ cm ]              =  9.0489e+02  9.0489e+02  1.0000e+00\n",
      "                   Temperature [ K ]               =  1.1433e+07  1.0000e+00  1.1433e+07\n",
      "          Electron Temperature [ K ]               =  1.1433e+07  1.0000e+00  1.1433e+07\n",
      "            Proton Temperature [ K ]               =  1.1433e+07  1.0000e+00  1.1433e+07\n",
      "        Magnetic Flux Strength [ G ]               =  1.2564e+01  1.2564e+02  1.0000e-01\n",
      "\n",
      " Velocities:\n",
      "       Characteristic velocity [ cm s^-1 ]         =  2.9979e+08  2.9979e+09  1.0000e-01\n",
      "               Alfven velocity [ cm s^-1 ]         =  2.9830e+08  2.9979e+09  9.9504e-02\n",
      "     electron thermal velocity [ cm s^-1 ]         =  1.3738e+08  2.9979e+09  4.5826e-02\n",
      "       proton thermal velocity [ cm s^-1 ]         =  3.0720e+07  2.9979e+09  1.0247e-02\n",
      "\n",
      " Frequencies:\n",
      "     electron gyro frequency   [ rad s^-1 ]        =  6.7897e+06  3.3130e+06  2.0494e+00\n",
      "       proton gyro frequency   [ rad s^-1 ]        =  3.3949e+05  3.3130e+06  1.0247e-01\n",
      "     electron plasma frequency [ rad s^-1 ]        =  1.4816e+07  3.3130e+06  4.4721e+00\n",
      "       proton plasma frequency [ rad s^-1 ]        =  3.3130e+06  3.3130e+06  1.0000e+00\n",
      "\n",
      " Lengths:\n",
      "           electron skin depth [ cm ]              =  2.0234e+02  9.0489e+02  2.2361e-01\n",
      "             proton skin depth [ cm ]              =  9.0489e+02  9.0489e+02  1.0000e+00\n",
      "                 debye Length  [ cm ]              =  9.2723e+00  9.0489e+02  1.0247e-02\n",
      "       inter particle distance [ cm ]              =  1.0000e-03  9.0489e+02  1.1051e-06\n",
      "          electron gyro radius [ cm ]              =  2.0234e+01  9.0489e+02  2.2361e-02\n",
      "            proton gyro radius [ cm ]              =  9.0489e+01  9.0489e+02  1.0000e-01\n",
      "\n",
      " Other:\n",
      "                  Mass density [ g cm^-3 ]         =  1.7563e-15  1.7563e-15  1.0000e+00\n",
      "           Characteristic mass [ g ]               =  1.3013e-06  1.3013e-06  1.0000e+00\n",
      "          Characteristic time  [ s ]               =  3.0184e-06  3.0184e-07  1.0000e+01\n",
      " Characteristic kinetic energy [ erg ]             =  1.1695e+11  1.1695e+13  1.0000e-02\n",
      "               energy per mass [ erg g^-1]         =  8.9876e+16  8.9876e+18  1.0000e-02\n",
      "             energy per volume [ erg cm^-3]        =  1.5784e+02  1.5784e+04  1.0000e-02\n",
      "      Characteristic  pressure [ Ba ]              =  3.1569e+00  1.5784e+04  2.0000e-04\n"
     ]
    }
   ],
   "source": [
    "#-------- From Dahldorf et al. 2014\n",
    "\n",
    "c_code = 1.0\n",
    "B_code = 0.1 #* sqrt(4*pi) # Multiply with sqrt(4*pi) to get it in CGS - they have in Heaviside-Lorentz units\n",
    "p_code = 0.0002\n",
    "rho_code = 1.0\n",
    "debye_code = -1 #/ sqrt(4*pi) # divide with sqrt(4*pi) to get it in CGS - they have in Heaviside-Lorentz units\n",
    "skin_depth_code = 1.0\n",
    "\n",
    "\n",
    "c_u = code_units(c_code, B_code, p_code, rho_code, debye_code, skin_depth_code)\n",
    "\n",
    "number_density_real = 1e9 # Guess \n",
    "\n",
    "\n",
    "r_u = known_real_units(number_density_real)\n",
    "eps_0_scaling = 1e2\n",
    "charge_scaling = 1e0\n",
    "electron_proton_mass_ratio = 20\n",
    "\n",
    "r_s = ratios_and_scaling(electron_proton_mass_ratio, eps_0_scaling, charge_scaling)\n",
    "\n",
    "\n",
    "scaling = find_real_units_HL(c_u, r_u, r_s, true)\n",
    "\n",
    "ds = 0.1\n",
    "per_cell = 1024\n",
    "\n",
    "set_macro_particle_weights(scaling, ds, per_cell)\n",
    "\n",
    "print_basic_info(scaling)\n",
    "print_all_HL(scaling)"
   ]
  }
 ],
 "metadata": {
  "kernelspec": {
   "display_name": "Julia 1.8.5",
   "language": "julia",
   "name": "julia-1.8"
  },
  "language_info": {
   "file_extension": ".jl",
   "mimetype": "application/julia",
   "name": "julia",
   "version": "1.8.5"
  }
 },
 "nbformat": 4,
 "nbformat_minor": 2
}
