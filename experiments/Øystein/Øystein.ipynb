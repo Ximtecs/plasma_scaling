{
 "cells": [
  {
   "cell_type": "code",
   "execution_count": 1,
   "metadata": {},
   "outputs": [
    {
     "data": {
      "text/plain": [
       "print_basic_info (generic function with 2 methods)"
      ]
     },
     "metadata": {},
     "output_type": "display_data"
    }
   ],
   "source": [
    "include(\"../../scaling_HL.jl\")\n",
    "include(\"../../scaling_CGS.jl\")"
   ]
  },
  {
   "cell_type": "code",
   "execution_count": 25,
   "metadata": {},
   "outputs": [
    {
     "name": "stdout",
     "output_type": "stream",
     "text": [
      "debye_per_ds = 3.863230157660464\n",
      "lenght                 = 1.0e8\n",
      "number_density         = 1.7758329203118983e8\n",
      "B                      = 2.8209479177387817\n",
      "T                      = 610000.0\n",
      "\n",
      "length_scale           = 1.0e8\n",
      "mass_density_scale     = 3.0e-16\n",
      "time_scale             = 1.0\n",
      "temperature_scale      = 1.0\n",
      "\n",
      "e_mass_scale           = 18.361526737600673\n",
      "charge_scaling         = 1.0e-6\n",
      "eps_0_scaling          = 1.0\n",
      "mu_0_scaling           = 1.0\n",
      "\n",
      " Maxwell Lorents Factors used in code:\n",
      " k_E =                                             =  7.9577e-02 \n",
      " k_B =                                             =  2.6544e-04 \n",
      " k_F =                                             =  3.3356e-03 \n",
      " k_D =                                             =  1.0000e+00 \n",
      " k_M =                                             =  2.9979e+02 \n",
      " k_H =                                             =  1.0000e+00 \n",
      "\n",
      " Macro particle weights:\n",
      "                          ds =                     =  1.5625e-02 \n",
      "                    per_cell =                     =  1.2800e+02 \n",
      "               weight_scaled =                     =  1.3874e+30 \n",
      " weight_scaled_mass_electron =                     =  7.7351e-05 \n",
      "   weight_scaled_mass_proton =                     =  7.7351e-03 \n",
      "        weight_scaled_charge =                     =  1.3639e-01 \n",
      "                 rho_n_ratio =                     =  1.7758e+32 \n",
      "\n",
      " Fundamental physical constants:\n",
      "        Gravitational Constant [ cm^3 g^-1 s^-2 ]  =  6.6743e-08  3.3333e+15  2.0023e-23\n",
      "          Boltzmann's Constant [ erg K^-1 ]        =  1.3806e-16  3.0000e+24  4.6022e-41\n",
      "             Planck's Constant [ erg s ]           =  6.6261e-27  3.0000e+24  2.2087e-51\n",
      "              Atomic Mass Unit [ g ]               =  1.6605e-24  3.0000e+08  5.5351e-33\n",
      "                   Proton Mass [ g ]               =  1.6726e-24  3.0000e+08  5.5754e-33\n",
      "                 Electron Mass [ g ]               =  1.6726e-26  3.0000e+08  5.5754e-35\n",
      "             Elementary Charge [ StatC ]           =  1.7027e-15  1.7321e+16  9.8305e-32\n",
      "           Vacuum Permittivity [ s^2 cm^-2 ]       =  1.1127e-21  1.0000e-16  1.1127e-05\n",
      "           Vacuum Permeability [  ]                =  1.0000e+00  1.0000e+00  1.0000e+00\n",
      "                Speed of Light [ cm/s ]            =  2.9979e+10  1.0000e+08  2.9979e+02\n",
      "                 Electron Volt [ erg ]             =  1.6022e-12  3.0000e+24  5.3406e-37\n",
      "         Mean molecular weight [ ]                 =  5.0867e-01  1.0000e+00  5.0867e-01\n",
      "\n",
      " Defining Constants:\n",
      "                 Number Desity [ cm^3 ]            =  1.7758e+08  1.0000e-24  1.7758e+32\n",
      "         Characteristic Length [ cm ]              =  1.0000e+08  1.0000e+08  1.0000e+00\n",
      "                   Temperature [ K ]               =  6.1000e+05  1.0000e+00  6.1000e+05\n",
      "          Electron Temperature [ K ]               =  6.1000e+05  1.0000e+00  6.1000e+05\n",
      "            Proton Temperature [ K ]               =  6.1000e+05  1.0000e+00  6.1000e+05\n",
      "        Magnetic Flux Strength [ G ]               =  2.8209e+00  1.7321e+00  1.6287e+00\n",
      "\n",
      " Velocities:\n",
      "       Characteristic velocity [ cm s^-1 ]         =  1.6287e+08  1.0000e+08  1.6287e+00\n",
      "               Alfven velocity [ cm s^-1 ]         =  1.6287e+08  1.0000e+08  1.6287e+00\n",
      "     electron thermal velocity [ cm s^-1 ]         =  7.0959e+07  1.0000e+08  7.0959e-01\n",
      "       proton thermal velocity [ cm s^-1 ]         =  7.0959e+06  1.0000e+08  7.0959e-02\n",
      "\n",
      " Frequencies:\n",
      "     electron gyro frequency   [ rad s^-1 ]        =  9.5788e+00  1.0000e+00  9.5788e+00\n",
      "       proton gyro frequency   [ rad s^-1 ]        =  9.5788e-02  1.0000e+00  9.5788e-02\n",
      "     electron plasma frequency [ rad s^-1 ]        =  1.7544e+02  1.0000e+00  1.7544e+02\n",
      "       proton plasma frequency [ rad s^-1 ]        =  1.7544e+01  1.0000e+00  1.7544e+01\n",
      "\n",
      " Lengths:\n",
      "           electron skin depth [ cm ]              =  1.7088e+08  1.0000e+08  1.7088e+00\n",
      "             proton skin depth [ cm ]              =  1.7088e+09  1.0000e+08  1.7088e+01\n",
      "                 debye Length  [ cm ]              =  4.0445e+05  1.0000e+08  4.0445e-03\n",
      "       inter particle distance [ cm ]              =  1.7791e-03  1.0000e+08  1.7791e-11\n",
      "          electron gyro radius [ cm ]              =  7.4079e+06  1.0000e+08  7.4079e-02\n",
      "            proton gyro radius [ cm ]              =  7.4079e+07  1.0000e+08  7.4079e-01\n",
      "\n",
      " Other:\n",
      "                  Mass density [ g cm^-3 ]         =  3.0000e-16  3.0000e-16  1.0000e+00\n",
      "           Characteristic mass [ g ]               =  3.0000e+08  3.0000e+08  1.0000e+00\n",
      "          Characteristic time  [ s ]               =  6.1400e-01  1.0000e+00  6.1400e-01\n",
      " Characteristic kinetic energy [ erg ]             =  7.9577e+24  3.0000e+24  2.6526e+00\n",
      "               energy per mass [ erg g^-1]         =  2.6526e+16  1.0000e+16  2.6526e+00\n",
      "             energy per volume [ erg cm^-3]        =  7.9577e+00  3.0000e+00  2.6526e+00\n",
      "      Characteristic  pressure [ Ba ]              =  2.9912e-02  3.0000e+00  9.9707e-03\n"
     ]
    }
   ],
   "source": [
    "#---------- Double current sheet setup ----------\n",
    "base = BaseUnits(\"HL\")\n",
    "\n",
    "electron_proton_mass_ratio = 100.0\n",
    "\n",
    "electron_mass_scaling = (base.m_p / base.m_e) / electron_proton_mass_ratio\n",
    "charge_scaling = 1e-6\n",
    "eps_0_scaling = 1e0\n",
    "mu_0_scaling = 1e0\n",
    "\n",
    "scale_base_units(base, eps_0_scaling, mu_0_scaling, electron_mass_scaling, charge_scaling)\n",
    "\n",
    "\n",
    "\n",
    "length = 1e8\n",
    "B_flux= 10.0 / sqrt(4*pi)\n",
    "temperature   = 0.61e6\n",
    "temperature_e = temperature\n",
    "temperature_p = temperature\n",
    "\n",
    "\n",
    "mass_density = 3e-16\n",
    "\n",
    "\n",
    "\n",
    "mu = ( (base.m_e + base.m_p)  / 2. ) /  base.m_u# assuming only protons and electrons\n",
    "number_density = mass_density / (2 * mu * base.m_u)\n",
    "\n",
    "\n",
    "e_plasma = base.e * sqrt( number_density / base.m_e)\n",
    "#----------- These always sets the following code units --------------\n",
    "#            rho=1, c=1, e_plasma=2pi\n",
    "mass_density_scale = mass_density\n",
    "length_scale       = length\n",
    "time_scale         = 1.0 #length_scale / base.c * 10\n",
    "temperature_scale  = 1e0\n",
    "#----------------------------------------------------------------------\n",
    "\n",
    "\n",
    "scaling = ScalingHL(base,\n",
    "                number_density, length, temperature, temperature_e, temperature_p, B_flux,\n",
    "                length_scale, mass_density_scale, time_scale, temperature_scale)\n",
    "\n",
    "grid_size = 2048\n",
    "ds = 32.0 / grid_size\n",
    "per_cell = 128\n",
    "set_macro_particle_weights(scaling, ds, per_cell);\n",
    "\n",
    "\n",
    "debye_per_ds = ds / scaling.debye_len_code\n",
    "println(\"debye_per_ds = \", debye_per_ds)\n",
    "\n",
    "print_basic_info(scaling)\n",
    "print_all_HL(scaling)"
   ]
  },
  {
   "cell_type": "code",
   "execution_count": 4,
   "metadata": {},
   "outputs": [
    {
     "data": {
      "text/plain": [
       "7.553268385172868e8"
      ]
     },
     "metadata": {},
     "output_type": "display_data"
    }
   ],
   "source": [
    "6.0107e+07 * 4*pi"
   ]
  },
  {
   "cell_type": "code",
   "execution_count": 5,
   "metadata": {},
   "outputs": [
    {
     "data": {
      "text/plain": [
       "0.0006038929710160848"
      ]
     },
     "metadata": {},
     "output_type": "display_data"
    }
   ],
   "source": [
    "beta = scaling.pressure_real / (scaling.B_flux_real^2 / (scaling.mu_0_real * 2))"
   ]
  },
  {
   "cell_type": "code",
   "execution_count": 16,
   "metadata": {},
   "outputs": [
    {
     "name": "stdout",
     "output_type": "stream",
     "text": [
      "debye_per_ds = 3.881441452352855e6\n",
      "lenght                 = 1.0e8\n",
      "number_density         = 1.7926149608945164e8\n",
      "B                      = 10.0\n",
      "T                      = 610000.0\n",
      "\n",
      "length_scale           = 1.0e8\n",
      "mass_density_scale     = 3.0e-16\n",
      "time_scale             = 1.0\n",
      "temperature_scale      = 1.0\n",
      "\n",
      "e_mass_scale           = 1.0\n",
      "charge_scaling         = 1.0\n",
      "eps_0_scaling          = 100.0\n",
      "mu_0_scaling           = 1.0\n",
      "\n",
      " Maxwell Lorents Factors used in code:\n",
      " k_E =                                             =  1.0000e+00 \n",
      " k_B =                                             =  3.3356e-02 \n",
      " k_F =                                             =  3.3356e-02 \n",
      " k_D =                                             =  1.0000e+00 \n",
      " k_M =                                             =  2.9979e+01 \n",
      " k_H =                                             =  1.0000e+00 \n",
      "\n",
      " Macro particle weights:\n",
      "                          ds =                     =  1.5625e-02 \n",
      "                    per_cell =                     =  1.2800e+02 \n",
      "               weight_scaled =                     =  5.3424e+24 \n",
      " weight_scaled_mass_electron =                     =  1.6222e-11 \n",
      "   weight_scaled_mass_proton =                     =  2.9786e-08 \n",
      "        weight_scaled_charge =                     =  1.4815e-01 \n",
      "                 rho_n_ratio =                     =  1.7926e+32 \n",
      "\n",
      " Fundamental physical constants:\n",
      "        Gravitational Constant [ cm^3 g^-1 s^-2 ]  =  6.6743e-08  3.3333e+15  2.0023e-23\n",
      "          Boltzmann's Constant [ erg K^-1 ]        =  1.3806e-16  3.0000e+24  4.6022e-41\n",
      "             Planck's Constant [ erg s ]           =  6.6261e-27  3.0000e+24  2.2087e-51\n",
      "              Atomic Mass Unit [ g ]               =  1.6605e-24  3.0000e+08  5.5351e-33\n",
      "                   Proton Mass [ g ]               =  1.6726e-24  3.0000e+08  5.5754e-33\n",
      "                 Electron Mass [ g ]               =  9.1094e-28  3.0000e+08  3.0365e-36\n",
      "             Elementary Charge [ StatC ]           =  4.8032e-10  1.7321e+16  2.7731e-26\n",
      "           Vacuum Permittivity [ s^2 cm^-2 ]       =  8.8542e-21  1.0000e-16  8.8542e-05\n",
      "           Vacuum Permeability [  ]                =  1.2566e+01  1.0000e+00  1.2566e+01\n",
      "                Speed of Light [ cm/s ]            =  2.9979e+09  1.0000e+08  2.9979e+01\n",
      "                 Electron Volt [ erg ]             =  1.6022e-12  3.0000e+24  5.3406e-37\n",
      "         Mean molecular weight [ ]                 =  5.0391e-01  1.0000e+00  5.0391e-01\n",
      "\n",
      " Defining Constants:\n",
      "                 Number Desity [ cm^3 ]            =  1.7926e+08  1.0000e-24  1.7926e+32\n",
      "         Characteristic Length [ cm ]              =  1.0000e+08  1.0000e+08  1.0000e+00\n",
      "                   Temperature [ K ]               =  6.1000e+05  1.0000e+00  6.1000e+05\n",
      "          Electron Temperature [ K ]               =  6.1000e+05  1.0000e+00  6.1000e+05\n",
      "            Proton Temperature [ K ]               =  6.1000e+05  1.0000e+00  6.1000e+05\n",
      "        Magnetic Flux Strength [ G ]               =  1.0000e+01  1.7321e+00  5.7735e+00\n",
      "\n",
      " Velocities:\n",
      "       Characteristic velocity [ cm s^-1 ]         =  1.6287e+08  1.0000e+08  1.6287e+00\n",
      "               Alfven velocity [ cm s^-1 ]         =  1.6263e+08  1.0000e+08  1.6263e+00\n",
      "     electron thermal velocity [ cm s^-1 ]         =  3.0406e+08  1.0000e+08  3.0406e+00\n",
      "       proton thermal velocity [ cm s^-1 ]         =  7.0959e+06  1.0000e+08  7.0959e-02\n",
      "\n",
      " Frequencies:\n",
      "     electron gyro frequency   [ rad s^-1 ]        =  1.7588e+09  1.0000e+00  1.7588e+09\n",
      "       proton gyro frequency   [ rad s^-1 ]        =  9.5788e+05  1.0000e+00  9.5788e+05\n",
      "     electron plasma frequency [ rad s^-1 ]        =  7.5533e+08  1.0000e+00  7.5533e+08\n",
      "       proton plasma frequency [ rad s^-1 ]        =  1.7627e+07  1.0000e+00  1.7627e+07\n",
      "\n",
      " Lengths:\n",
      "           electron skin depth [ cm ]              =  3.9690e+00  1.0000e+08  3.9690e-08\n",
      "             proton skin depth [ cm ]              =  1.7007e+02  1.0000e+08  1.7007e-06\n",
      "                 debye Length  [ cm ]              =  4.0256e-01  1.0000e+08  4.0256e-09\n",
      "       inter particle distance [ cm ]              =  1.7735e-03  1.0000e+08  1.7735e-11\n",
      "          electron gyro radius [ cm ]              =  1.7288e-01  1.0000e+08  1.7288e-09\n",
      "            proton gyro radius [ cm ]              =  7.4079e+00  1.0000e+08  7.4079e-08\n",
      "\n",
      " Other:\n",
      "                  Mass density [ g cm^-3 ]         =  3.0000e-16  3.0000e-16  1.0000e+00\n",
      "           Characteristic mass [ g ]               =  3.0000e+08  3.0000e+08  1.0000e+00\n",
      "          Characteristic time  [ s ]               =  6.1400e-01  1.0000e+00  6.1400e-01\n",
      " Characteristic kinetic energy [ erg ]             =  7.9577e+24  3.0000e+24  2.6526e+00\n",
      "               energy per mass [ erg g^-1]         =  2.6526e+16  1.0000e+16  2.6526e+00\n",
      "             energy per volume [ erg cm^-3]        =  7.9577e+00  3.0000e+00  2.6526e+00\n",
      "      Characteristic  pressure [ Ba ]              =  3.0195e-02  3.0000e+00  1.0065e-02\n"
     ]
    }
   ],
   "source": [
    "#---------- Double current sheet setup ----------\n",
    "base = BaseUnits(\"CGS\")\n",
    "\n",
    "electron_proton_mass_ratio = 100.0\n",
    "\n",
    "electron_mass_scaling = 1.0#(base.m_p / base.m_e) / electron_proton_mass_ratio\n",
    "charge_scaling = 1.0 #1e-5 / 8pi\n",
    "eps_0_scaling = 1e2\n",
    "mu_0_scaling = 1e0\n",
    "\n",
    "scale_base_units(base, eps_0_scaling, mu_0_scaling, electron_mass_scaling, charge_scaling)\n",
    "\n",
    "\n",
    "\n",
    "length = 1e8\n",
    "B_flux= 10.0\n",
    "temperature   = 0.61e6\n",
    "temperature_e = temperature\n",
    "temperature_p = temperature\n",
    "\n",
    "\n",
    "mass_density = 3e-16\n",
    "\n",
    "\n",
    "\n",
    "mu = ( (base.m_e + base.m_p)  / 2. ) /  base.m_u# assuming only protons and electrons\n",
    "number_density = mass_density / (2 * mu * base.m_u)\n",
    "\n",
    "\n",
    "e_plasma = base.e * sqrt( number_density / base.m_e)\n",
    "#----------- These always sets the following code units --------------\n",
    "#            rho=1, c=1, e_plasma=2pi\n",
    "mass_density_scale = mass_density\n",
    "length_scale       = length\n",
    "time_scale         = 1.0 #length_scale / base.c * 10\n",
    "temperature_scale  = 1e0\n",
    "#----------------------------------------------------------------------\n",
    "\n",
    "\n",
    "scaling = ScalingCGS(base,\n",
    "                number_density, length, temperature, temperature_e, temperature_p, B_flux,\n",
    "                length_scale, mass_density_scale, time_scale, temperature_scale)\n",
    "\n",
    "grid_size = 2048\n",
    "ds = 32.0 / grid_size\n",
    "per_cell = 128\n",
    "set_macro_particle_weights(scaling, ds, per_cell);\n",
    "\n",
    "\n",
    "debye_per_ds = ds / scaling.debye_len_code\n",
    "println(\"debye_per_ds = \", debye_per_ds)\n",
    "\n",
    "print_basic_info(scaling)\n",
    "print_all_CGS(scaling)"
   ]
  },
  {
   "cell_type": "code",
   "execution_count": 7,
   "metadata": {},
   "outputs": [
    {
     "data": {
      "text/plain": [
       "0.007588742885194583"
      ]
     },
     "metadata": {},
     "output_type": "display_data"
    }
   ],
   "source": [
    "beta = scaling.pressure_real / (scaling.B_flux_real^2 / (scaling.mu_0_real * 2))"
   ]
  },
  {
   "cell_type": "code",
   "execution_count": 8,
   "metadata": {},
   "outputs": [
    {
     "data": {
      "text/plain": [
       "5.76508339545528e8"
      ]
     },
     "metadata": {},
     "output_type": "display_data"
    }
   ],
   "source": [
    "1.6263e+08 * sqrt(4*pi)"
   ]
  },
  {
   "cell_type": "code",
   "execution_count": 9,
   "metadata": {},
   "outputs": [
    {
     "data": {
      "text/plain": [
       "3.33564095198152e-5"
      ]
     },
     "metadata": {},
     "output_type": "display_data"
    }
   ],
   "source": [
    "1e5 / scaling.c_real "
   ]
  },
  {
   "cell_type": "code",
   "execution_count": 10,
   "metadata": {},
   "outputs": [
    {
     "data": {
      "text/plain": [
       "0.001"
      ]
     },
     "metadata": {},
     "output_type": "display_data"
    }
   ],
   "source": [
    "1e5 / scaling.u_scaling"
   ]
  },
  {
   "cell_type": "code",
   "execution_count": 11,
   "metadata": {},
   "outputs": [
    {
     "data": {
      "text/plain": [
       "32.0"
      ]
     },
     "metadata": {},
     "output_type": "display_data"
    }
   ],
   "source": [
    "1024 / 32"
   ]
  },
  {
   "cell_type": "code",
   "execution_count": 12,
   "metadata": {},
   "outputs": [
    {
     "data": {
      "text/plain": [
       "0.015625"
      ]
     },
     "metadata": {},
     "output_type": "display_data"
    }
   ],
   "source": [
    "32 / (32*32) / 2"
   ]
  },
  {
   "cell_type": "code",
   "execution_count": 27,
   "metadata": {},
   "outputs": [
    {
     "data": {
      "text/plain": [
       "0.0078125"
      ]
     },
     "metadata": {},
     "output_type": "display_data"
    }
   ],
   "source": [
    "32 / (2048) / 2"
   ]
  }
 ],
 "metadata": {
  "kernelspec": {
   "display_name": "Julia 1.8.5",
   "language": "julia",
   "name": "julia-1.8"
  },
  "language_info": {
   "file_extension": ".jl",
   "mimetype": "application/julia",
   "name": "julia",
   "version": "1.8.5"
  }
 },
 "nbformat": 4,
 "nbformat_minor": 2
}
