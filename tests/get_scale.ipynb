{
 "cells": [
  {
   "cell_type": "code",
   "execution_count": null,
   "metadata": {},
   "outputs": [],
   "source": [
    "include(\"../get_scale.jl\")"
   ]
  },
  {
   "cell_type": "code",
   "execution_count": null,
   "metadata": {},
   "outputs": [],
   "source": [
    "#------------------- scalig values -----------\n",
    "eps_0_scaling = 1e2\n",
    "charge_scaling = 1e0\n",
    "electron_proton_mass_ratio = 20\n",
    "r_s = ratios_and_scaling(electron_proton_mass_ratio, eps_0_scaling, charge_scaling)\n",
    "#--------------------------------------------\n",
    "\n",
    "\n",
    "#------------- real values ----------------\n",
    "B = 10.0\n",
    "T = 1e6\n",
    "    #------ set either number density or mass density positive. the other will be ignorde\n",
    "number_density = 1e9 \n",
    "mass_density = -1.0 \n",
    "    #------------------------------------------\n",
    "real_units = real_unit_input(number_density, mass_density, B, T)\n",
    "#------------------------------------------\n",
    "\n",
    "\n",
    "#---------------- some code unit information ----------------\n",
    "c_code = 100.0\n",
    "ds = 0.05\n",
    "per_cell = 128\n",
    "#-------------------------------------------------------------\n",
    "\n",
    "#--------- scale type ----------------\n",
    "# 1: sets timescale so \\omega_{pe} = 2pi  in code units, then length scale so c=c_code\n",
    "# 2: sets lengthscale so ion_skin_depth=1, then timescale so c=c_code\n",
    "scale_type = 2\n",
    "#------------------------------------\n",
    "\n",
    "scaling_HL = get_scaleHL(r_s, real_units, c_code, ds, per_cell ,scale_type)\n",
    "scaling_CGS = get_scaleCGS(r_s, real_units, c_code, ds, per_cell,scale_type)"
   ]
  },
  {
   "cell_type": "code",
   "execution_count": null,
   "metadata": {},
   "outputs": [],
   "source": [
    "print_basic_info(scaling_HL)\n",
    "print_all_HL(scaling_HL)"
   ]
  },
  {
   "cell_type": "code",
   "execution_count": null,
   "metadata": {},
   "outputs": [],
   "source": [
    "print_basic_info(scaling_CGS)\n",
    "print_all_CGS(scaling_CGS)"
   ]
  },
  {
   "cell_type": "code",
   "execution_count": null,
   "metadata": {},
   "outputs": [],
   "source": []
  }
 ],
 "metadata": {
  "kernelspec": {
   "display_name": "Julia 1.8.5",
   "language": "julia",
   "name": "julia-1.8"
  },
  "language_info": {
   "file_extension": ".jl",
   "mimetype": "application/julia",
   "name": "julia",
   "version": "1.8.5"
  }
 },
 "nbformat": 4,
 "nbformat_minor": 2
}
