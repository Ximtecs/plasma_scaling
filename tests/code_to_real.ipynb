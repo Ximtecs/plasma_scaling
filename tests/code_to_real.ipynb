{
 "cells": [
  {
   "cell_type": "code",
   "execution_count": 17,
   "metadata": {},
   "outputs": [
    {
     "data": {
      "text/plain": [
       "find_real_units_CGS (generic function with 1 method)"
      ]
     },
     "metadata": {},
     "output_type": "display_data"
    }
   ],
   "source": [
    "using Plots\n",
    "using QuadGK\n",
    "using NLopt\n",
    "#using SpecialFunctions\n",
    "using NLsolve\n",
    "using Statistics\n",
    "include(\"../scaling_CGS.jl\")\n",
    "include(\"../code_to_real_CGS.jl\")"
   ]
  },
  {
   "cell_type": "code",
   "execution_count": 19,
   "metadata": {},
   "outputs": [
    {
     "name": "stdout",
     "output_type": "stream",
     "text": [
      "lenght                 = 904.8851631947057\n",
      "number_density         = 1.0e9\n",
      "B                      = 50.0\n",
      "T                      = 1.0000000000000001e6\n",
      "\n",
      "length_scale           = 904.8851631947057\n",
      "mass_density_scale     = 1.7395267739199998e-15\n",
      "time_scale             = 3.0183720071927414e-7\n",
      "temperature_scale      = 1.0\n",
      "\n",
      "e_mass_scale           = 73.44610695040268\n",
      "charge_scaling         = 1.0\n",
      "eps_0_scaling          = 1.0\n",
      "mu_0_scaling           = 1.0\n"
     ]
    }
   ],
   "source": [
    "#---------- Double current sheet setup ----------\n",
    "base = BaseUnits(\"CGS\")\n",
    "\n",
    "electron_mass_scaling = 73.44610695040268 # mass ratio of 25\n",
    "charge_scaling = 1e0 #1e-5\n",
    "eps_0_scaling = 1e0 #1e2\n",
    "mu_0_scaling = 1e0\n",
    "\n",
    "scale_base_units(base, eps_0_scaling, mu_0_scaling, electron_mass_scaling, charge_scaling)\n",
    "\n",
    "\n",
    "length = 1e0 #720.0847332647692\n",
    "number_density= 1e9 #6.44179e10\n",
    "B_flux= 50 #22.222\n",
    "temperature   = 1e6\n",
    "temperature_e = temperature\n",
    "temperature_p = temperature\n",
    "\n",
    "\n",
    "\n",
    "mu = ( (base.m_e + base.m_p)  / 2. ) /  base.m_u# assuming only protons and electrons\n",
    "mass_density = number_density * 2 * mu * base.m_u\n",
    "e_plasma = base.e * sqrt(4 * π * number_density / base.m_e)\n",
    "\n",
    "\n",
    "\n",
    "#----------- These always sets the following code units --------------\n",
    "#            rho=1, c=1, e_plasma=2pi\n",
    "mass_density_scale = mass_density\n",
    "time_scale         = 2 * pi / e_plasma\n",
    "length_scale       = base.c * time_scale#\n",
    "temperature_scale  = 1e0\n",
    "#----------------------------------------------------------------------\n",
    "\n",
    "length = length_scale\n",
    "\n",
    "\n",
    "scaling = ScalingCGS(base,\n",
    "                number_density, length, temperature, temperature_e, temperature_p, B_flux,\n",
    "                length_scale, mass_density_scale, time_scale, temperature_scale)\n",
    "ds = 4 / (32 * 32 )\n",
    "per_cell = 32\n",
    "\n",
    "set_macro_particle_weights(scaling, ds, per_cell);\n",
    "#print_all_CGS(scaling)\n",
    "print_basic_info(new_scaling)"
   ]
  },
  {
   "cell_type": "code",
   "execution_count": 21,
   "metadata": {},
   "outputs": [
    {
     "name": "stdout",
     "output_type": "stream",
     "text": [
      "lenght                 = 904.8851631947057\n",
      "number_density         = 1.0e9\n",
      "B                      = 50.0\n",
      "T                      = 1.0000000000000001e6\n",
      "\n",
      "length_scale           = 904.8851631947057\n",
      "mass_density_scale     = 1.7395267739199998e-15\n",
      "time_scale             = 3.0183720071927414e-7\n",
      "temperature_scale      = 1.0\n",
      "\n",
      "e_mass_scale           = 73.44610695040268\n",
      "charge_scaling         = 1.0\n",
      "eps_0_scaling          = 1.0\n",
      "mu_0_scaling           = 1.0\n"
     ]
    }
   ],
   "source": [
    "c_code = scaling.c_code\n",
    "B_code = scaling.B_flux_code\n",
    "p_code = scaling.pressure_code\n",
    "rho_code = scaling.mass_density_code\n",
    "debye_code = scaling.debye_len_code\n",
    "\n",
    "\n",
    "\n",
    "c_u = code_units(c_code, B_code, p_code, rho_code, debye_code)\n",
    "r_u = known_real_units(scaling.number_density_real)\n",
    "eps_0_scaling = 1e0\n",
    "charge_scaling = 1e0\n",
    "electron_proton_mass_ratio = scaling.m_p_real / scaling.m_e_real\n",
    "\n",
    "r_s = ratios_and_scaling(electron_proton_mass_ratio, eps_0_scaling, charge_scaling)\n",
    "\n",
    "\n",
    "new_scaling = find_real_units_CGS(c_u, r_u, r_s)\n",
    "print_basic_info(new_scaling)"
   ]
  }
 ],
 "metadata": {
  "kernelspec": {
   "display_name": "Julia 1.8.5",
   "language": "julia",
   "name": "julia-1.8"
  },
  "language_info": {
   "file_extension": ".jl",
   "mimetype": "application/julia",
   "name": "julia",
   "version": "1.8.5"
  }
 },
 "nbformat": 4,
 "nbformat_minor": 2
}
