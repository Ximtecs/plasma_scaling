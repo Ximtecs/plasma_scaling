{
 "cells": [
  {
   "cell_type": "code",
   "execution_count": null,
   "metadata": {},
   "outputs": [],
   "source": [
    "include(\"../code_to_real.jl\")"
   ]
  },
  {
   "cell_type": "markdown",
   "metadata": {},
   "source": [
    "# Example desription\n",
    "The example shows how to use the code to get scaling from a set of code units. \n",
    "The current implementation expets the magnetic field, speed of light, pressure, and mass density in code units. \n",
    "It then requires 1 additional length scale - either debye length of ion skin depth.\n",
    "The user have to give a \"guess\" to the number density - the other real units will be derived from this guess.\n",
    "Furthermore, the user must define the \"fudging\" of physical constants. \n",
    "\n",
    "WARNING - there is limited error handling so use with care"
   ]
  },
  {
   "cell_type": "code",
   "execution_count": null,
   "metadata": {},
   "outputs": [],
   "source": [
    "#---------------- The example is largely taken from Dahldorf et. al 2014 ---------------\n",
    "#   Here we define the parameters in CGS \n",
    "#---------------------------------------------------------------------------------------\n",
    "#---------------- define the code units ----------------\n",
    "c_code = 1.0                  # speed of light\n",
    "B_code = 0.05                 # magnetic field\n",
    "p_code = 0.0002               # pressure (Note - ideal gas law is used to convert to temperature / internal energi)\n",
    "rho_code = 1.0                # mass density in code units \n",
    "#-------------- define one code length which is also known (or can be derived) in real units ---------------\n",
    "#    in this case we define skin_depth=1.0 in code units, the unused value (debye) is set to some negative value\n",
    "debye_code = -1         # debye length\n",
    "skin_depth_code = 1.0   # ion skin depth\n",
    "#------------------------------------------------------\n",
    "c_u = code_units(c_code, B_code, p_code, rho_code, debye_code, skin_depth_code)\n",
    "#------------------------------------------------------\n",
    "#--------------- make some guess for the initial number density in real units ---------------\n",
    "#          The guess will be used to derive scaling\n",
    "number_density_real = 1e9 \n",
    "r_u = known_real_units(number_density_real)\n",
    "#-------------------------------------------------------------------------------------------\n",
    "#-------------------- define physical \"fudging\" ---------------------------------------------\n",
    "eps_0_scaling = 1e2             # adjust eps_0 -> adjust speed of light by sqrt(eps_0_scaling)\n",
    "charge_scaling = 1e0            # adjust the elementary charge\n",
    "electron_proton_mass_ratio = 20 # adjust the electron proton mass ratio -> done by increasing electron mass\n",
    "r_s = ratios_and_scaling(electron_proton_mass_ratio, eps_0_scaling, charge_scaling)\n",
    "#-------------------------------------------------------------------------------------------\n",
    "#--------------- get scaling --------------------------\n",
    "scaling = find_real_units_CGS(c_u, r_u, r_s)\n",
    "#--------------------------------------------------\n",
    "#--------------- set the cell size and number particles per cell #-------\n",
    "#--------- this is used to sanity check the scaling\n",
    "#--------- this allows to compare the cell size with the debye length and the number of particles in each debye \"sphere\"\n",
    "ds = 0.1         \n",
    "per_cell = 1024\n",
    "set_macro_particle_weights(scaling, ds, per_cell)\n",
    "#---------------------------------´\n",
    "#--------------- print information -------------------\n",
    "print_basic_info(scaling) # gives information needed to adjust input.nml for DISPATCH\n",
    "print_all_CGS(scaling)     # gives general information on all relavant physical constants\n",
    "#----------------------------------------------------"
   ]
  },
  {
   "cell_type": "code",
   "execution_count": null,
   "metadata": {},
   "outputs": [],
   "source": [
    "#---------------- The example is largely taken from Dahldorf et. al 2014 ---------------\n",
    "#   Here we define the parameters in HL - note the 4pi difference from CGS\n",
    "#---------------------------------------------------------------------------------------\n",
    "#---------------- define the code units ----------------\n",
    "c_code = 1.0                  # speed of light\n",
    "B_code = 0.05 / sqrt(4*pi)    # magnetic field\n",
    "p_code = 0.0002               # pressure (Note - ideal gas law is used to convert to temperature / internal energi)\n",
    "rho_code = 1.0                # mass density in code units \n",
    "#-------------- define one code length which is also known (or can be derived) in real units ---------------\n",
    "#    in this case we define skin_depth=1.0 in code units, the unused value (debye) is set to some negative value\n",
    "debye_code = -1         # debye length\n",
    "skin_depth_code = 1.0   # ion skin depth\n",
    "#------------------------------------------------------\n",
    "c_u = code_units(c_code, B_code, p_code, rho_code, debye_code, skin_depth_code)\n",
    "#------------------------------------------------------\n",
    "#--------------- make some guess for the initial number density in real units ---------------\n",
    "#          The guess will be used to derive scaling\n",
    "number_density_real = 1e9 \n",
    "r_u = known_real_units(number_density_real)\n",
    "#-------------------------------------------------------------------------------------------\n",
    "#-------------------- define physical \"fudging\" ---------------------------------------------\n",
    "eps_0_scaling = 1e2             # adjust eps_0 -> adjust speed of light by sqrt(eps_0_scaling)\n",
    "charge_scaling = 1e0            # adjust the elementary charge\n",
    "electron_proton_mass_ratio = 20 # adjust the electron proton mass ratio -> done by increasing electron mass\n",
    "r_s = ratios_and_scaling(electron_proton_mass_ratio, eps_0_scaling, charge_scaling)\n",
    "#-------------------------------------------------------------------------------------------\n",
    "#--------------- get scaling --------------------------\n",
    "scaling = find_real_units_HL(c_u, r_u, r_s)\n",
    "#--------------------------------------------------\n",
    "#--------------- set the cell size and number particles per cell #-------\n",
    "#--------- this is used to sanity check the scaling\n",
    "#--------- this allows to compare the cell size with the debye length and the number of particles in each debye \"sphere\"\n",
    "ds = 0.1\n",
    "per_cell = 1024\n",
    "set_macro_particle_weights(scaling, ds, per_cell)\n",
    "#---------------------------------´\n",
    "#--------------- print information -------------------\n",
    "print_basic_info(scaling) # gives information needed to adjust input.nml for DISPATCH\n",
    "print_all_HL(scaling)     # gives general information on all relavant physical constants\n",
    "#----------------------------------------------------"
   ]
  }
 ],
 "metadata": {
  "kernelspec": {
   "display_name": "Julia 1.8.5",
   "language": "julia",
   "name": "julia-1.8"
  },
  "language_info": {
   "file_extension": ".jl",
   "mimetype": "application/julia",
   "name": "julia",
   "version": "1.8.5"
  }
 },
 "nbformat": 4,
 "nbformat_minor": 2
}
