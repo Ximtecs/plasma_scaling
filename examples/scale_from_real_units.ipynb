{
 "cells": [
  {
   "cell_type": "code",
   "execution_count": null,
   "metadata": {},
   "outputs": [],
   "source": [
    "include(\"../get_scale.jl\") # load "
   ]
  },
  {
   "cell_type": "markdown",
   "metadata": {},
   "source": [
    "# Example desription\n",
    "The example shows how to use the code to get scaling from a set of real units.  \n",
    "The code expects magnetic field strength, temperature, and either number density or mass density. \n",
    "It further requires to user to set the desired value of c in code units (c_code). \n",
    "The user must also define physical fudging values.\n",
    "\n",
    "Note that for this example, the alfven speed, gyro frequency, and gyro radius will differ from CGS and HL.\n",
    "This is because a B field of 10G is not equivalent in CGS and HL. \n",
    "For the same equivalent field strength the strength should be reduced by a factor sqrt(4pi) in HL (or increased similarly in CGS)\n",
    "\n",
    "WARNING - there is limited error handling so use with care"
   ]
  },
  {
   "cell_type": "code",
   "execution_count": null,
   "metadata": {},
   "outputs": [],
   "source": [
    "#------------------- Physical fudging values -----------\n",
    "eps_0_scaling = 1e2\n",
    "charge_scaling = 1e0\n",
    "electron_proton_mass_ratio = 20\n",
    "r_s = ratios_and_scaling(electron_proton_mass_ratio, eps_0_scaling, charge_scaling)\n",
    "#--------------------------------------------\n",
    "#------------- real values ----------------\n",
    "B = 10.0    # Magnetic field strength in Gauss\n",
    "T = 1e6     # Temperature in Kelvin\n",
    "    #------ set either number density or mass density positive. the other will be ignorde\n",
    "number_density = 1e9 # in cm^-3\n",
    "mass_density = -1.0  # in g/cm^3\n",
    "    #------------------------------------------\n",
    "real_units = real_unit_input(number_density, mass_density, B, T)\n",
    "#------------------------------------------\n",
    "#---------------- some code unit information ----------------\n",
    "c_code = 100.0  # speed of light in code units\n",
    "ds = 0.05       # cell size in code units\n",
    "per_cell = 128  # number of macro particles per cell\n",
    "#-------------------------------------------------------------\n",
    "#--------- scale type ----------------\n",
    "# 1: sets timescale so \\omega_{pe} = 2pi  in code units, then length scale so c=c_code\n",
    "# 2: sets lengthscale so ion_skin_depth=1, then timescale so c=c_code\n",
    "# 3: sets lengthscale so electron_skin_depth=1, then timescale so c=c_cod\n",
    "scale_type = 3\n",
    "#------------------------------------\n",
    "#---------------- get scaling in HL and CGS units ------------\n",
    "scaling_HL = get_scaleHL(r_s, real_units, c_code, ds, per_cell ,scale_type)\n",
    "scaling_CGS = get_scaleCGS(r_s, real_units, c_code, ds, per_cell,scale_type)\n",
    "#------------------------------------------------------------"
   ]
  },
  {
   "cell_type": "code",
   "execution_count": null,
   "metadata": {},
   "outputs": [],
   "source": [
    "print_basic_info(scaling_HL)\n",
    "print_all_HL(scaling_HL)"
   ]
  },
  {
   "cell_type": "code",
   "execution_count": null,
   "metadata": {},
   "outputs": [],
   "source": [
    "print_basic_info(scaling_CGS)\n",
    "print_all_CGS(scaling_CGS)"
   ]
  },
  {
   "cell_type": "code",
   "execution_count": null,
   "metadata": {},
   "outputs": [],
   "source": []
  }
 ],
 "metadata": {
  "kernelspec": {
   "display_name": "Julia 1.8.5",
   "language": "julia",
   "name": "julia-1.8"
  },
  "language_info": {
   "file_extension": ".jl",
   "mimetype": "application/julia",
   "name": "julia",
   "version": "1.8.5"
  }
 },
 "nbformat": 4,
 "nbformat_minor": 2
}
